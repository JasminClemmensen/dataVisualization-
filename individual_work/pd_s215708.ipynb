{
 "cells": [
  {
   "attachments": {},
   "cell_type": "markdown",
   "metadata": {},
   "source": [
    "# Introduction"
   ]
  },
  {
   "attachments": {},
   "cell_type": "markdown",
   "metadata": {},
   "source": [
    "Hopefully, this short tutorial can show you a lot of different commands that will help you gain the most insights into your dataset."
   ]
  },
  {
   "cell_type": "code",
   "execution_count": 2,
   "metadata": {
    "collapsed": true
   },
   "outputs": [],
   "source": [
    "import pandas as pd\n",
    "from src.utils import load_data_from_google_drive"
   ]
  },
  {
   "attachments": {},
   "cell_type": "markdown",
   "metadata": {},
   "source": [
    "# Loading in Data"
   ]
  },
  {
   "attachments": {},
   "cell_type": "markdown",
   "metadata": {},
   "source": [
    "The first step in any ML problem is identifying what format your data is in, and then loading it into whatever framework you're using. For Kaggle compeitions, a lot of data can be found in CSV files, so that's the example we're going to use."
   ]
  },
  {
   "attachments": {},
   "cell_type": "markdown",
   "metadata": {},
   "source": [
    "We're going to be looking at a sports dataset that shows the results from NCAA basketball games from 1985 to 2016. This dataset is in a CSV file, and the function we're going to use to read in the file is called **pd.read_csv()**. This function returns a **dataframe** variable. The dataframe is the golden jewel data structure for Pandas. It is defined as \"a two-dimensional size-mutable, potentially heterogeneous tabular data structure with labeled axes (rows and columns)\"."
   ]
  },
  {
   "attachments": {},
   "cell_type": "markdown",
   "metadata": {},
   "source": [
    "Just think of it as a table for now."
   ]
  },
  {
   "cell_type": "code",
   "execution_count": 3,
   "metadata": {
    "collapsed": false
   },
   "outputs": [],
   "source": [
    "df = load_data_from_google_drive(url='https://drive.google.com/file/d/184JcLbSpArA_uq0DgAv2k892KChJVPHt/view?usp=share_link')"
   ]
  },
  {
   "cell_type": "code",
   "execution_count": 4,
   "metadata": {},
   "outputs": [
    {
     "data": {
      "text/plain": "        Season  Daynum  Wteam  Wscore  Lteam  Lscore Wloc  Numot\n0         1985      20   1228      81   1328      64    N      0\n1         1985      25   1106      77   1354      70    H      0\n2         1985      25   1112      63   1223      56    H      0\n3         1985      25   1165      70   1432      54    H      0\n4         1985      25   1192      86   1447      74    H      0\n...        ...     ...    ...     ...    ...     ...  ...    ...\n145284    2016     132   1114      70   1419      50    N      0\n145285    2016     132   1163      72   1272      58    N      0\n145286    2016     132   1246      82   1401      77    N      1\n145287    2016     132   1277      66   1345      62    N      0\n145288    2016     132   1386      87   1433      74    N      0\n\n[145289 rows x 8 columns]",
      "text/html": "<div>\n<style scoped>\n    .dataframe tbody tr th:only-of-type {\n        vertical-align: middle;\n    }\n\n    .dataframe tbody tr th {\n        vertical-align: top;\n    }\n\n    .dataframe thead th {\n        text-align: right;\n    }\n</style>\n<table border=\"1\" class=\"dataframe\">\n  <thead>\n    <tr style=\"text-align: right;\">\n      <th></th>\n      <th>Season</th>\n      <th>Daynum</th>\n      <th>Wteam</th>\n      <th>Wscore</th>\n      <th>Lteam</th>\n      <th>Lscore</th>\n      <th>Wloc</th>\n      <th>Numot</th>\n    </tr>\n  </thead>\n  <tbody>\n    <tr>\n      <th>0</th>\n      <td>1985</td>\n      <td>20</td>\n      <td>1228</td>\n      <td>81</td>\n      <td>1328</td>\n      <td>64</td>\n      <td>N</td>\n      <td>0</td>\n    </tr>\n    <tr>\n      <th>1</th>\n      <td>1985</td>\n      <td>25</td>\n      <td>1106</td>\n      <td>77</td>\n      <td>1354</td>\n      <td>70</td>\n      <td>H</td>\n      <td>0</td>\n    </tr>\n    <tr>\n      <th>2</th>\n      <td>1985</td>\n      <td>25</td>\n      <td>1112</td>\n      <td>63</td>\n      <td>1223</td>\n      <td>56</td>\n      <td>H</td>\n      <td>0</td>\n    </tr>\n    <tr>\n      <th>3</th>\n      <td>1985</td>\n      <td>25</td>\n      <td>1165</td>\n      <td>70</td>\n      <td>1432</td>\n      <td>54</td>\n      <td>H</td>\n      <td>0</td>\n    </tr>\n    <tr>\n      <th>4</th>\n      <td>1985</td>\n      <td>25</td>\n      <td>1192</td>\n      <td>86</td>\n      <td>1447</td>\n      <td>74</td>\n      <td>H</td>\n      <td>0</td>\n    </tr>\n    <tr>\n      <th>...</th>\n      <td>...</td>\n      <td>...</td>\n      <td>...</td>\n      <td>...</td>\n      <td>...</td>\n      <td>...</td>\n      <td>...</td>\n      <td>...</td>\n    </tr>\n    <tr>\n      <th>145284</th>\n      <td>2016</td>\n      <td>132</td>\n      <td>1114</td>\n      <td>70</td>\n      <td>1419</td>\n      <td>50</td>\n      <td>N</td>\n      <td>0</td>\n    </tr>\n    <tr>\n      <th>145285</th>\n      <td>2016</td>\n      <td>132</td>\n      <td>1163</td>\n      <td>72</td>\n      <td>1272</td>\n      <td>58</td>\n      <td>N</td>\n      <td>0</td>\n    </tr>\n    <tr>\n      <th>145286</th>\n      <td>2016</td>\n      <td>132</td>\n      <td>1246</td>\n      <td>82</td>\n      <td>1401</td>\n      <td>77</td>\n      <td>N</td>\n      <td>1</td>\n    </tr>\n    <tr>\n      <th>145287</th>\n      <td>2016</td>\n      <td>132</td>\n      <td>1277</td>\n      <td>66</td>\n      <td>1345</td>\n      <td>62</td>\n      <td>N</td>\n      <td>0</td>\n    </tr>\n    <tr>\n      <th>145288</th>\n      <td>2016</td>\n      <td>132</td>\n      <td>1386</td>\n      <td>87</td>\n      <td>1433</td>\n      <td>74</td>\n      <td>N</td>\n      <td>0</td>\n    </tr>\n  </tbody>\n</table>\n<p>145289 rows × 8 columns</p>\n</div>"
     },
     "execution_count": 4,
     "metadata": {},
     "output_type": "execute_result"
    }
   ],
   "source": [
    "df"
   ]
  },
  {
   "attachments": {},
   "cell_type": "markdown",
   "metadata": {},
   "source": [
    "# The Basics"
   ]
  },
  {
   "attachments": {},
   "cell_type": "markdown",
   "metadata": {},
   "source": [
    "Now that we have our dataframe in our variable df, let's look at what it contains. We can use the function **head()** to see the first couple rows of the dataframe (or the function **tail()** to see the last few rows)."
   ]
  },
  {
   "cell_type": "code",
   "execution_count": 5,
   "metadata": {
    "collapsed": false
   },
   "outputs": [
    {
     "data": {
      "text/plain": "   Season  Daynum  Wteam  Wscore  Lteam  Lscore Wloc  Numot\n0    1985      20   1228      81   1328      64    N      0\n1    1985      25   1106      77   1354      70    H      0\n2    1985      25   1112      63   1223      56    H      0\n3    1985      25   1165      70   1432      54    H      0\n4    1985      25   1192      86   1447      74    H      0",
      "text/html": "<div>\n<style scoped>\n    .dataframe tbody tr th:only-of-type {\n        vertical-align: middle;\n    }\n\n    .dataframe tbody tr th {\n        vertical-align: top;\n    }\n\n    .dataframe thead th {\n        text-align: right;\n    }\n</style>\n<table border=\"1\" class=\"dataframe\">\n  <thead>\n    <tr style=\"text-align: right;\">\n      <th></th>\n      <th>Season</th>\n      <th>Daynum</th>\n      <th>Wteam</th>\n      <th>Wscore</th>\n      <th>Lteam</th>\n      <th>Lscore</th>\n      <th>Wloc</th>\n      <th>Numot</th>\n    </tr>\n  </thead>\n  <tbody>\n    <tr>\n      <th>0</th>\n      <td>1985</td>\n      <td>20</td>\n      <td>1228</td>\n      <td>81</td>\n      <td>1328</td>\n      <td>64</td>\n      <td>N</td>\n      <td>0</td>\n    </tr>\n    <tr>\n      <th>1</th>\n      <td>1985</td>\n      <td>25</td>\n      <td>1106</td>\n      <td>77</td>\n      <td>1354</td>\n      <td>70</td>\n      <td>H</td>\n      <td>0</td>\n    </tr>\n    <tr>\n      <th>2</th>\n      <td>1985</td>\n      <td>25</td>\n      <td>1112</td>\n      <td>63</td>\n      <td>1223</td>\n      <td>56</td>\n      <td>H</td>\n      <td>0</td>\n    </tr>\n    <tr>\n      <th>3</th>\n      <td>1985</td>\n      <td>25</td>\n      <td>1165</td>\n      <td>70</td>\n      <td>1432</td>\n      <td>54</td>\n      <td>H</td>\n      <td>0</td>\n    </tr>\n    <tr>\n      <th>4</th>\n      <td>1985</td>\n      <td>25</td>\n      <td>1192</td>\n      <td>86</td>\n      <td>1447</td>\n      <td>74</td>\n      <td>H</td>\n      <td>0</td>\n    </tr>\n  </tbody>\n</table>\n</div>"
     },
     "execution_count": 5,
     "metadata": {},
     "output_type": "execute_result"
    }
   ],
   "source": [
    "df.head()"
   ]
  },
  {
   "cell_type": "code",
   "execution_count": 6,
   "metadata": {
    "collapsed": false
   },
   "outputs": [
    {
     "data": {
      "text/plain": "        Season  Daynum  Wteam  Wscore  Lteam  Lscore Wloc  Numot\n145284    2016     132   1114      70   1419      50    N      0\n145285    2016     132   1163      72   1272      58    N      0\n145286    2016     132   1246      82   1401      77    N      1\n145287    2016     132   1277      66   1345      62    N      0\n145288    2016     132   1386      87   1433      74    N      0",
      "text/html": "<div>\n<style scoped>\n    .dataframe tbody tr th:only-of-type {\n        vertical-align: middle;\n    }\n\n    .dataframe tbody tr th {\n        vertical-align: top;\n    }\n\n    .dataframe thead th {\n        text-align: right;\n    }\n</style>\n<table border=\"1\" class=\"dataframe\">\n  <thead>\n    <tr style=\"text-align: right;\">\n      <th></th>\n      <th>Season</th>\n      <th>Daynum</th>\n      <th>Wteam</th>\n      <th>Wscore</th>\n      <th>Lteam</th>\n      <th>Lscore</th>\n      <th>Wloc</th>\n      <th>Numot</th>\n    </tr>\n  </thead>\n  <tbody>\n    <tr>\n      <th>145284</th>\n      <td>2016</td>\n      <td>132</td>\n      <td>1114</td>\n      <td>70</td>\n      <td>1419</td>\n      <td>50</td>\n      <td>N</td>\n      <td>0</td>\n    </tr>\n    <tr>\n      <th>145285</th>\n      <td>2016</td>\n      <td>132</td>\n      <td>1163</td>\n      <td>72</td>\n      <td>1272</td>\n      <td>58</td>\n      <td>N</td>\n      <td>0</td>\n    </tr>\n    <tr>\n      <th>145286</th>\n      <td>2016</td>\n      <td>132</td>\n      <td>1246</td>\n      <td>82</td>\n      <td>1401</td>\n      <td>77</td>\n      <td>N</td>\n      <td>1</td>\n    </tr>\n    <tr>\n      <th>145287</th>\n      <td>2016</td>\n      <td>132</td>\n      <td>1277</td>\n      <td>66</td>\n      <td>1345</td>\n      <td>62</td>\n      <td>N</td>\n      <td>0</td>\n    </tr>\n    <tr>\n      <th>145288</th>\n      <td>2016</td>\n      <td>132</td>\n      <td>1386</td>\n      <td>87</td>\n      <td>1433</td>\n      <td>74</td>\n      <td>N</td>\n      <td>0</td>\n    </tr>\n  </tbody>\n</table>\n</div>"
     },
     "execution_count": 6,
     "metadata": {},
     "output_type": "execute_result"
    }
   ],
   "source": [
    "df.tail()"
   ]
  },
  {
   "attachments": {},
   "cell_type": "markdown",
   "metadata": {},
   "source": [
    "We can see the dimensions of the dataframe using the the **shape** attribute"
   ]
  },
  {
   "cell_type": "code",
   "execution_count": 7,
   "metadata": {
    "collapsed": false
   },
   "outputs": [
    {
     "data": {
      "text/plain": "(145289, 8)"
     },
     "execution_count": 7,
     "metadata": {},
     "output_type": "execute_result"
    }
   ],
   "source": [
    "df.shape"
   ]
  },
  {
   "attachments": {},
   "cell_type": "markdown",
   "metadata": {
    "collapsed": true
   },
   "source": [
    "We can also extract all the column names as a list, by using the **columns** attribute and can extract the rows with the **index** attribute"
   ]
  },
  {
   "cell_type": "code",
   "execution_count": 8,
   "metadata": {
    "collapsed": false
   },
   "outputs": [
    {
     "data": {
      "text/plain": "['Season', 'Daynum', 'Wteam', 'Wscore', 'Lteam', 'Lscore', 'Wloc', 'Numot']"
     },
     "execution_count": 8,
     "metadata": {},
     "output_type": "execute_result"
    }
   ],
   "source": [
    "df.columns.tolist()"
   ]
  },
  {
   "attachments": {},
   "cell_type": "markdown",
   "metadata": {},
   "source": [
    "In order to get a better idea of the type of data that we are dealing with, we can call the **describe()** function to see statistics like mean, min, etc about each column of the dataset."
   ]
  },
  {
   "cell_type": "code",
   "execution_count": 9,
   "metadata": {
    "collapsed": false
   },
   "outputs": [
    {
     "data": {
      "text/plain": "              Season         Daynum          Wteam         Wscore  \\\ncount  145289.000000  145289.000000  145289.000000  145289.000000   \nmean     2001.574834      75.223816    1286.720646      76.600321   \nstd         9.233342      33.287418     104.570275      12.173033   \nmin      1985.000000       0.000000    1101.000000      34.000000   \n25%      1994.000000      47.000000    1198.000000      68.000000   \n50%      2002.000000      78.000000    1284.000000      76.000000   \n75%      2010.000000     103.000000    1379.000000      84.000000   \nmax      2016.000000     132.000000    1464.000000     186.000000   \n\n               Lteam         Lscore          Numot  \ncount  145289.000000  145289.000000  145289.000000  \nmean     1282.864064      64.497009       0.044387  \nstd       104.829234      11.380625       0.247819  \nmin      1101.000000      20.000000       0.000000  \n25%      1191.000000      57.000000       0.000000  \n50%      1280.000000      64.000000       0.000000  \n75%      1375.000000      72.000000       0.000000  \nmax      1464.000000     150.000000       6.000000  ",
      "text/html": "<div>\n<style scoped>\n    .dataframe tbody tr th:only-of-type {\n        vertical-align: middle;\n    }\n\n    .dataframe tbody tr th {\n        vertical-align: top;\n    }\n\n    .dataframe thead th {\n        text-align: right;\n    }\n</style>\n<table border=\"1\" class=\"dataframe\">\n  <thead>\n    <tr style=\"text-align: right;\">\n      <th></th>\n      <th>Season</th>\n      <th>Daynum</th>\n      <th>Wteam</th>\n      <th>Wscore</th>\n      <th>Lteam</th>\n      <th>Lscore</th>\n      <th>Numot</th>\n    </tr>\n  </thead>\n  <tbody>\n    <tr>\n      <th>count</th>\n      <td>145289.000000</td>\n      <td>145289.000000</td>\n      <td>145289.000000</td>\n      <td>145289.000000</td>\n      <td>145289.000000</td>\n      <td>145289.000000</td>\n      <td>145289.000000</td>\n    </tr>\n    <tr>\n      <th>mean</th>\n      <td>2001.574834</td>\n      <td>75.223816</td>\n      <td>1286.720646</td>\n      <td>76.600321</td>\n      <td>1282.864064</td>\n      <td>64.497009</td>\n      <td>0.044387</td>\n    </tr>\n    <tr>\n      <th>std</th>\n      <td>9.233342</td>\n      <td>33.287418</td>\n      <td>104.570275</td>\n      <td>12.173033</td>\n      <td>104.829234</td>\n      <td>11.380625</td>\n      <td>0.247819</td>\n    </tr>\n    <tr>\n      <th>min</th>\n      <td>1985.000000</td>\n      <td>0.000000</td>\n      <td>1101.000000</td>\n      <td>34.000000</td>\n      <td>1101.000000</td>\n      <td>20.000000</td>\n      <td>0.000000</td>\n    </tr>\n    <tr>\n      <th>25%</th>\n      <td>1994.000000</td>\n      <td>47.000000</td>\n      <td>1198.000000</td>\n      <td>68.000000</td>\n      <td>1191.000000</td>\n      <td>57.000000</td>\n      <td>0.000000</td>\n    </tr>\n    <tr>\n      <th>50%</th>\n      <td>2002.000000</td>\n      <td>78.000000</td>\n      <td>1284.000000</td>\n      <td>76.000000</td>\n      <td>1280.000000</td>\n      <td>64.000000</td>\n      <td>0.000000</td>\n    </tr>\n    <tr>\n      <th>75%</th>\n      <td>2010.000000</td>\n      <td>103.000000</td>\n      <td>1379.000000</td>\n      <td>84.000000</td>\n      <td>1375.000000</td>\n      <td>72.000000</td>\n      <td>0.000000</td>\n    </tr>\n    <tr>\n      <th>max</th>\n      <td>2016.000000</td>\n      <td>132.000000</td>\n      <td>1464.000000</td>\n      <td>186.000000</td>\n      <td>1464.000000</td>\n      <td>150.000000</td>\n      <td>6.000000</td>\n    </tr>\n  </tbody>\n</table>\n</div>"
     },
     "execution_count": 9,
     "metadata": {},
     "output_type": "execute_result"
    }
   ],
   "source": [
    "df.describe()"
   ]
  },
  {
   "attachments": {},
   "cell_type": "markdown",
   "metadata": {},
   "source": [
    "Okay, so now let's looking at information that we want to extract from the dataframe. Let's say I wanted to know the max value of a certain column. The function **max()** will show you the maximum values of all columns"
   ]
  },
  {
   "cell_type": "code",
   "execution_count": 10,
   "metadata": {
    "collapsed": false
   },
   "outputs": [
    {
     "data": {
      "text/plain": "Season    2016\nDaynum     132\nWteam     1464\nWscore     186\nLteam     1464\nLscore     150\nWloc         N\nNumot        6\ndtype: object"
     },
     "execution_count": 10,
     "metadata": {},
     "output_type": "execute_result"
    }
   ],
   "source": [
    "df.max()"
   ]
  },
  {
   "attachments": {},
   "cell_type": "markdown",
   "metadata": {},
   "source": [
    "Then, if you'd like to specifically get the max value for a particular column, you pass in the name of the column using the bracket indexing operator"
   ]
  },
  {
   "cell_type": "code",
   "execution_count": 11,
   "metadata": {
    "collapsed": false
   },
   "outputs": [
    {
     "data": {
      "text/plain": "186"
     },
     "execution_count": 11,
     "metadata": {},
     "output_type": "execute_result"
    }
   ],
   "source": [
    "df['Wscore'].max()"
   ]
  },
  {
   "attachments": {},
   "cell_type": "markdown",
   "metadata": {},
   "source": [
    "If you'd like to find the mean of the Losing teams' score."
   ]
  },
  {
   "cell_type": "code",
   "execution_count": 12,
   "metadata": {
    "collapsed": false
   },
   "outputs": [
    {
     "data": {
      "text/plain": "64.49700940883343"
     },
     "execution_count": 12,
     "metadata": {},
     "output_type": "execute_result"
    }
   ],
   "source": [
    "df['Lscore'].mean()"
   ]
  },
  {
   "attachments": {},
   "cell_type": "markdown",
   "metadata": {},
   "source": [
    "But what if that's not enough? Let's say we want to actually see the game(row) where this max score happened. We can call the **argmax()** function to identify the row index"
   ]
  },
  {
   "cell_type": "code",
   "execution_count": 13,
   "metadata": {
    "collapsed": false
   },
   "outputs": [
    {
     "data": {
      "text/plain": "24970"
     },
     "execution_count": 13,
     "metadata": {},
     "output_type": "execute_result"
    }
   ],
   "source": [
    "df['Wscore'].argmax()"
   ]
  },
  {
   "attachments": {},
   "cell_type": "markdown",
   "metadata": {},
   "source": [
    "One of the most useful functions that you can call on certain columns in a dataframe is the **value_counts()** function. It shows how many times each item appears in the column. This particular command shows the number of games in each season"
   ]
  },
  {
   "cell_type": "code",
   "execution_count": 14,
   "metadata": {
    "collapsed": false
   },
   "outputs": [
    {
     "data": {
      "text/plain": "Season\n2016    5369\n2014    5362\n2015    5354\n2013    5320\n2010    5263\n2012    5253\n2009    5249\n2011    5246\n2008    5163\n2007    5043\n2006    4757\n2005    4675\n2003    4616\n2004    4571\n2002    4555\n2000    4519\n2001    4467\n1999    4222\n1998    4167\n1997    4155\n1992    4127\n1991    4123\n1996    4122\n1995    4077\n1994    4060\n1990    4045\n1989    4037\n1993    3982\n1988    3955\n1987    3915\n1986    3783\n1985    3737\nName: count, dtype: int64"
     },
     "execution_count": 14,
     "metadata": {},
     "output_type": "execute_result"
    }
   ],
   "source": [
    "df['Season'].value_counts()"
   ]
  },
  {
   "attachments": {},
   "cell_type": "markdown",
   "metadata": {},
   "source": [
    "**Q**: How many unique seasons are there in the dataset? Use the nunique() function."
   ]
  },
  {
   "cell_type": "code",
   "execution_count": 15,
   "metadata": {},
   "outputs": [
    {
     "data": {
      "text/plain": "32"
     },
     "execution_count": 15,
     "metadata": {},
     "output_type": "execute_result"
    }
   ],
   "source": [
    "# Write your code here\n",
    "df[\"Season\"].nunique()"
   ]
  },
  {
   "attachments": {},
   "cell_type": "markdown",
   "metadata": {},
   "source": [
    "**Q**: Find the team with the most wins. Use the value_counts() function on the Wteam column."
   ]
  },
  {
   "cell_type": "code",
   "execution_count": 62,
   "metadata": {},
   "outputs": [
    {
     "data": {
      "text/plain": "Wteam\n1181    819\nName: count, dtype: int64"
     },
     "execution_count": 62,
     "metadata": {},
     "output_type": "execute_result"
    }
   ],
   "source": [
    "# Write your code here\n",
    "df[\"Wteam\"].value_counts().head(1)"
   ]
  },
  {
   "attachments": {},
   "cell_type": "markdown",
   "metadata": {},
   "source": [
    "# Acessing Values"
   ]
  },
  {
   "attachments": {},
   "cell_type": "markdown",
   "metadata": {},
   "source": [
    "Then, in order to get attributes about the game, we need to use the **iloc[]** function. Iloc is definitely one of the more important functions. The main idea is that you want to use it whenever you have the integer index of a certain row that you want to access. As per Pandas documentation, iloc is an \"integer-location based indexing for selection by position.\""
   ]
  },
  {
   "cell_type": "code",
   "execution_count": 17,
   "metadata": {
    "collapsed": false
   },
   "outputs": [
    {
     "data": {
      "text/plain": "       Season  Daynum  Wteam  Wscore  Lteam  Lscore Wloc  Numot\n24970    1991      68   1258     186   1109     140    H      0",
      "text/html": "<div>\n<style scoped>\n    .dataframe tbody tr th:only-of-type {\n        vertical-align: middle;\n    }\n\n    .dataframe tbody tr th {\n        vertical-align: top;\n    }\n\n    .dataframe thead th {\n        text-align: right;\n    }\n</style>\n<table border=\"1\" class=\"dataframe\">\n  <thead>\n    <tr style=\"text-align: right;\">\n      <th></th>\n      <th>Season</th>\n      <th>Daynum</th>\n      <th>Wteam</th>\n      <th>Wscore</th>\n      <th>Lteam</th>\n      <th>Lscore</th>\n      <th>Wloc</th>\n      <th>Numot</th>\n    </tr>\n  </thead>\n  <tbody>\n    <tr>\n      <th>24970</th>\n      <td>1991</td>\n      <td>68</td>\n      <td>1258</td>\n      <td>186</td>\n      <td>1109</td>\n      <td>140</td>\n      <td>H</td>\n      <td>0</td>\n    </tr>\n  </tbody>\n</table>\n</div>"
     },
     "execution_count": 17,
     "metadata": {},
     "output_type": "execute_result"
    }
   ],
   "source": [
    "df.iloc[[df['Wscore'].argmax()]]"
   ]
  },
  {
   "attachments": {},
   "cell_type": "markdown",
   "metadata": {},
   "source": [
    "Let's take this a step further. Let's say you want to know the game with the highest scoring winning team (this is what we just calculated), but you then want to know how many points the losing team scored."
   ]
  },
  {
   "cell_type": "code",
   "execution_count": 18,
   "metadata": {
    "collapsed": false
   },
   "outputs": [
    {
     "data": {
      "text/plain": "24970    140\nName: Lscore, dtype: int64"
     },
     "execution_count": 18,
     "metadata": {},
     "output_type": "execute_result"
    }
   ],
   "source": [
    "df.iloc[[df['Wscore'].argmax()]]['Lscore']"
   ]
  },
  {
   "attachments": {},
   "cell_type": "markdown",
   "metadata": {},
   "source": [
    "When you see data displayed in the above format, you're dealing with a Pandas **Series** object, not a dataframe object."
   ]
  },
  {
   "cell_type": "code",
   "execution_count": 19,
   "metadata": {
    "collapsed": false
   },
   "outputs": [
    {
     "data": {
      "text/plain": "pandas.core.series.Series"
     },
     "execution_count": 19,
     "metadata": {},
     "output_type": "execute_result"
    }
   ],
   "source": [
    "type(df.iloc[[df['Wscore'].argmax()]]['Lscore'])"
   ]
  },
  {
   "cell_type": "code",
   "execution_count": 20,
   "metadata": {
    "collapsed": false
   },
   "outputs": [
    {
     "data": {
      "text/plain": "pandas.core.frame.DataFrame"
     },
     "execution_count": 20,
     "metadata": {},
     "output_type": "execute_result"
    }
   ],
   "source": [
    "type(df.iloc[[df['Wscore'].argmax()]])"
   ]
  },
  {
   "attachments": {},
   "cell_type": "markdown",
   "metadata": {},
   "source": [
    "The following is a summary of the 3 data structures in Pandas (Haven't ever really used Panels yet)\n",
    "\n",
    "![](DataStructures.png)"
   ]
  },
  {
   "attachments": {},
   "cell_type": "markdown",
   "metadata": {},
   "source": [
    "When you want to access values in a Series, you'll want to just treat the Series like a Python dictionary, so you'd access the value according to its key (which is normally an integer index)"
   ]
  },
  {
   "cell_type": "code",
   "execution_count": 21,
   "metadata": {
    "collapsed": false
   },
   "outputs": [
    {
     "data": {
      "text/plain": "140"
     },
     "execution_count": 21,
     "metadata": {},
     "output_type": "execute_result"
    }
   ],
   "source": [
    "df.iloc[[df['Wscore'].argmax()]]['Lscore'][24970]"
   ]
  },
  {
   "attachments": {},
   "cell_type": "markdown",
   "metadata": {},
   "source": [
    "The other really important function in Pandas is the **loc** function. Contrary to iloc, which is an integer based indexing, loc is a \"Purely label-location based indexer for selection by label\". Since all the games are ordered from 0 to 145288, iloc and loc are going to be pretty interchangable in this type of dataset"
   ]
  },
  {
   "cell_type": "code",
   "execution_count": 22,
   "metadata": {
    "collapsed": false
   },
   "outputs": [
    {
     "data": {
      "text/plain": "   Season  Daynum  Wteam  Wscore  Lteam  Lscore Wloc  Numot\n0    1985      20   1228      81   1328      64    N      0\n1    1985      25   1106      77   1354      70    H      0\n2    1985      25   1112      63   1223      56    H      0",
      "text/html": "<div>\n<style scoped>\n    .dataframe tbody tr th:only-of-type {\n        vertical-align: middle;\n    }\n\n    .dataframe tbody tr th {\n        vertical-align: top;\n    }\n\n    .dataframe thead th {\n        text-align: right;\n    }\n</style>\n<table border=\"1\" class=\"dataframe\">\n  <thead>\n    <tr style=\"text-align: right;\">\n      <th></th>\n      <th>Season</th>\n      <th>Daynum</th>\n      <th>Wteam</th>\n      <th>Wscore</th>\n      <th>Lteam</th>\n      <th>Lscore</th>\n      <th>Wloc</th>\n      <th>Numot</th>\n    </tr>\n  </thead>\n  <tbody>\n    <tr>\n      <th>0</th>\n      <td>1985</td>\n      <td>20</td>\n      <td>1228</td>\n      <td>81</td>\n      <td>1328</td>\n      <td>64</td>\n      <td>N</td>\n      <td>0</td>\n    </tr>\n    <tr>\n      <th>1</th>\n      <td>1985</td>\n      <td>25</td>\n      <td>1106</td>\n      <td>77</td>\n      <td>1354</td>\n      <td>70</td>\n      <td>H</td>\n      <td>0</td>\n    </tr>\n    <tr>\n      <th>2</th>\n      <td>1985</td>\n      <td>25</td>\n      <td>1112</td>\n      <td>63</td>\n      <td>1223</td>\n      <td>56</td>\n      <td>H</td>\n      <td>0</td>\n    </tr>\n  </tbody>\n</table>\n</div>"
     },
     "execution_count": 22,
     "metadata": {},
     "output_type": "execute_result"
    }
   ],
   "source": [
    "df.iloc[:3]"
   ]
  },
  {
   "cell_type": "code",
   "execution_count": 23,
   "metadata": {
    "collapsed": false
   },
   "outputs": [
    {
     "data": {
      "text/plain": "   Season  Daynum  Wteam  Wscore  Lteam  Lscore Wloc  Numot\n0    1985      20   1228      81   1328      64    N      0\n1    1985      25   1106      77   1354      70    H      0\n2    1985      25   1112      63   1223      56    H      0\n3    1985      25   1165      70   1432      54    H      0",
      "text/html": "<div>\n<style scoped>\n    .dataframe tbody tr th:only-of-type {\n        vertical-align: middle;\n    }\n\n    .dataframe tbody tr th {\n        vertical-align: top;\n    }\n\n    .dataframe thead th {\n        text-align: right;\n    }\n</style>\n<table border=\"1\" class=\"dataframe\">\n  <thead>\n    <tr style=\"text-align: right;\">\n      <th></th>\n      <th>Season</th>\n      <th>Daynum</th>\n      <th>Wteam</th>\n      <th>Wscore</th>\n      <th>Lteam</th>\n      <th>Lscore</th>\n      <th>Wloc</th>\n      <th>Numot</th>\n    </tr>\n  </thead>\n  <tbody>\n    <tr>\n      <th>0</th>\n      <td>1985</td>\n      <td>20</td>\n      <td>1228</td>\n      <td>81</td>\n      <td>1328</td>\n      <td>64</td>\n      <td>N</td>\n      <td>0</td>\n    </tr>\n    <tr>\n      <th>1</th>\n      <td>1985</td>\n      <td>25</td>\n      <td>1106</td>\n      <td>77</td>\n      <td>1354</td>\n      <td>70</td>\n      <td>H</td>\n      <td>0</td>\n    </tr>\n    <tr>\n      <th>2</th>\n      <td>1985</td>\n      <td>25</td>\n      <td>1112</td>\n      <td>63</td>\n      <td>1223</td>\n      <td>56</td>\n      <td>H</td>\n      <td>0</td>\n    </tr>\n    <tr>\n      <th>3</th>\n      <td>1985</td>\n      <td>25</td>\n      <td>1165</td>\n      <td>70</td>\n      <td>1432</td>\n      <td>54</td>\n      <td>H</td>\n      <td>0</td>\n    </tr>\n  </tbody>\n</table>\n</div>"
     },
     "execution_count": 23,
     "metadata": {},
     "output_type": "execute_result"
    }
   ],
   "source": [
    "df.loc[:3]"
   ]
  },
  {
   "attachments": {},
   "cell_type": "markdown",
   "metadata": {},
   "source": [
    "Notice the slight difference in that iloc is exclusive of the second number, while loc is inclusive."
   ]
  },
  {
   "attachments": {},
   "cell_type": "markdown",
   "metadata": {},
   "source": [
    "Below is an example of how you can use loc to acheive the same task as we did previously with iloc"
   ]
  },
  {
   "cell_type": "code",
   "execution_count": 24,
   "metadata": {
    "collapsed": false
   },
   "outputs": [
    {
     "data": {
      "text/plain": "140"
     },
     "execution_count": 24,
     "metadata": {},
     "output_type": "execute_result"
    }
   ],
   "source": [
    "df.loc[df['Wscore'].argmax(), 'Lscore']"
   ]
  },
  {
   "attachments": {},
   "cell_type": "markdown",
   "metadata": {},
   "source": [
    "A faster version uses the **at()** function. At() is really useful wheneever you know the row label and the column label of the particular value that you want to get."
   ]
  },
  {
   "cell_type": "code",
   "execution_count": 25,
   "metadata": {
    "collapsed": false
   },
   "outputs": [
    {
     "data": {
      "text/plain": "140"
     },
     "execution_count": 25,
     "metadata": {},
     "output_type": "execute_result"
    }
   ],
   "source": [
    "df.at[df['Wscore'].argmax(), 'Lscore']"
   ]
  },
  {
   "attachments": {},
   "cell_type": "markdown",
   "metadata": {},
   "source": [
    "If you'd like to see more discussion on how loc and iloc are different, check out this great Stack Overflow post: http://stackoverflow.com/questions/31593201/pandas-iloc-vs-ix-vs-loc-explanation. Just remember that **iloc looks at position** and **loc looks at labels**. Loc becomes very important when your row labels aren't integers."
   ]
  },
  {
   "attachments": {},
   "cell_type": "markdown",
   "metadata": {},
   "source": [
    "# Sorting"
   ]
  },
  {
   "attachments": {},
   "cell_type": "markdown",
   "metadata": {},
   "source": [
    "Let's say that we want to sort the dataframe in increasing order for the scores of the losing team"
   ]
  },
  {
   "cell_type": "code",
   "execution_count": 26,
   "metadata": {
    "collapsed": false,
    "scrolled": true
   },
   "outputs": [
    {
     "data": {
      "text/plain": "        Season  Daynum  Wteam  Wscore  Lteam  Lscore Wloc  Numot\n100027    2008      66   1203      49   1387      20    H      0\n49310     1997      66   1157      61   1204      21    H      0\n89021     2006      44   1284      41   1343      21    A      0\n85042     2005      66   1131      73   1216      22    H      0\n103660    2009      26   1326      59   1359      22    H      0",
      "text/html": "<div>\n<style scoped>\n    .dataframe tbody tr th:only-of-type {\n        vertical-align: middle;\n    }\n\n    .dataframe tbody tr th {\n        vertical-align: top;\n    }\n\n    .dataframe thead th {\n        text-align: right;\n    }\n</style>\n<table border=\"1\" class=\"dataframe\">\n  <thead>\n    <tr style=\"text-align: right;\">\n      <th></th>\n      <th>Season</th>\n      <th>Daynum</th>\n      <th>Wteam</th>\n      <th>Wscore</th>\n      <th>Lteam</th>\n      <th>Lscore</th>\n      <th>Wloc</th>\n      <th>Numot</th>\n    </tr>\n  </thead>\n  <tbody>\n    <tr>\n      <th>100027</th>\n      <td>2008</td>\n      <td>66</td>\n      <td>1203</td>\n      <td>49</td>\n      <td>1387</td>\n      <td>20</td>\n      <td>H</td>\n      <td>0</td>\n    </tr>\n    <tr>\n      <th>49310</th>\n      <td>1997</td>\n      <td>66</td>\n      <td>1157</td>\n      <td>61</td>\n      <td>1204</td>\n      <td>21</td>\n      <td>H</td>\n      <td>0</td>\n    </tr>\n    <tr>\n      <th>89021</th>\n      <td>2006</td>\n      <td>44</td>\n      <td>1284</td>\n      <td>41</td>\n      <td>1343</td>\n      <td>21</td>\n      <td>A</td>\n      <td>0</td>\n    </tr>\n    <tr>\n      <th>85042</th>\n      <td>2005</td>\n      <td>66</td>\n      <td>1131</td>\n      <td>73</td>\n      <td>1216</td>\n      <td>22</td>\n      <td>H</td>\n      <td>0</td>\n    </tr>\n    <tr>\n      <th>103660</th>\n      <td>2009</td>\n      <td>26</td>\n      <td>1326</td>\n      <td>59</td>\n      <td>1359</td>\n      <td>22</td>\n      <td>H</td>\n      <td>0</td>\n    </tr>\n  </tbody>\n</table>\n</div>"
     },
     "execution_count": 26,
     "metadata": {},
     "output_type": "execute_result"
    }
   ],
   "source": [
    "df.sort_values('Lscore').head()"
   ]
  },
  {
   "attachments": {},
   "cell_type": "markdown",
   "metadata": {},
   "source": [
    "**Q**: Make three dataframes that are sorted by season, winning team, and winning score respectively. Then, Using iloc, select the rows from index 100 to 200 and the columns for season, winning team, and winning score, respectively."
   ]
  },
  {
   "cell_type": "code",
   "execution_count": 64,
   "metadata": {},
   "outputs": [],
   "source": [
    "# Write your code here\n",
    "# I itereate over the relevant column names and sort by them. Iloc is from 100 to 201 to get the element in position 200 included\n",
    "season, win_team, win_score = [df.sort_values(x).iloc[100:201] for x in [\"Season\", \"Wteam\", \"Wscore\"]]"
   ]
  },
  {
   "attachments": {},
   "cell_type": "markdown",
   "metadata": {},
   "source": [
    "**Q**: From these three subsets you obtained above, find the season and winning team for the game with the highest winning score."
   ]
  },
  {
   "cell_type": "code",
   "execution_count": 69,
   "metadata": {},
   "outputs": [
    {
     "data": {
      "text/plain": "        Season  Daynum  Wteam  Wscore  Lteam  Lscore Wloc  Numot  \\\n99013     2008      33   1460      43   1139      42    H      0   \n126840    2013      77   1366      43   1126      40    H      0   \n126982    2013      80   1442      43   1236      40    A      0   \n15619     1989      30   1343      43   1159      33    H      0   \n122700    2012     103   1349      43   1374      39    H      0   \n...        ...     ...    ...     ...    ...     ...  ...    ...   \n123294    2012     117   1192      45   1383      44    H      0   \n135433    2015      26   1438      45   1353      26    N      0   \n72338     2002      90   1443      45   1117      42    H      0   \n135808    2015      36   1185      45   1276      42    A      0   \n129196    2013     131   1380      45   1341      44    N      0   \n\n       HighScoringGame  \n99013               No  \n126840              No  \n126982              No  \n15619               No  \n122700              No  \n...                ...  \n123294              No  \n135433              No  \n72338               No  \n135808              No  \n129196              No  \n\n[100 rows x 9 columns]",
      "text/html": "<div>\n<style scoped>\n    .dataframe tbody tr th:only-of-type {\n        vertical-align: middle;\n    }\n\n    .dataframe tbody tr th {\n        vertical-align: top;\n    }\n\n    .dataframe thead th {\n        text-align: right;\n    }\n</style>\n<table border=\"1\" class=\"dataframe\">\n  <thead>\n    <tr style=\"text-align: right;\">\n      <th></th>\n      <th>Season</th>\n      <th>Daynum</th>\n      <th>Wteam</th>\n      <th>Wscore</th>\n      <th>Lteam</th>\n      <th>Lscore</th>\n      <th>Wloc</th>\n      <th>Numot</th>\n      <th>HighScoringGame</th>\n    </tr>\n  </thead>\n  <tbody>\n    <tr>\n      <th>99013</th>\n      <td>2008</td>\n      <td>33</td>\n      <td>1460</td>\n      <td>43</td>\n      <td>1139</td>\n      <td>42</td>\n      <td>H</td>\n      <td>0</td>\n      <td>No</td>\n    </tr>\n    <tr>\n      <th>126840</th>\n      <td>2013</td>\n      <td>77</td>\n      <td>1366</td>\n      <td>43</td>\n      <td>1126</td>\n      <td>40</td>\n      <td>H</td>\n      <td>0</td>\n      <td>No</td>\n    </tr>\n    <tr>\n      <th>126982</th>\n      <td>2013</td>\n      <td>80</td>\n      <td>1442</td>\n      <td>43</td>\n      <td>1236</td>\n      <td>40</td>\n      <td>A</td>\n      <td>0</td>\n      <td>No</td>\n    </tr>\n    <tr>\n      <th>15619</th>\n      <td>1989</td>\n      <td>30</td>\n      <td>1343</td>\n      <td>43</td>\n      <td>1159</td>\n      <td>33</td>\n      <td>H</td>\n      <td>0</td>\n      <td>No</td>\n    </tr>\n    <tr>\n      <th>122700</th>\n      <td>2012</td>\n      <td>103</td>\n      <td>1349</td>\n      <td>43</td>\n      <td>1374</td>\n      <td>39</td>\n      <td>H</td>\n      <td>0</td>\n      <td>No</td>\n    </tr>\n    <tr>\n      <th>...</th>\n      <td>...</td>\n      <td>...</td>\n      <td>...</td>\n      <td>...</td>\n      <td>...</td>\n      <td>...</td>\n      <td>...</td>\n      <td>...</td>\n      <td>...</td>\n    </tr>\n    <tr>\n      <th>123294</th>\n      <td>2012</td>\n      <td>117</td>\n      <td>1192</td>\n      <td>45</td>\n      <td>1383</td>\n      <td>44</td>\n      <td>H</td>\n      <td>0</td>\n      <td>No</td>\n    </tr>\n    <tr>\n      <th>135433</th>\n      <td>2015</td>\n      <td>26</td>\n      <td>1438</td>\n      <td>45</td>\n      <td>1353</td>\n      <td>26</td>\n      <td>N</td>\n      <td>0</td>\n      <td>No</td>\n    </tr>\n    <tr>\n      <th>72338</th>\n      <td>2002</td>\n      <td>90</td>\n      <td>1443</td>\n      <td>45</td>\n      <td>1117</td>\n      <td>42</td>\n      <td>H</td>\n      <td>0</td>\n      <td>No</td>\n    </tr>\n    <tr>\n      <th>135808</th>\n      <td>2015</td>\n      <td>36</td>\n      <td>1185</td>\n      <td>45</td>\n      <td>1276</td>\n      <td>42</td>\n      <td>A</td>\n      <td>0</td>\n      <td>No</td>\n    </tr>\n    <tr>\n      <th>129196</th>\n      <td>2013</td>\n      <td>131</td>\n      <td>1380</td>\n      <td>45</td>\n      <td>1341</td>\n      <td>44</td>\n      <td>N</td>\n      <td>0</td>\n      <td>No</td>\n    </tr>\n  </tbody>\n</table>\n<p>100 rows × 9 columns</p>\n</div>"
     },
     "execution_count": 69,
     "metadata": {},
     "output_type": "execute_result"
    }
   ],
   "source": [
    "# Write your code here\n",
    "#I get the max value in the subset by taking the last element\n",
    "win_score.head(-1)"
   ]
  },
  {
   "attachments": {},
   "cell_type": "markdown",
   "metadata": {},
   "source": [
    "# Filtering Rows Conditionally"
   ]
  },
  {
   "attachments": {},
   "cell_type": "markdown",
   "metadata": {},
   "source": [
    "Now, let's say we want to find all of the rows that satisy a particular condition. For example, I want to find all of the games where the winning team scored more than 150 points. The idea behind this command is you want to access the column 'Wscore' of the dataframe df (df['Wscore']), find which entries are above 150 (df['Wscore'] > 150), and then returns only those specific rows in a dataframe format (df[df['Wscore'] > 150])."
   ]
  },
  {
   "cell_type": "code",
   "execution_count": 29,
   "metadata": {
    "collapsed": false
   },
   "outputs": [
    {
     "data": {
      "text/plain": "       Season  Daynum  Wteam  Wscore  Lteam  Lscore Wloc  Numot\n5269     1986      75   1258     151   1109     107    H      0\n12046    1988      40   1328     152   1147      84    H      0\n12355    1988      52   1328     151   1173      99    N      0\n16040    1989      40   1328     152   1331     122    H      0\n16853    1989      68   1258     162   1109     144    A      0\n17867    1989      92   1258     181   1109     150    H      0\n19653    1990      30   1328     173   1109     101    H      0\n19971    1990      38   1258     152   1109     137    A      0\n20022    1990      40   1116     166   1109     101    H      0\n22145    1990      97   1258     157   1362     115    H      0\n23582    1991      26   1318     152   1258     123    N      0\n24341    1991      47   1328     172   1258     112    H      0\n24970    1991      68   1258     186   1109     140    H      0\n25656    1991      84   1106     151   1212      97    H      0\n28687    1992      54   1261     159   1319      86    H      0\n35023    1993     112   1380     155   1341      91    A      0\n40060    1995      32   1375     156   1341     114    H      0\n52600    1998      33   1395     153   1410      87    H      0",
      "text/html": "<div>\n<style scoped>\n    .dataframe tbody tr th:only-of-type {\n        vertical-align: middle;\n    }\n\n    .dataframe tbody tr th {\n        vertical-align: top;\n    }\n\n    .dataframe thead th {\n        text-align: right;\n    }\n</style>\n<table border=\"1\" class=\"dataframe\">\n  <thead>\n    <tr style=\"text-align: right;\">\n      <th></th>\n      <th>Season</th>\n      <th>Daynum</th>\n      <th>Wteam</th>\n      <th>Wscore</th>\n      <th>Lteam</th>\n      <th>Lscore</th>\n      <th>Wloc</th>\n      <th>Numot</th>\n    </tr>\n  </thead>\n  <tbody>\n    <tr>\n      <th>5269</th>\n      <td>1986</td>\n      <td>75</td>\n      <td>1258</td>\n      <td>151</td>\n      <td>1109</td>\n      <td>107</td>\n      <td>H</td>\n      <td>0</td>\n    </tr>\n    <tr>\n      <th>12046</th>\n      <td>1988</td>\n      <td>40</td>\n      <td>1328</td>\n      <td>152</td>\n      <td>1147</td>\n      <td>84</td>\n      <td>H</td>\n      <td>0</td>\n    </tr>\n    <tr>\n      <th>12355</th>\n      <td>1988</td>\n      <td>52</td>\n      <td>1328</td>\n      <td>151</td>\n      <td>1173</td>\n      <td>99</td>\n      <td>N</td>\n      <td>0</td>\n    </tr>\n    <tr>\n      <th>16040</th>\n      <td>1989</td>\n      <td>40</td>\n      <td>1328</td>\n      <td>152</td>\n      <td>1331</td>\n      <td>122</td>\n      <td>H</td>\n      <td>0</td>\n    </tr>\n    <tr>\n      <th>16853</th>\n      <td>1989</td>\n      <td>68</td>\n      <td>1258</td>\n      <td>162</td>\n      <td>1109</td>\n      <td>144</td>\n      <td>A</td>\n      <td>0</td>\n    </tr>\n    <tr>\n      <th>17867</th>\n      <td>1989</td>\n      <td>92</td>\n      <td>1258</td>\n      <td>181</td>\n      <td>1109</td>\n      <td>150</td>\n      <td>H</td>\n      <td>0</td>\n    </tr>\n    <tr>\n      <th>19653</th>\n      <td>1990</td>\n      <td>30</td>\n      <td>1328</td>\n      <td>173</td>\n      <td>1109</td>\n      <td>101</td>\n      <td>H</td>\n      <td>0</td>\n    </tr>\n    <tr>\n      <th>19971</th>\n      <td>1990</td>\n      <td>38</td>\n      <td>1258</td>\n      <td>152</td>\n      <td>1109</td>\n      <td>137</td>\n      <td>A</td>\n      <td>0</td>\n    </tr>\n    <tr>\n      <th>20022</th>\n      <td>1990</td>\n      <td>40</td>\n      <td>1116</td>\n      <td>166</td>\n      <td>1109</td>\n      <td>101</td>\n      <td>H</td>\n      <td>0</td>\n    </tr>\n    <tr>\n      <th>22145</th>\n      <td>1990</td>\n      <td>97</td>\n      <td>1258</td>\n      <td>157</td>\n      <td>1362</td>\n      <td>115</td>\n      <td>H</td>\n      <td>0</td>\n    </tr>\n    <tr>\n      <th>23582</th>\n      <td>1991</td>\n      <td>26</td>\n      <td>1318</td>\n      <td>152</td>\n      <td>1258</td>\n      <td>123</td>\n      <td>N</td>\n      <td>0</td>\n    </tr>\n    <tr>\n      <th>24341</th>\n      <td>1991</td>\n      <td>47</td>\n      <td>1328</td>\n      <td>172</td>\n      <td>1258</td>\n      <td>112</td>\n      <td>H</td>\n      <td>0</td>\n    </tr>\n    <tr>\n      <th>24970</th>\n      <td>1991</td>\n      <td>68</td>\n      <td>1258</td>\n      <td>186</td>\n      <td>1109</td>\n      <td>140</td>\n      <td>H</td>\n      <td>0</td>\n    </tr>\n    <tr>\n      <th>25656</th>\n      <td>1991</td>\n      <td>84</td>\n      <td>1106</td>\n      <td>151</td>\n      <td>1212</td>\n      <td>97</td>\n      <td>H</td>\n      <td>0</td>\n    </tr>\n    <tr>\n      <th>28687</th>\n      <td>1992</td>\n      <td>54</td>\n      <td>1261</td>\n      <td>159</td>\n      <td>1319</td>\n      <td>86</td>\n      <td>H</td>\n      <td>0</td>\n    </tr>\n    <tr>\n      <th>35023</th>\n      <td>1993</td>\n      <td>112</td>\n      <td>1380</td>\n      <td>155</td>\n      <td>1341</td>\n      <td>91</td>\n      <td>A</td>\n      <td>0</td>\n    </tr>\n    <tr>\n      <th>40060</th>\n      <td>1995</td>\n      <td>32</td>\n      <td>1375</td>\n      <td>156</td>\n      <td>1341</td>\n      <td>114</td>\n      <td>H</td>\n      <td>0</td>\n    </tr>\n    <tr>\n      <th>52600</th>\n      <td>1998</td>\n      <td>33</td>\n      <td>1395</td>\n      <td>153</td>\n      <td>1410</td>\n      <td>87</td>\n      <td>H</td>\n      <td>0</td>\n    </tr>\n  </tbody>\n</table>\n</div>"
     },
     "execution_count": 29,
     "metadata": {},
     "output_type": "execute_result"
    }
   ],
   "source": [
    "df[df['Wscore'] > 150]"
   ]
  },
  {
   "attachments": {},
   "cell_type": "markdown",
   "metadata": {},
   "source": [
    "This also works if you have multiple conditions. Let's say we want to find out when the winning team scores more than 150 points and when the losing team scores below 100."
   ]
  },
  {
   "cell_type": "code",
   "execution_count": 30,
   "metadata": {
    "collapsed": false
   },
   "outputs": [
    {
     "data": {
      "text/plain": "       Season  Daynum  Wteam  Wscore  Lteam  Lscore Wloc  Numot\n12046    1988      40   1328     152   1147      84    H      0\n12355    1988      52   1328     151   1173      99    N      0\n25656    1991      84   1106     151   1212      97    H      0\n28687    1992      54   1261     159   1319      86    H      0\n35023    1993     112   1380     155   1341      91    A      0\n52600    1998      33   1395     153   1410      87    H      0",
      "text/html": "<div>\n<style scoped>\n    .dataframe tbody tr th:only-of-type {\n        vertical-align: middle;\n    }\n\n    .dataframe tbody tr th {\n        vertical-align: top;\n    }\n\n    .dataframe thead th {\n        text-align: right;\n    }\n</style>\n<table border=\"1\" class=\"dataframe\">\n  <thead>\n    <tr style=\"text-align: right;\">\n      <th></th>\n      <th>Season</th>\n      <th>Daynum</th>\n      <th>Wteam</th>\n      <th>Wscore</th>\n      <th>Lteam</th>\n      <th>Lscore</th>\n      <th>Wloc</th>\n      <th>Numot</th>\n    </tr>\n  </thead>\n  <tbody>\n    <tr>\n      <th>12046</th>\n      <td>1988</td>\n      <td>40</td>\n      <td>1328</td>\n      <td>152</td>\n      <td>1147</td>\n      <td>84</td>\n      <td>H</td>\n      <td>0</td>\n    </tr>\n    <tr>\n      <th>12355</th>\n      <td>1988</td>\n      <td>52</td>\n      <td>1328</td>\n      <td>151</td>\n      <td>1173</td>\n      <td>99</td>\n      <td>N</td>\n      <td>0</td>\n    </tr>\n    <tr>\n      <th>25656</th>\n      <td>1991</td>\n      <td>84</td>\n      <td>1106</td>\n      <td>151</td>\n      <td>1212</td>\n      <td>97</td>\n      <td>H</td>\n      <td>0</td>\n    </tr>\n    <tr>\n      <th>28687</th>\n      <td>1992</td>\n      <td>54</td>\n      <td>1261</td>\n      <td>159</td>\n      <td>1319</td>\n      <td>86</td>\n      <td>H</td>\n      <td>0</td>\n    </tr>\n    <tr>\n      <th>35023</th>\n      <td>1993</td>\n      <td>112</td>\n      <td>1380</td>\n      <td>155</td>\n      <td>1341</td>\n      <td>91</td>\n      <td>A</td>\n      <td>0</td>\n    </tr>\n    <tr>\n      <th>52600</th>\n      <td>1998</td>\n      <td>33</td>\n      <td>1395</td>\n      <td>153</td>\n      <td>1410</td>\n      <td>87</td>\n      <td>H</td>\n      <td>0</td>\n    </tr>\n  </tbody>\n</table>\n</div>"
     },
     "execution_count": 30,
     "metadata": {},
     "output_type": "execute_result"
    }
   ],
   "source": [
    "df[(df['Wscore'] > 150) & (df['Lscore'] < 100)]"
   ]
  },
  {
   "attachments": {},
   "cell_type": "markdown",
   "metadata": {},
   "source": [
    "**Q**: Create a new column in the DataFrame called 'ScoreDifference' which is the absolute difference between the winning score and the losing score. Filter the DataFrame to only include games where the 'ScoreDifference' is greater than the average 'ScoreDifference' for all games."
   ]
  },
  {
   "cell_type": "code",
   "execution_count": 78,
   "metadata": {},
   "outputs": [],
   "source": [
    "# Write your code here\n",
    "df[\"ScoreDifference\"] = df[\"Wscore\"] - df[\"Lscore\"]"
   ]
  },
  {
   "attachments": {},
   "cell_type": "markdown",
   "metadata": {},
   "source": [
    "**Q**: From this filtered DataFrame, find the season and teams involved in the game with the highest 'ScoreDifference'."
   ]
  },
  {
   "cell_type": "code",
   "execution_count": 84,
   "metadata": {},
   "outputs": [
    {
     "data": {
      "text/plain": "Season             1996\nDaynum               48\nWteam              1409\nWscore              141\nLteam              1341\nLscore               50\nWloc                  H\nNumot                 0\nHighScoringGame     Yes\nScoreDifference      91\nName: 44653, dtype: object"
     },
     "execution_count": 84,
     "metadata": {},
     "output_type": "execute_result"
    }
   ],
   "source": [
    "# Write your code here\n",
    "df.sort_values(\"ScoreDifference\").iloc[-1]"
   ]
  },
  {
   "attachments": {},
   "cell_type": "markdown",
   "metadata": {},
   "source": [
    "# Grouping"
   ]
  },
  {
   "attachments": {},
   "cell_type": "markdown",
   "metadata": {},
   "source": [
    "Another important function in Pandas is **groupby()**. This is a function that allows you to group entries by certain attributes (e.g Grouping entries by Wteam number) and then perform operations on them. The following function groups all the entries (games) with the same Wteam number and finds the mean for each group."
   ]
  },
  {
   "cell_type": "code",
   "execution_count": 33,
   "metadata": {
    "collapsed": false
   },
   "outputs": [
    {
     "data": {
      "text/plain": "Wteam\n1101    78.111111\n1102    69.893204\n1103    75.839768\n1104    75.825944\n1105    74.960894\nName: Wscore, dtype: float64"
     },
     "execution_count": 33,
     "metadata": {},
     "output_type": "execute_result"
    }
   ],
   "source": [
    "df.groupby('Wteam')['Wscore'].mean().head()"
   ]
  },
  {
   "attachments": {},
   "cell_type": "markdown",
   "metadata": {},
   "source": [
    "This next command groups all the games with the same Wteam number and finds where how many times that specific team won at home, on the road, or at a neutral site"
   ]
  },
  {
   "cell_type": "code",
   "execution_count": 34,
   "metadata": {
    "collapsed": false,
    "scrolled": false
   },
   "outputs": [
    {
     "data": {
      "text/plain": "Wteam  Wloc\n1101   H        12\n       N         3\n       A         3\n1102   H       204\n       A        73\n       N        32\n1103   H       324\n       A       153\n       N        41\nName: count, dtype: int64"
     },
     "execution_count": 34,
     "metadata": {},
     "output_type": "execute_result"
    }
   ],
   "source": [
    "df.groupby('Wteam')['Wloc'].value_counts().head(9)"
   ]
  },
  {
   "attachments": {},
   "cell_type": "markdown",
   "metadata": {},
   "source": [
    "Each dataframe has a **values** attribute which is useful because it basically displays your dataframe in a numpy array style format"
   ]
  },
  {
   "cell_type": "code",
   "execution_count": 35,
   "metadata": {
    "collapsed": false
   },
   "outputs": [
    {
     "data": {
      "text/plain": "array([[1985, 20, 1228, ..., 64, 'N', 0],\n       [1985, 25, 1106, ..., 70, 'H', 0],\n       [1985, 25, 1112, ..., 56, 'H', 0],\n       ...,\n       [2016, 132, 1246, ..., 77, 'N', 1],\n       [2016, 132, 1277, ..., 62, 'N', 0],\n       [2016, 132, 1386, ..., 74, 'N', 0]], dtype=object)"
     },
     "execution_count": 35,
     "metadata": {},
     "output_type": "execute_result"
    }
   ],
   "source": [
    "df.values"
   ]
  },
  {
   "attachments": {},
   "cell_type": "markdown",
   "metadata": {},
   "source": [
    "Now, you can simply just access elements like you would in an array."
   ]
  },
  {
   "cell_type": "code",
   "execution_count": 36,
   "metadata": {
    "collapsed": false
   },
   "outputs": [
    {
     "data": {
      "text/plain": "1985"
     },
     "execution_count": 36,
     "metadata": {},
     "output_type": "execute_result"
    }
   ],
   "source": [
    "df.values[0][0]"
   ]
  },
  {
   "attachments": {},
   "cell_type": "markdown",
   "metadata": {},
   "source": [
    "**Q**: Group the DataFrame by season and find the average winning score for each season."
   ]
  },
  {
   "cell_type": "code",
   "execution_count": 86,
   "metadata": {},
   "outputs": [
    {
     "data": {
      "text/plain": "Season\n1985    74.723040\n1986    74.813640\n1987    77.993870\n1988    79.773704\n1989    81.728511\n1990    80.846477\n1991    82.733932\n1992    79.992004\n1993    79.508790\n1994    81.160345\n1995    80.096149\n1996    78.205483\n1997    76.300842\n1998    77.229902\n1999    76.043581\n2000    76.310467\n2001    77.088650\n2002    76.963557\n2003    75.795061\n2004    74.971122\n2005    74.693690\n2006    74.587555\n2007    74.829467\n2008    74.962425\n2009    74.033721\n2010    74.652480\n2011    74.374190\n2012    73.379973\n2013    72.840789\n2014    76.101268\n2015    72.680799\n2016    78.295958\nName: Wscore, dtype: float64"
     },
     "execution_count": 86,
     "metadata": {},
     "output_type": "execute_result"
    }
   ],
   "source": [
    "# Write your code here\n",
    "df.groupby(\"Season\")[\"Wscore\"].mean()"
   ]
  },
  {
   "attachments": {},
   "cell_type": "markdown",
   "metadata": {},
   "source": [
    "**Q**: Group the DataFrame by winning team and find the maximum winning score for each team across all seasons."
   ]
  },
  {
   "cell_type": "code",
   "execution_count": 90,
   "metadata": {},
   "outputs": [
    {
     "data": {
      "text/plain": "Wteam        \n1101   137131     95\n1102   59820     111\n1103   16698     109\n1104   83801     114\n1105   73906     114\n                ... \n1460   32977     136\n1461   75872     112\n1462   12924     125\n1463   10334     105\n1464   9784      115\nName: Wscore, Length: 364, dtype: int64"
     },
     "execution_count": 90,
     "metadata": {},
     "output_type": "execute_result"
    }
   ],
   "source": [
    "# Write your code here\n",
    "df.groupby(\"Wteam\")[\"Wscore\"].nlargest(1)"
   ]
  },
  {
   "attachments": {},
   "cell_type": "markdown",
   "metadata": {},
   "source": [
    "**Q**: Group the DataFrame by both season and winning team. Find the team with the highest average winning score for each season."
   ]
  },
  {
   "cell_type": "code",
   "execution_count": 91,
   "metadata": {},
   "outputs": [
    {
     "data": {
      "text/plain": "Season\n1985    (1985, 1328)\n1986    (1986, 1109)\n1987    (1987, 1380)\n1988    (1988, 1258)\n1989    (1989, 1258)\n1990    (1990, 1258)\n1991    (1991, 1380)\n1992    (1992, 1380)\n1993    (1993, 1380)\n1994    (1994, 1380)\n1995    (1995, 1206)\n1996    (1996, 1206)\n1997    (1997, 1254)\n1998    (1998, 1395)\n1999    (1999, 1317)\n2000    (2000, 1395)\n2001    (2001, 1395)\n2002    (2002, 1242)\n2003    (2003, 1395)\n2004    (2004, 1194)\n2005    (2005, 1311)\n2006    (2006, 1190)\n2007    (2007, 1440)\n2008    (2008, 1440)\n2009    (2009, 1377)\n2010    (2010, 1440)\n2011    (2011, 1449)\n2012    (2012, 1370)\n2013    (2013, 1377)\n2014    (2014, 1322)\n2015    (2015, 1322)\n2016    (2016, 1146)\nName: Wscore, dtype: object"
     },
     "execution_count": 91,
     "metadata": {},
     "output_type": "execute_result"
    }
   ],
   "source": [
    "# Write your code here\n",
    "df.groupby([\"Season\", \"Wteam\"])[\"Wscore\"].mean().groupby(level=0).idxmax()"
   ]
  },
  {
   "attachments": {},
   "cell_type": "markdown",
   "metadata": {},
   "source": [
    "**Q**: Create a new DataFrame that counts the number of wins for each team in each season. This will involve grouping by both season and winning team, and then using the count() function."
   ]
  },
  {
   "cell_type": "code",
   "execution_count": 99,
   "metadata": {},
   "outputs": [
    {
     "data": {
      "text/plain": "Season  Wteam\n1985    1102      5\n        1103      9\n        1104     21\n        1106     10\n        1108     19\n                 ..\n2016    1460     20\n        1461     12\n        1462     27\n        1463     21\n        1464      9\nName: Wscore, Length: 10172, dtype: int64"
     },
     "execution_count": 99,
     "metadata": {},
     "output_type": "execute_result"
    }
   ],
   "source": [
    "# Write your code here\n",
    "df.groupby([\"Season\", \"Wteam\"]).count()[\"Wscore\"]"
   ]
  },
  {
   "attachments": {},
   "cell_type": "markdown",
   "metadata": {},
   "source": [
    "**Q**: For each season, find the team with the most wins. This will involve creating a DataFrame similar to the one in task 5, and then using the idxmax() function for each season."
   ]
  },
  {
   "cell_type": "code",
   "execution_count": 100,
   "metadata": {},
   "outputs": [
    {
     "data": {
      "text/plain": "Season\n1985    (1985, 1385)\n1986    (1986, 1181)\n1987    (1987, 1424)\n1988    (1988, 1112)\n1989    (1989, 1328)\n1990    (1990, 1247)\n1991    (1991, 1116)\n1992    (1992, 1181)\n1993    (1993, 1231)\n1994    (1994, 1163)\n1995    (1995, 1116)\n1996    (1996, 1269)\n1997    (1997, 1242)\n1998    (1998, 1242)\n1999    (1999, 1181)\n2000    (2000, 1409)\n2001    (2001, 1181)\n2002    (2002, 1153)\n2003    (2003, 1166)\n2004    (2004, 1390)\n2005    (2005, 1228)\n2006    (2006, 1181)\n2007    (2007, 1242)\n2008    (2008, 1272)\n2009    (2009, 1272)\n2010    (2010, 1242)\n2011    (2011, 1242)\n2012    (2012, 1246)\n2013    (2013, 1211)\n2014    (2014, 1455)\n2015    (2015, 1246)\n2016    (2016, 1242)\nName: Wscore, dtype: object"
     },
     "execution_count": 100,
     "metadata": {},
     "output_type": "execute_result"
    }
   ],
   "source": [
    "# Write your code here\n",
    "df.groupby([\"Season\", \"Wteam\"])[\"Wscore\"].count().groupby(level=0).idxmax()"
   ]
  },
  {
   "attachments": {},
   "cell_type": "markdown",
   "metadata": {},
   "source": [
    "**Q**: Group the DataFrame by losing team and find the average losing score for each team across all seasons. Compare this with the average winning score for each team from task 3. Are there teams that have a higher average losing score than winning score?"
   ]
  },
  {
   "cell_type": "code",
   "execution_count": 102,
   "metadata": {},
   "outputs": [
    {
     "data": {
      "text/plain": "Wteam\n1101    17.524904\n1102    10.691697\n1103    11.722421\n1104    11.451627\n1105    13.285521\n          ...    \n1460    12.448554\n1461    10.508110\n1462    11.689903\n1463    10.890888\n1464     8.738993\nLength: 364, dtype: float64"
     },
     "execution_count": 102,
     "metadata": {},
     "output_type": "execute_result"
    }
   ],
   "source": [
    "# Write your code here\n",
    "# I calculate the difference and since no differences are less than 0 I conclude that no team has a losing score than winning score on average\n",
    "\n",
    "df.groupby(\"Wteam\")[\"Wscore\"].mean()- df.groupby(\"Lteam\")[\"Lscore\"].mean()"
   ]
  },
  {
   "attachments": {},
   "cell_type": "markdown",
   "metadata": {},
   "source": [
    "# Dataframe Iteration"
   ]
  },
  {
   "attachments": {},
   "cell_type": "markdown",
   "metadata": {},
   "source": [
    "In order to iterate through dataframes, we can use the **iterrows()** function. Below is an example of what the first two rows look like. Each row in iterrows is a Series object"
   ]
  },
  {
   "cell_type": "code",
   "execution_count": 43,
   "metadata": {
    "collapsed": false
   },
   "outputs": [
    {
     "name": "stdout",
     "output_type": "stream",
     "text": [
      "Season    1985\n",
      "Daynum      20\n",
      "Wteam     1228\n",
      "Wscore      81\n",
      "Lteam     1328\n",
      "Lscore      64\n",
      "Wloc         N\n",
      "Numot        0\n",
      "Name: 0, dtype: object\n",
      "Season    1985\n",
      "Daynum      25\n",
      "Wteam     1106\n",
      "Wscore      77\n",
      "Lteam     1354\n",
      "Lscore      70\n",
      "Wloc         H\n",
      "Numot        0\n",
      "Name: 1, dtype: object\n"
     ]
    }
   ],
   "source": [
    "for index, row in df.iterrows():\n",
    "    print(row)\n",
    "    if index == 1:\n",
    "        break"
   ]
  },
  {
   "attachments": {},
   "cell_type": "markdown",
   "metadata": {},
   "source": [
    "**Q**: Create a new column 'HighScoringGame' that is 'Yes' if the winning score is greater than 100 and 'No' otherwise. This will require iterating over the rows of the DataFrame and checking the value of the winning score for each row."
   ]
  },
  {
   "cell_type": "code",
   "execution_count": 106,
   "metadata": {},
   "outputs": [
    {
     "data": {
      "text/plain": "        Season HighScoringGame  Daynum  Wteam  Wscore  Lteam  Lscore Wloc  \\\n0         1985              No      20   1228      81   1328      64    N   \n1         1985              No      25   1106      77   1354      70    H   \n2         1985              No      25   1112      63   1223      56    H   \n3         1985              No      25   1165      70   1432      54    H   \n4         1985              No      25   1192      86   1447      74    H   \n...        ...             ...     ...    ...     ...    ...     ...  ...   \n145284    2016              No     132   1114      70   1419      50    N   \n145285    2016              No     132   1163      72   1272      58    N   \n145286    2016              No     132   1246      82   1401      77    N   \n145287    2016              No     132   1277      66   1345      62    N   \n145288    2016              No     132   1386      87   1433      74    N   \n\n        Numot  ScoreDifference  \n0           0               17  \n1           0                7  \n2           0                7  \n3           0               16  \n4           0               12  \n...       ...              ...  \n145284      0               20  \n145285      0               14  \n145286      1                5  \n145287      0                4  \n145288      0               13  \n\n[145289 rows x 10 columns]",
      "text/html": "<div>\n<style scoped>\n    .dataframe tbody tr th:only-of-type {\n        vertical-align: middle;\n    }\n\n    .dataframe tbody tr th {\n        vertical-align: top;\n    }\n\n    .dataframe thead th {\n        text-align: right;\n    }\n</style>\n<table border=\"1\" class=\"dataframe\">\n  <thead>\n    <tr style=\"text-align: right;\">\n      <th></th>\n      <th>Season</th>\n      <th>HighScoringGame</th>\n      <th>Daynum</th>\n      <th>Wteam</th>\n      <th>Wscore</th>\n      <th>Lteam</th>\n      <th>Lscore</th>\n      <th>Wloc</th>\n      <th>Numot</th>\n      <th>ScoreDifference</th>\n    </tr>\n  </thead>\n  <tbody>\n    <tr>\n      <th>0</th>\n      <td>1985</td>\n      <td>No</td>\n      <td>20</td>\n      <td>1228</td>\n      <td>81</td>\n      <td>1328</td>\n      <td>64</td>\n      <td>N</td>\n      <td>0</td>\n      <td>17</td>\n    </tr>\n    <tr>\n      <th>1</th>\n      <td>1985</td>\n      <td>No</td>\n      <td>25</td>\n      <td>1106</td>\n      <td>77</td>\n      <td>1354</td>\n      <td>70</td>\n      <td>H</td>\n      <td>0</td>\n      <td>7</td>\n    </tr>\n    <tr>\n      <th>2</th>\n      <td>1985</td>\n      <td>No</td>\n      <td>25</td>\n      <td>1112</td>\n      <td>63</td>\n      <td>1223</td>\n      <td>56</td>\n      <td>H</td>\n      <td>0</td>\n      <td>7</td>\n    </tr>\n    <tr>\n      <th>3</th>\n      <td>1985</td>\n      <td>No</td>\n      <td>25</td>\n      <td>1165</td>\n      <td>70</td>\n      <td>1432</td>\n      <td>54</td>\n      <td>H</td>\n      <td>0</td>\n      <td>16</td>\n    </tr>\n    <tr>\n      <th>4</th>\n      <td>1985</td>\n      <td>No</td>\n      <td>25</td>\n      <td>1192</td>\n      <td>86</td>\n      <td>1447</td>\n      <td>74</td>\n      <td>H</td>\n      <td>0</td>\n      <td>12</td>\n    </tr>\n    <tr>\n      <th>...</th>\n      <td>...</td>\n      <td>...</td>\n      <td>...</td>\n      <td>...</td>\n      <td>...</td>\n      <td>...</td>\n      <td>...</td>\n      <td>...</td>\n      <td>...</td>\n      <td>...</td>\n    </tr>\n    <tr>\n      <th>145284</th>\n      <td>2016</td>\n      <td>No</td>\n      <td>132</td>\n      <td>1114</td>\n      <td>70</td>\n      <td>1419</td>\n      <td>50</td>\n      <td>N</td>\n      <td>0</td>\n      <td>20</td>\n    </tr>\n    <tr>\n      <th>145285</th>\n      <td>2016</td>\n      <td>No</td>\n      <td>132</td>\n      <td>1163</td>\n      <td>72</td>\n      <td>1272</td>\n      <td>58</td>\n      <td>N</td>\n      <td>0</td>\n      <td>14</td>\n    </tr>\n    <tr>\n      <th>145286</th>\n      <td>2016</td>\n      <td>No</td>\n      <td>132</td>\n      <td>1246</td>\n      <td>82</td>\n      <td>1401</td>\n      <td>77</td>\n      <td>N</td>\n      <td>1</td>\n      <td>5</td>\n    </tr>\n    <tr>\n      <th>145287</th>\n      <td>2016</td>\n      <td>No</td>\n      <td>132</td>\n      <td>1277</td>\n      <td>66</td>\n      <td>1345</td>\n      <td>62</td>\n      <td>N</td>\n      <td>0</td>\n      <td>4</td>\n    </tr>\n    <tr>\n      <th>145288</th>\n      <td>2016</td>\n      <td>No</td>\n      <td>132</td>\n      <td>1386</td>\n      <td>87</td>\n      <td>1433</td>\n      <td>74</td>\n      <td>N</td>\n      <td>0</td>\n      <td>13</td>\n    </tr>\n  </tbody>\n</table>\n<p>145289 rows × 10 columns</p>\n</div>"
     },
     "execution_count": 106,
     "metadata": {},
     "output_type": "execute_result"
    }
   ],
   "source": [
    "# Write your code here\n",
    "highGame = [\"No\" for _ in range(0, len(df))]\n",
    "for index, row in df.iterrows():\n",
    "    if row[\"Wscore\"] > 100:\n",
    "        highGame[index] = \"Yes\"\n",
    "df['HighScoringGame'] = highGame\n",
    "df"
   ]
  },
  {
   "attachments": {},
   "cell_type": "markdown",
   "metadata": {},
   "source": [
    "**Q**: Calculate the total number of games played by each team, whether they won or lost. This will require iterating over the rows of the DataFrame and updating a dictionary that keeps track of the number of games for each team."
   ]
  },
  {
   "cell_type": "code",
   "execution_count": 113,
   "metadata": {},
   "outputs": [
    {
     "data": {
      "text/plain": "{'1328 win': 673,\n '1328 loss': 295,\n '1354 win': 437,\n '1354 loss': 469,\n '1223 win': 120,\n '1223 loss': 243,\n '1432 win': 28,\n '1432 loss': 41,\n '1447 win': 425,\n '1447 loss': 478,\n '1337 win': 472,\n '1337 loss': 450,\n '1226 win': 297,\n '1226 loss': 550,\n '1268 win': 605,\n '1268 loss': 364,\n '1133 win': 473,\n '1133 loss': 476,\n '1424 win': 685,\n '1424 loss': 289,\n '1288 win': 329,\n '1288 loss': 596,\n '1438 win': 568,\n '1438 loss': 384,\n '1411 win': 414,\n '1411 loss': 489,\n '1397 win': 546,\n '1397 loss': 417,\n '1225 win': 390,\n '1225 loss': 490,\n '1368 win': 295,\n '1368 loss': 513,\n '1391 win': 341,\n '1391 loss': 538,\n '1306 win': 279,\n '1306 loss': 619,\n '1388 win': 506,\n '1388 loss': 391,\n '1184 win': 388,\n '1184 loss': 475,\n '1159 win': 333,\n '1159 loss': 554,\n '1216 win': 382,\n '1216 loss': 548,\n '1134 win': 50,\n '1134 loss': 150,\n '1296 win': 349,\n '1296 loss': 530,\n '1265 win': 420,\n '1265 loss': 514,\n '1416 win': 411,\n '1416 loss': 470,\n '1137 win': 524,\n '1137 loss': 388,\n '1149 win': 320,\n '1149 loss': 504,\n '1102 win': 309,\n '1102 loss': 531,\n '1114 win': 501,\n '1114 loss': 409,\n '1332 win': 508,\n '1332 loss': 419,\n '1317 win': 367,\n '1317 loss': 516,\n '1231 win': 631,\n '1231 loss': 338,\n '1145 win': 423,\n '1145 loss': 511,\n '1453 win': 512,\n '1453 loss': 400,\n '1186 win': 328,\n '1186 loss': 521,\n '1144 win': 307,\n '1144 loss': 543,\n '1384 win': 330,\n '1384 loss': 557,\n '1248 win': 389,\n '1248 loss': 507,\n '1287 win': 356,\n '1287 loss': 501,\n '1334 win': 458,\n '1334 loss': 441,\n '1417 win': 655,\n '1417 loss': 311,\n '1126 win': 303,\n '1126 loss': 603,\n '1152 win': 205,\n '1152 loss': 660,\n '1228 win': 660,\n '1228 loss': 332,\n '1347 win': 405,\n '1347 loss': 453,\n '1428 win': 591,\n '1428 loss': 340,\n '1436 win': 483,\n '1436 loss': 428,\n '1172 win': 507,\n '1172 loss': 372,\n '1330 win': 564,\n '1330 loss': 399,\n '1121 win': 48,\n '1121 loss': 127,\n '1249 win': 380,\n '1249 loss': 493,\n '1440 win': 281,\n '1440 loss': 544,\n '1200 win': 360,\n '1200 loss': 562,\n '1264 win': 456,\n '1264 loss': 472,\n '1242 win': 804,\n '1242 loss': 189,\n '1455 win': 540,\n '1455 loss': 407,\n '1414 win': 418,\n '1414 loss': 504,\n '1387 win': 529,\n '1387 loss': 427,\n '1183 win': 370,\n '1183 loss': 501,\n '1211 win': 663,\n '1211 loss': 258,\n '1284 win': 440,\n '1284 loss': 492,\n '1402 win': 337,\n '1402 loss': 510,\n '1178 win': 442,\n '1178 loss': 478,\n '1364 win': 482,\n '1364 loss': 408,\n '1290 win': 365,\n '1290 loss': 510,\n '1202 win': 342,\n '1202 loss': 514,\n '1180 win': 526,\n '1180 loss': 404,\n '1155 win': 535,\n '1155 loss': 415,\n '1258 win': 352,\n '1258 loss': 546,\n '1192 win': 425,\n '1192 loss': 483,\n '1341 win': 212,\n '1341 loss': 645,\n '1135 win': 322,\n '1135 loss': 525,\n '1254 win': 377,\n '1254 loss': 521,\n '1151 win': 513,\n '1151 loss': 386,\n '1220 win': 471,\n '1220 loss': 462,\n '1405 win': 450,\n '1405 loss': 471,\n '1238 win': 412,\n '1238 loss': 508,\n '1431 win': 572,\n '1431 loss': 365,\n '1253 win': 449,\n '1253 loss': 466,\n '1363 win': 277,\n '1363 loss': 612,\n '1270 win': 370,\n '1270 loss': 491,\n '1331 win': 426,\n '1331 loss': 383,\n '1434 win': 484,\n '1434 loss': 418,\n '1365 win': 460,\n '1365 loss': 447,\n '1442 win': 305,\n '1442 loss': 535,\n '1456 win': 336,\n '1456 loss': 555,\n '1227 win': 409,\n '1227 loss': 508,\n '1406 win': 378,\n '1406 loss': 548,\n '1260 win': 383,\n '1260 loss': 531,\n '1117 win': 439,\n '1117 loss': 452,\n '1163 win': 679,\n '1163 loss': 298,\n '1305 win': 506,\n '1305 loss': 416,\n '1247 win': 475,\n '1247 loss': 468,\n '1165 win': 357,\n '1165 loss': 476,\n '1418 win': 480,\n '1418 loss': 432,\n '1281 win': 613,\n '1281 loss': 364,\n '1109 win': 42,\n '1109 loss': 127,\n '1309 win': 440,\n '1309 loss': 400,\n '1321 win': 345,\n '1321 loss': 567,\n '1285 win': 518,\n '1285 loss': 347,\n '1271 win': 227,\n '1271 loss': 660,\n '1351 win': 478,\n '1351 loss': 451,\n '1267 win': 463,\n '1267 loss': 446,\n '1373 win': 544,\n '1373 loss': 406,\n '1322 win': 366,\n '1322 loss': 488,\n '1187 win': 337,\n '1187 loss': 524,\n '1245 win': 542,\n '1245 loss': 385,\n '1150 win': 518,\n '1150 loss': 424,\n '1409 win': 604,\n '1409 loss': 362,\n '1141 win': 321,\n '1141 loss': 551,\n '1412 win': 594,\n '1412 loss': 368,\n '1221 win': 479,\n '1221 loss': 450,\n '1122 win': 437,\n '1122 loss': 466,\n '1199 win': 531,\n '1199 loss': 418,\n '1399 win': 399,\n '1399 loss': 461,\n '1197 win': 329,\n '1197 loss': 567,\n '1140 win': 627,\n '1140 loss': 338,\n '1444 win': 457,\n '1444 loss': 459,\n '1398 win': 320,\n '1398 loss': 550,\n '1162 win': 314,\n '1162 loss': 517,\n '1239 win': 383,\n '1239 loss': 508,\n '1218 win': 486,\n '1218 loss': 445,\n '1349 win': 347,\n '1349 loss': 541,\n '1222 win': 482,\n '1222 loss': 448,\n '1383 win': 383,\n '1383 loss': 515,\n '1379 win': 460,\n '1379 loss': 436,\n '1463 win': 393,\n '1463 loss': 445,\n '1259 win': 358,\n '1259 loss': 555,\n '1423 win': 471,\n '1423 loss': 460,\n '1123 win': 477,\n '1123 loss': 429,\n '1106 win': 394,\n '1106 loss': 461,\n '1441 win': 318,\n '1441 loss': 536,\n '1292 win': 489,\n '1292 loss': 399,\n '1209 win': 401,\n '1209 loss': 490,\n '1375 win': 466,\n '1375 loss': 430,\n '1336 win': 441,\n '1336 loss': 485,\n '1344 win': 525,\n '1344 loss': 426,\n '1343 win': 527,\n '1343 loss': 305,\n '1386 win': 546,\n '1386 loss': 412,\n '1232 win': 381,\n '1232 loss': 532,\n '1241 win': 458,\n '1241 loss': 484,\n '1110 win': 423,\n '1110 loss': 487,\n '1335 win': 489,\n '1335 loss': 391,\n '1283 win': 564,\n '1283 loss': 388,\n '1325 win': 541,\n '1325 loss': 401,\n '1206 win': 502,\n '1206 loss': 436,\n '1166 win': 579,\n '1166 loss': 378,\n '1311 win': 296,\n '1311 loss': 543,\n '1147 win': 235,\n '1147 loss': 463,\n '1433 win': 612,\n '1433 loss': 363,\n '1250 win': 399,\n '1250 loss': 499,\n '1452 win': 577,\n '1452 loss': 368,\n '1425 win': 470,\n '1425 loss': 474,\n '1208 win': 528,\n '1208 loss': 426,\n '1119 win': 283,\n '1119 loss': 585,\n '1286 win': 394,\n '1286 loss': 457,\n '1307 win': 637,\n '1307 loss': 332,\n '1116 win': 625,\n '1116 loss': 355,\n '1246 win': 765,\n '1246 loss': 234,\n '1263 win': 374,\n '1263 loss': 524,\n '1446 win': 14,\n '1446 loss': 34,\n '1382 win': 402,\n '1382 loss': 512,\n '1427 win': 406,\n '1427 loss': 452,\n '1113 win': 479,\n '1113 loss': 458,\n '1161 win': 478,\n '1161 loss': 427,\n '1396 win': 656,\n '1396 loss': 323,\n '1350 win': 562,\n '1350 loss': 397,\n '1201 win': 494,\n '1201 loss': 453,\n '1429 win': 591,\n '1429 loss': 339,\n '1450 win': 406,\n '1450 loss': 507,\n '1338 win': 618,\n '1338 loss': 344,\n '1320 win': 478,\n '1320 loss': 435,\n '1448 win': 536,\n '1448 loss': 411,\n '1131 win': 523,\n '1131 loss': 422,\n '1190 win': 478,\n '1190 loss': 413,\n '1129 win': 522,\n '1129 loss': 385,\n '1400 win': 652,\n '1400 loss': 330,\n '1224 win': 297,\n '1224 loss': 610,\n '1154 win': 257,\n '1154 loss': 563,\n '1215 win': 54,\n '1215 loss': 93,\n '1403 win': 478,\n '1403 loss': 461,\n '1185 win': 406,\n '1185 loss': 494,\n '1378 win': 409,\n '1378 loss': 527,\n '1234 win': 580,\n '1234 loss': 388,\n '1212 win': 242,\n '1212 loss': 595,\n '1461 win': 488,\n '1461 loss': 426,\n '1451 win': 494,\n '1451 loss': 372,\n '1160 win': 443,\n '1160 loss': 485,\n '1229 win': 529,\n '1229 loss': 422,\n '1111 win': 411,\n '1111 loss': 465,\n '1139 win': 582,\n '1139 loss': 341,\n '1280 win': 520,\n '1280 loss': 426,\n '1279 win': 495,\n '1279 loss': 432,\n '1371 win': 519,\n '1371 loss': 427,\n '1156 win': 449,\n '1156 loss': 451,\n '1345 win': 630,\n '1345 loss': 336,\n '1464 win': 284,\n '1464 loss': 572,\n '1191 win': 479,\n '1191 loss': 449,\n '1299 win': 365,\n '1299 loss': 505,\n '1298 win': 404,\n '1298 loss': 490,\n '1310 win': 456,\n '1310 loss': 493,\n '1168 win': 380,\n '1168 loss': 511,\n '1352 win': 457,\n '1352 loss': 468,\n '1269 win': 536,\n '1269 loss': 410,\n '1360 win': 427,\n '1360 loss': 462,\n '1426 win': 386,\n '1426 loss': 473,\n '1380 win': 428,\n '1380 loss': 434,\n '1175 win': 347,\n '1175 loss': 543,\n '1132 win': 436,\n '1132 loss': 459,\n '1257 win': 682,\n '1257 loss': 312,\n '1339 win': 332,\n '1339 loss': 547,\n '1327 win': 3,\n '1327 loss': 19,\n '1203 win': 510,\n '1203 loss': 423,\n '1319 win': 357,\n '1319 loss': 486,\n '1462 win': 681,\n '1462 loss': 273,\n '1273 win': 381,\n '1273 loss': 515,\n '1275 win': 507,\n '1275 loss': 425,\n '1323 win': 585,\n '1323 loss': 365,\n '1261 win': 545,\n '1261 loss': 411,\n '1308 win': 572,\n '1308 loss': 363,\n '1179 win': 372,\n '1179 loss': 542,\n '1443 win': 573,\n '1443 loss': 369,\n '1104 win': 609,\n '1104 loss': 366,\n '1173 win': 553,\n '1173 loss': 407,\n '1359 win': 378,\n '1359 loss': 496,\n '1318 win': 479,\n '1318 loss': 463,\n '1143 win': 558,\n '1143 loss': 389,\n '1348 win': 472,\n '1348 loss': 466,\n '1376 win': 482,\n '1376 loss': 463,\n '1408 win': 387,\n '1408 loss': 421,\n '1193 win': 438,\n '1193 loss': 504,\n '1410 win': 265,\n '1410 loss': 566,\n '1395 win': 461,\n '1395 loss': 482,\n '1356 win': 541,\n '1356 loss': 412,\n '1124 win': 458,\n '1124 loss': 448,\n '1171 win': 299,\n '1171 loss': 530,\n '1353 win': 405,\n '1353 loss': 534,\n '1389 win': 413,\n '1389 loss': 515,\n '1419 win': 429,\n '1419 loss': 465,\n '1210 win': 549,\n '1210 loss': 423,\n '1235 win': 551,\n '1235 loss': 399,\n '1278 win': 515,\n '1278 loss': 433,\n '1326 win': 622,\n '1326 loss': 346,\n '1103 win': 518,\n '1103 loss': 392,\n '1458 win': 595,\n '1458 loss': 356,\n '1182 win': 359,\n '1182 loss': 565,\n '1204 win': 417,\n '1204 loss': 445,\n '1177 win': 459,\n '1177 loss': 483,\n '1301 win': 558,\n '1301 loss': 421,\n '1266 win': 592,\n '1266 loss': 359,\n '1385 win': 543,\n '1385 loss': 411,\n '1329 win': 587,\n '1329 loss': 354,\n '1439 win': 480,\n '1439 loss': 466,\n '1108 win': 296,\n '1108 loss': 570,\n '1112 win': 746,\n '1112 loss': 235,\n '1153 win': 652,\n '1153 loss': 318,\n '1390 win': 591,\n '1390 loss': 341,\n '1174 win': 457,\n '1174 loss': 456,\n '1333 win': 413,\n '1333 loss': 498,\n '1401 win': 486,\n '1401 loss': 454,\n '1120 win': 473,\n '1120 loss': 463,\n '1449 win': 505,\n '1449 loss': 433,\n '1243 win': 520,\n '1243 loss': 407,\n '1435 win': 561,\n '1435 loss': 400,\n '1233 win': 543,\n '1233 loss': 414,\n '1304 win': 510,\n '1304 loss': 443,\n '1293 win': 598,\n '1293 loss': 288,\n '1277 win': 667,\n '1277 loss': 299,\n '1361 win': 468,\n '1361 loss': 447,\n '1437 win': 629,\n '1437 loss': 354,\n '1276 win': 596,\n '1276 loss': 363,\n '1196 win': 644,\n '1196 loss': 337,\n '1314 win': 761,\n '1314 loss': 249,\n '1256 win': 528,\n '1256 loss': 397,\n '1393 win': 738,\n '1393 loss': 255,\n '1217 win': 391,\n '1217 loss': 437,\n '1130 win': 492,\n '1130 loss': 459,\n '1272 win': 692,\n '1272 loss': 300,\n '1181 win': 819,\n '1181 loss': 194,\n '1207 win': 610,\n '1207 loss': 313,\n '1374 win': 466,\n '1374 loss': 450,\n '1164 win': 421,\n '1164 loss': 472,\n '1362 win': 399,\n '1362 loss': 468,\n '1274 win': 502,\n '1274 loss': 413,\n '1118 win': 6,\n '1118 loss': 21,\n '1420 win': 298,\n '1420 loss': 547,\n '1372 win': 419,\n '1372 loss': 376,\n '1157 win': 372,\n '1157 loss': 412,\n '1421 win': 346,\n '1421 loss': 453,\n '1358 win': 385,\n '1358 loss': 421,\n '1148 win': 343,\n '1148 loss': 501,\n '1457 win': 394,\n '1457 loss': 407,\n '1198 win': 304,\n '1198 loss': 508,\n '1460 win': 429,\n '1460 loss': 398,\n '1291 win': 352,\n '1291 loss': 463,\n '1381 win': 281,\n '1381 loss': 454,\n '1251 win': 301,\n '1251 loss': 454,\n '1282 win': 295,\n '1282 loss': 450,\n '1169 win': 299,\n '1169 loss': 425,\n '1302 win': 62,\n '1302 loss': 138,\n '1454 win': 367,\n '1454 loss': 370,\n '1170 win': 170,\n '1170 loss': 490,\n '1138 win': 330,\n '1138 loss': 398,\n '1422 win': 296,\n '1422 loss': 423,\n '1369 win': 260,\n '1369 loss': 422,\n '1158 win': 492,\n '1158 loss': 228,\n '1404 win': 204,\n '1404 loss': 439,\n '1194 win': 218,\n '1194 loss': 429,\n '1407 win': 289,\n '1407 loss': 350,\n '1142 win': 229,\n '1142 loss': 368,\n '1214 win': 333,\n '1214 loss': 294,\n '1459 win': 245,\n '1459 loss': 330,\n '1240 win': 205,\n '1240 loss': 363,\n '1313 win': 263,\n '1313 loss': 300,\n '1115 win': 147,\n '1115 loss': 373,\n '1176 win': 241,\n '1176 loss': 285,\n '1346 win': 252,\n '1346 loss': 270,\n '1237 win': 234,\n '1237 loss': 285,\n '1340 win': 230,\n '1340 loss': 267,\n '1107 win': 251,\n '1107 loss': 261,\n '1357 win': 184,\n '1357 loss': 316,\n '1324 win': 263,\n '1324 loss': 243,\n '1189 win': 187,\n '1189 loss': 294,\n '1105 win': 179,\n '1105 loss': 268,\n '1392 win': 237,\n '1392 loss': 256,\n '1125 win': 321,\n '1125 loss': 185,\n '1219 win': 208,\n '1219 loss': 258,\n '1289 win': 6,\n '1289 loss': 42,\n '1415 win': 132,\n '1415 loss': 286,\n '1127 win': 157,\n '1127 loss': 285,\n '1236 win': 168,\n '1236 loss': 232,\n '1205 win': 164,\n '1205 loss': 241,\n '1128 win': 67,\n '1128 loss': 39,\n '1252 win': 182,\n '1252 loss': 219,\n '1366 win': 120,\n '1366 loss': 264,\n '1394 win': 190,\n '1394 loss': 200,\n '1294 win': 132,\n '1294 loss': 204,\n '1255 win': 83,\n '1255 loss': 261,\n '1430 win': 161,\n '1430 loss': 164,\n '1413 win': 119,\n '1413 loss': 229,\n '1355 win': 169,\n '1355 loss': 158,\n '1244 win': 82,\n '1244 loss': 240,\n '1295 win': 186,\n '1295 loss': 122,\n '1316 win': 121,\n '1316 loss': 206,\n '1445 win': 26,\n '1445 loss': 81,\n '1146 win': 62,\n '1146 loss': 205,\n '1312 win': 86,\n '1312 loss': 190,\n '1167 win': 101,\n '1167 loss': 159,\n '1300 win': 110,\n '1300 loss': 142,\n '1367 win': 101,\n '1367 loss': 166,\n '1342 win': 67,\n '1342 loss': 193,\n '1195 win': 129,\n '1195 loss': 144,\n '1188 win': 51,\n '1188 loss': 156,\n '1377 win': 89,\n '1377 loss': 121,\n '1136 win': 78,\n '1136 loss': 162,\n '1370 win': 95,\n '1370 loss': 127,\n '1315 win': 88,\n '1315 loss': 129,\n '1303 win': 51,\n '1303 loss': 78,\n '1297 win': 38,\n '1297 loss': 75,\n '1213 win': 50,\n '1213 loss': 34,\n '1262 win': 30,\n '1262 loss': 53,\n '1101 win': 18,\n '1101 loss': 58,\n '1230 win': 37,\n '1230 loss': 27}"
     },
     "execution_count": 113,
     "metadata": {},
     "output_type": "execute_result"
    }
   ],
   "source": [
    "# Write your code here\n",
    "d = {}\n",
    "for team in df[\"Lteam\"].unique():\n",
    "    for wl in [\"win\", \"loss\"]:\n",
    "        d[str(team) + \" \" + wl] = 0\n",
    "for index, row in df.iterrows():\n",
    "    d[str(row[\"Wteam\"]) + \" win\"] += 1\n",
    "    d[str(row[\"Lteam\"]) + \" loss\"] += 1\n",
    "d"
   ]
  },
  {
   "attachments": {},
   "cell_type": "markdown",
   "metadata": {},
   "source": [
    "**Q**: For each season, find the game with the highest score difference (winning score - losing score). This will require iterating over the rows of the DataFrame, keeping track of the highest score difference for each season, and updating it if a game with a higher score difference is found."
   ]
  },
  {
   "cell_type": "code",
   "execution_count": 116,
   "metadata": {},
   "outputs": [
    {
     "data": {
      "text/plain": "{1985: 60,\n 1986: 84,\n 1987: 73,\n 1988: 68,\n 1989: 70,\n 1990: 76,\n 1991: 68,\n 1992: 82,\n 1993: 81,\n 1994: 69,\n 1995: 74,\n 1996: 91,\n 1997: 80,\n 1998: 66,\n 1999: 75,\n 2000: 75,\n 2001: 75,\n 2002: 59,\n 2003: 72,\n 2004: 70,\n 2005: 64,\n 2006: 72,\n 2007: 74,\n 2008: 70,\n 2009: 68,\n 2010: 75,\n 2011: 69,\n 2012: 62,\n 2013: 58,\n 2014: 74,\n 2015: 69,\n 2016: 73}"
     },
     "execution_count": 116,
     "metadata": {},
     "output_type": "execute_result"
    }
   ],
   "source": [
    "# Write your code here\n",
    "\n",
    "d = {}\n",
    "for season in df[\"Season\"].unique():\n",
    "    d[season] = 0\n",
    "\n",
    "\n",
    "for index, row in df.iterrows():\n",
    "    diff = row[\"Wscore\"]- row[\"Lscore\"]\n",
    "    if d[row[\"Season\"]] < diff:\n",
    "        d[row[\"Season\"]] = diff\n",
    "d"
   ]
  },
  {
   "attachments": {},
   "cell_type": "markdown",
   "metadata": {},
   "source": [
    "Remember, iterating over a DataFrame should generally be avoided if a vectorized operation can be used instead, as vectorized operations are usually much faster. However, these tasks are designed to give practice with DataFrame iteration for cases where it might be necessary."
   ]
  },
  {
   "attachments": {},
   "cell_type": "markdown",
   "metadata": {},
   "source": [
    "Vectorized Operation Example: Create a new column 'HighScoringGame' in the DataFrame using a vectorized operation. This column should contain 'Yes' if the winning score is greater than 100 and 'No' otherwise. Use the np.where function from the numpy library for this task."
   ]
  },
  {
   "cell_type": "code",
   "execution_count": 47,
   "metadata": {},
   "outputs": [],
   "source": [
    "import numpy as np\n",
    "df['HighScoringGame'] = np.where(df['Wscore'] > 100, 'Yes', 'No')"
   ]
  },
  {
   "attachments": {},
   "cell_type": "markdown",
   "metadata": {},
   "source": [
    "**Q**: Vectorized Operation: Calculate the total number of games played by each team, whether they won or lost. Instead of iterating over the DataFrame, use the value_counts() function on the winning team and losing team columns separately, and then add the two Series together."
   ]
  },
  {
   "cell_type": "code",
   "execution_count": 117,
   "metadata": {},
   "outputs": [
    {
     "data": {
      "text/plain": "1101     76\n1102    840\n1103    910\n1104    975\n1105    447\n       ... \n1460    827\n1461    914\n1462    954\n1463    838\n1464    856\nName: count, Length: 364, dtype: int64"
     },
     "execution_count": 117,
     "metadata": {},
     "output_type": "execute_result"
    }
   ],
   "source": [
    "# Write your code here\n",
    "df[\"Wteam\"].value_counts() + df[\"Lteam\"].value_counts()"
   ]
  },
  {
   "attachments": {},
   "cell_type": "markdown",
   "metadata": {},
   "source": [
    "**Q**: For each season, find the game with the highest score difference (winning score - losing score). Instead of iterating over the DataFrame, create a new column 'ScoreDifference' using vectorized subtraction, then use the groupby() function and idxmax() function to find the game with the highest score difference for each season."
   ]
  },
  {
   "cell_type": "code",
   "execution_count": 122,
   "metadata": {},
   "outputs": [
    {
     "data": {
      "text/plain": "Season\n1985       236\n1986      4731\n1987      8240\n1988     12046\n1989     16677\n1990     19502\n1991     25161\n1992     27997\n1993     33858\n1994     36404\n1995     39858\n1996     44653\n1997     49033\n1998     52600\n1999     57618\n2000     60616\n2001     65999\n2002     70737\n2003     74791\n2004     79181\n2005     83372\n2006     89542\n2007     94507\n2008     97737\n2009    103723\n2010    108405\n2011    114015\n2012    118699\n2013    124057\n2014    131373\n2015    134590\n2016    140040\nName: ScoreDifference, dtype: int64"
     },
     "execution_count": 122,
     "metadata": {},
     "output_type": "execute_result"
    }
   ],
   "source": [
    "# Write your code here\n",
    "df[\"ScoreDifference\"] = df.apply(lambda x : x[\"Wscore\"]-x[\"Lscore\"], axis=1)\n",
    "df.groupby(\"Season\")[\"ScoreDifference\"].idxmax()"
   ]
  },
  {
   "attachments": {},
   "cell_type": "markdown",
   "metadata": {},
   "source": [
    "# Extracting Rows and Columns"
   ]
  },
  {
   "attachments": {},
   "cell_type": "markdown",
   "metadata": {},
   "source": [
    "The bracket indexing operator is one way to extract certain columns from a dataframe."
   ]
  },
  {
   "cell_type": "code",
   "execution_count": 50,
   "metadata": {
    "collapsed": false,
    "scrolled": true
   },
   "outputs": [
    {
     "data": {
      "text/plain": "   Wscore  Lscore\n0      81      64\n1      77      70\n2      63      56\n3      70      54\n4      86      74",
      "text/html": "<div>\n<style scoped>\n    .dataframe tbody tr th:only-of-type {\n        vertical-align: middle;\n    }\n\n    .dataframe tbody tr th {\n        vertical-align: top;\n    }\n\n    .dataframe thead th {\n        text-align: right;\n    }\n</style>\n<table border=\"1\" class=\"dataframe\">\n  <thead>\n    <tr style=\"text-align: right;\">\n      <th></th>\n      <th>Wscore</th>\n      <th>Lscore</th>\n    </tr>\n  </thead>\n  <tbody>\n    <tr>\n      <th>0</th>\n      <td>81</td>\n      <td>64</td>\n    </tr>\n    <tr>\n      <th>1</th>\n      <td>77</td>\n      <td>70</td>\n    </tr>\n    <tr>\n      <th>2</th>\n      <td>63</td>\n      <td>56</td>\n    </tr>\n    <tr>\n      <th>3</th>\n      <td>70</td>\n      <td>54</td>\n    </tr>\n    <tr>\n      <th>4</th>\n      <td>86</td>\n      <td>74</td>\n    </tr>\n  </tbody>\n</table>\n</div>"
     },
     "execution_count": 50,
     "metadata": {},
     "output_type": "execute_result"
    }
   ],
   "source": [
    "df[['Wscore', 'Lscore']].head()"
   ]
  },
  {
   "attachments": {},
   "cell_type": "markdown",
   "metadata": {},
   "source": [
    "Notice that you can acheive the same result by using the loc function. Loc is a veryyyy versatile function that can help you in a lot of accessing and extracting tasks."
   ]
  },
  {
   "cell_type": "code",
   "execution_count": 51,
   "metadata": {
    "collapsed": false
   },
   "outputs": [
    {
     "data": {
      "text/plain": "   Wscore  Lscore\n0      81      64\n1      77      70\n2      63      56\n3      70      54\n4      86      74",
      "text/html": "<div>\n<style scoped>\n    .dataframe tbody tr th:only-of-type {\n        vertical-align: middle;\n    }\n\n    .dataframe tbody tr th {\n        vertical-align: top;\n    }\n\n    .dataframe thead th {\n        text-align: right;\n    }\n</style>\n<table border=\"1\" class=\"dataframe\">\n  <thead>\n    <tr style=\"text-align: right;\">\n      <th></th>\n      <th>Wscore</th>\n      <th>Lscore</th>\n    </tr>\n  </thead>\n  <tbody>\n    <tr>\n      <th>0</th>\n      <td>81</td>\n      <td>64</td>\n    </tr>\n    <tr>\n      <th>1</th>\n      <td>77</td>\n      <td>70</td>\n    </tr>\n    <tr>\n      <th>2</th>\n      <td>63</td>\n      <td>56</td>\n    </tr>\n    <tr>\n      <th>3</th>\n      <td>70</td>\n      <td>54</td>\n    </tr>\n    <tr>\n      <th>4</th>\n      <td>86</td>\n      <td>74</td>\n    </tr>\n  </tbody>\n</table>\n</div>"
     },
     "execution_count": 51,
     "metadata": {},
     "output_type": "execute_result"
    }
   ],
   "source": [
    "df.loc[:, ['Wscore', 'Lscore']].head()"
   ]
  },
  {
   "attachments": {},
   "cell_type": "markdown",
   "metadata": {},
   "source": [
    "Note the difference is the return types when you use brackets and when you use double brackets."
   ]
  },
  {
   "cell_type": "code",
   "execution_count": 52,
   "metadata": {
    "collapsed": false
   },
   "outputs": [
    {
     "data": {
      "text/plain": "pandas.core.series.Series"
     },
     "execution_count": 52,
     "metadata": {},
     "output_type": "execute_result"
    }
   ],
   "source": [
    "type(df['Wscore'])"
   ]
  },
  {
   "cell_type": "code",
   "execution_count": 53,
   "metadata": {
    "collapsed": false
   },
   "outputs": [
    {
     "data": {
      "text/plain": "pandas.core.frame.DataFrame"
     },
     "execution_count": 53,
     "metadata": {},
     "output_type": "execute_result"
    }
   ],
   "source": [
    "type(df[['Wscore']])"
   ]
  },
  {
   "attachments": {},
   "cell_type": "markdown",
   "metadata": {},
   "source": [
    "You've seen before that you can access columns through df['col name']. You can access rows by using slicing operations."
   ]
  },
  {
   "cell_type": "code",
   "execution_count": 54,
   "metadata": {
    "collapsed": false
   },
   "outputs": [
    {
     "data": {
      "text/plain": "   Season  Daynum  Wteam  Wscore  Lteam  Lscore Wloc  Numot HighScoringGame\n0    1985      20   1228      81   1328      64    N      0              No\n1    1985      25   1106      77   1354      70    H      0              No\n2    1985      25   1112      63   1223      56    H      0              No",
      "text/html": "<div>\n<style scoped>\n    .dataframe tbody tr th:only-of-type {\n        vertical-align: middle;\n    }\n\n    .dataframe tbody tr th {\n        vertical-align: top;\n    }\n\n    .dataframe thead th {\n        text-align: right;\n    }\n</style>\n<table border=\"1\" class=\"dataframe\">\n  <thead>\n    <tr style=\"text-align: right;\">\n      <th></th>\n      <th>Season</th>\n      <th>Daynum</th>\n      <th>Wteam</th>\n      <th>Wscore</th>\n      <th>Lteam</th>\n      <th>Lscore</th>\n      <th>Wloc</th>\n      <th>Numot</th>\n      <th>HighScoringGame</th>\n    </tr>\n  </thead>\n  <tbody>\n    <tr>\n      <th>0</th>\n      <td>1985</td>\n      <td>20</td>\n      <td>1228</td>\n      <td>81</td>\n      <td>1328</td>\n      <td>64</td>\n      <td>N</td>\n      <td>0</td>\n      <td>No</td>\n    </tr>\n    <tr>\n      <th>1</th>\n      <td>1985</td>\n      <td>25</td>\n      <td>1106</td>\n      <td>77</td>\n      <td>1354</td>\n      <td>70</td>\n      <td>H</td>\n      <td>0</td>\n      <td>No</td>\n    </tr>\n    <tr>\n      <th>2</th>\n      <td>1985</td>\n      <td>25</td>\n      <td>1112</td>\n      <td>63</td>\n      <td>1223</td>\n      <td>56</td>\n      <td>H</td>\n      <td>0</td>\n      <td>No</td>\n    </tr>\n  </tbody>\n</table>\n</div>"
     },
     "execution_count": 54,
     "metadata": {},
     "output_type": "execute_result"
    }
   ],
   "source": [
    "df[0:3]"
   ]
  },
  {
   "attachments": {},
   "cell_type": "markdown",
   "metadata": {},
   "source": [
    "Here's an equivalent using iloc"
   ]
  },
  {
   "cell_type": "code",
   "execution_count": 55,
   "metadata": {
    "collapsed": false
   },
   "outputs": [
    {
     "data": {
      "text/plain": "   Season  Daynum  Wteam  Wscore  Lteam  Lscore Wloc  Numot HighScoringGame\n0    1985      20   1228      81   1328      64    N      0              No\n1    1985      25   1106      77   1354      70    H      0              No\n2    1985      25   1112      63   1223      56    H      0              No",
      "text/html": "<div>\n<style scoped>\n    .dataframe tbody tr th:only-of-type {\n        vertical-align: middle;\n    }\n\n    .dataframe tbody tr th {\n        vertical-align: top;\n    }\n\n    .dataframe thead th {\n        text-align: right;\n    }\n</style>\n<table border=\"1\" class=\"dataframe\">\n  <thead>\n    <tr style=\"text-align: right;\">\n      <th></th>\n      <th>Season</th>\n      <th>Daynum</th>\n      <th>Wteam</th>\n      <th>Wscore</th>\n      <th>Lteam</th>\n      <th>Lscore</th>\n      <th>Wloc</th>\n      <th>Numot</th>\n      <th>HighScoringGame</th>\n    </tr>\n  </thead>\n  <tbody>\n    <tr>\n      <th>0</th>\n      <td>1985</td>\n      <td>20</td>\n      <td>1228</td>\n      <td>81</td>\n      <td>1328</td>\n      <td>64</td>\n      <td>N</td>\n      <td>0</td>\n      <td>No</td>\n    </tr>\n    <tr>\n      <th>1</th>\n      <td>1985</td>\n      <td>25</td>\n      <td>1106</td>\n      <td>77</td>\n      <td>1354</td>\n      <td>70</td>\n      <td>H</td>\n      <td>0</td>\n      <td>No</td>\n    </tr>\n    <tr>\n      <th>2</th>\n      <td>1985</td>\n      <td>25</td>\n      <td>1112</td>\n      <td>63</td>\n      <td>1223</td>\n      <td>56</td>\n      <td>H</td>\n      <td>0</td>\n      <td>No</td>\n    </tr>\n  </tbody>\n</table>\n</div>"
     },
     "execution_count": 55,
     "metadata": {},
     "output_type": "execute_result"
    }
   ],
   "source": [
    "df.iloc[0:3,:]"
   ]
  },
  {
   "attachments": {},
   "cell_type": "markdown",
   "metadata": {},
   "source": [
    "# Data Cleaning"
   ]
  },
  {
   "attachments": {},
   "cell_type": "markdown",
   "metadata": {},
   "source": [
    "One of the big jobs of doing well in Kaggle competitions is that of data cleaning. A lot of times, the CSV file you're given (especially like in the Titanic dataset), you'll have a lot of missing values in the dataset, which you have to identify. The following **isnull** function will figure out if there are any missing values in the dataframe, and will then sum up the total for each column. In this case, we have a pretty clean dataset."
   ]
  },
  {
   "cell_type": "code",
   "execution_count": 56,
   "metadata": {
    "collapsed": false
   },
   "outputs": [
    {
     "data": {
      "text/plain": "Season             0\nDaynum             0\nWteam              0\nWscore             0\nLteam              0\nLscore             0\nWloc               0\nNumot              0\nHighScoringGame    0\ndtype: int64"
     },
     "execution_count": 56,
     "metadata": {},
     "output_type": "execute_result"
    }
   ],
   "source": [
    "df.isnull().sum()"
   ]
  },
  {
   "attachments": {},
   "cell_type": "markdown",
   "metadata": {},
   "source": [
    "If you do end up having missing values in your datasets, be sure to get familiar with these two functions.\n",
    "* **dropna()** - This function allows you to drop all(or some) of the rows that have missing values.\n",
    "* **fillna()** - This function allows you replace the rows that have missing values with the value that you pass in."
   ]
  },
  {
   "attachments": {},
   "cell_type": "markdown",
   "metadata": {},
   "source": [
    "# Other Useful Functions"
   ]
  },
  {
   "attachments": {},
   "cell_type": "markdown",
   "metadata": {},
   "source": [
    "* **drop()** - This function removes the column or row that you pass in (You also have the specify the axis).\n",
    "* **agg()** - The aggregate function lets you compute summary statistics about each group\n",
    "* **apply()** - Lets you apply a specific function to any/all elements in a Dataframe or Series\n",
    "* **get_dummies()** - Helpful for turning categorical data into one hot vectors.\n",
    "* **drop_duplicates()** - Lets you remove identical rows"
   ]
  },
  {
   "attachments": {},
   "cell_type": "markdown",
   "metadata": {
    "collapsed": true
   },
   "source": [
    "# Lots of Other Great Resources"
   ]
  },
  {
   "attachments": {},
   "cell_type": "markdown",
   "metadata": {},
   "source": [
    "Pandas has been around for a while and there are a lot of other good resources if you're still interested on getting the most out of this library.\n",
    "* http://pandas.pydata.org/pandas-docs/stable/10min.html\n",
    "* https://www.datacamp.com/community/tutorials/pandas-tutorial-dataframe-python\n",
    "* http://www.gregreda.com/2013/10/26/intro-to-pandas-data-structures/\n",
    "* https://www.dataquest.io/blog/pandas-python-tutorial/\n",
    "* https://drive.google.com/file/d/0ByIrJAE4KMTtTUtiVExiUGVkRkE/view\n",
    "* https://www.youtube.com/playlist?list=PL5-da3qGB5ICCsgW1MxlZ0Hq8LL5U3u9y\n"
   ]
  }
 ],
 "metadata": {
  "anaconda-cloud": {},
  "kernelspec": {
   "display_name": "base",
   "language": "python",
   "name": "python3"
  },
  "language_info": {
   "codemirror_mode": {
    "name": "ipython",
    "version": 3
   },
   "file_extension": ".py",
   "mimetype": "text/x-python",
   "name": "python",
   "nbconvert_exporter": "python",
   "pygments_lexer": "ipython3",
   "version": "3.9.13"
  }
 },
 "nbformat": 4,
 "nbformat_minor": 1
}