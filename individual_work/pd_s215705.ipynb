{
 "cells": [
  {
   "attachments": {},
   "cell_type": "markdown",
   "metadata": {},
   "source": [
    "# Introduction"
   ]
  },
  {
   "attachments": {},
   "cell_type": "markdown",
   "metadata": {},
   "source": [
    "Hopefully, this short tutorial can show you a lot of different commands that will help you gain the most insights into your dataset."
   ]
  },
  {
   "cell_type": "code",
   "execution_count": 1,
   "metadata": {
    "collapsed": true
   },
   "outputs": [],
   "source": [
    "import pandas as pd\n",
    "from src.utils import load_data_from_google_drive"
   ]
  },
  {
   "attachments": {},
   "cell_type": "markdown",
   "metadata": {},
   "source": [
    "# Loading in Data"
   ]
  },
  {
   "attachments": {},
   "cell_type": "markdown",
   "metadata": {},
   "source": [
    "The first step in any ML problem is identifying what format your data is in, and then loading it into whatever framework you're using. For Kaggle compeitions, a lot of data can be found in CSV files, so that's the example we're going to use."
   ]
  },
  {
   "attachments": {},
   "cell_type": "markdown",
   "metadata": {},
   "source": [
    "We're going to be looking at a sports dataset that shows the results from NCAA basketball games from 1985 to 2016. This dataset is in a CSV file, and the function we're going to use to read in the file is called **pd.read_csv()**. This function returns a **dataframe** variable. The dataframe is the golden jewel data structure for Pandas. It is defined as \"a two-dimensional size-mutable, potentially heterogeneous tabular data structure with labeled axes (rows and columns)\"."
   ]
  },
  {
   "attachments": {},
   "cell_type": "markdown",
   "metadata": {},
   "source": [
    "Just think of it as a table for now."
   ]
  },
  {
   "cell_type": "code",
   "execution_count": 2,
   "metadata": {
    "collapsed": false
   },
   "outputs": [],
   "source": [
    "df = load_data_from_google_drive(url='https://drive.google.com/file/d/184JcLbSpArA_uq0DgAv2k892KChJVPHt/view?usp=share_link')"
   ]
  },
  {
   "cell_type": "code",
   "execution_count": 3,
   "metadata": {},
   "outputs": [
    {
     "data": {
      "text/plain": "        Season  Daynum  Wteam  Wscore  Lteam  Lscore Wloc  Numot\n0         1985      20   1228      81   1328      64    N      0\n1         1985      25   1106      77   1354      70    H      0\n2         1985      25   1112      63   1223      56    H      0\n3         1985      25   1165      70   1432      54    H      0\n4         1985      25   1192      86   1447      74    H      0\n...        ...     ...    ...     ...    ...     ...  ...    ...\n145284    2016     132   1114      70   1419      50    N      0\n145285    2016     132   1163      72   1272      58    N      0\n145286    2016     132   1246      82   1401      77    N      1\n145287    2016     132   1277      66   1345      62    N      0\n145288    2016     132   1386      87   1433      74    N      0\n\n[145289 rows x 8 columns]",
      "text/html": "<div>\n<style scoped>\n    .dataframe tbody tr th:only-of-type {\n        vertical-align: middle;\n    }\n\n    .dataframe tbody tr th {\n        vertical-align: top;\n    }\n\n    .dataframe thead th {\n        text-align: right;\n    }\n</style>\n<table border=\"1\" class=\"dataframe\">\n  <thead>\n    <tr style=\"text-align: right;\">\n      <th></th>\n      <th>Season</th>\n      <th>Daynum</th>\n      <th>Wteam</th>\n      <th>Wscore</th>\n      <th>Lteam</th>\n      <th>Lscore</th>\n      <th>Wloc</th>\n      <th>Numot</th>\n    </tr>\n  </thead>\n  <tbody>\n    <tr>\n      <th>0</th>\n      <td>1985</td>\n      <td>20</td>\n      <td>1228</td>\n      <td>81</td>\n      <td>1328</td>\n      <td>64</td>\n      <td>N</td>\n      <td>0</td>\n    </tr>\n    <tr>\n      <th>1</th>\n      <td>1985</td>\n      <td>25</td>\n      <td>1106</td>\n      <td>77</td>\n      <td>1354</td>\n      <td>70</td>\n      <td>H</td>\n      <td>0</td>\n    </tr>\n    <tr>\n      <th>2</th>\n      <td>1985</td>\n      <td>25</td>\n      <td>1112</td>\n      <td>63</td>\n      <td>1223</td>\n      <td>56</td>\n      <td>H</td>\n      <td>0</td>\n    </tr>\n    <tr>\n      <th>3</th>\n      <td>1985</td>\n      <td>25</td>\n      <td>1165</td>\n      <td>70</td>\n      <td>1432</td>\n      <td>54</td>\n      <td>H</td>\n      <td>0</td>\n    </tr>\n    <tr>\n      <th>4</th>\n      <td>1985</td>\n      <td>25</td>\n      <td>1192</td>\n      <td>86</td>\n      <td>1447</td>\n      <td>74</td>\n      <td>H</td>\n      <td>0</td>\n    </tr>\n    <tr>\n      <th>...</th>\n      <td>...</td>\n      <td>...</td>\n      <td>...</td>\n      <td>...</td>\n      <td>...</td>\n      <td>...</td>\n      <td>...</td>\n      <td>...</td>\n    </tr>\n    <tr>\n      <th>145284</th>\n      <td>2016</td>\n      <td>132</td>\n      <td>1114</td>\n      <td>70</td>\n      <td>1419</td>\n      <td>50</td>\n      <td>N</td>\n      <td>0</td>\n    </tr>\n    <tr>\n      <th>145285</th>\n      <td>2016</td>\n      <td>132</td>\n      <td>1163</td>\n      <td>72</td>\n      <td>1272</td>\n      <td>58</td>\n      <td>N</td>\n      <td>0</td>\n    </tr>\n    <tr>\n      <th>145286</th>\n      <td>2016</td>\n      <td>132</td>\n      <td>1246</td>\n      <td>82</td>\n      <td>1401</td>\n      <td>77</td>\n      <td>N</td>\n      <td>1</td>\n    </tr>\n    <tr>\n      <th>145287</th>\n      <td>2016</td>\n      <td>132</td>\n      <td>1277</td>\n      <td>66</td>\n      <td>1345</td>\n      <td>62</td>\n      <td>N</td>\n      <td>0</td>\n    </tr>\n    <tr>\n      <th>145288</th>\n      <td>2016</td>\n      <td>132</td>\n      <td>1386</td>\n      <td>87</td>\n      <td>1433</td>\n      <td>74</td>\n      <td>N</td>\n      <td>0</td>\n    </tr>\n  </tbody>\n</table>\n<p>145289 rows × 8 columns</p>\n</div>"
     },
     "execution_count": 3,
     "metadata": {},
     "output_type": "execute_result"
    }
   ],
   "source": [
    "df"
   ]
  },
  {
   "attachments": {},
   "cell_type": "markdown",
   "metadata": {},
   "source": [
    "# The Basics"
   ]
  },
  {
   "attachments": {},
   "cell_type": "markdown",
   "metadata": {},
   "source": [
    "Now that we have our dataframe in our variable df, let's look at what it contains. We can use the function **head()** to see the first couple rows of the dataframe (or the function **tail()** to see the last few rows)."
   ]
  },
  {
   "cell_type": "code",
   "execution_count": 4,
   "metadata": {
    "collapsed": false
   },
   "outputs": [
    {
     "data": {
      "text/plain": "   Season  Daynum  Wteam  Wscore  Lteam  Lscore Wloc  Numot\n0    1985      20   1228      81   1328      64    N      0\n1    1985      25   1106      77   1354      70    H      0\n2    1985      25   1112      63   1223      56    H      0\n3    1985      25   1165      70   1432      54    H      0\n4    1985      25   1192      86   1447      74    H      0",
      "text/html": "<div>\n<style scoped>\n    .dataframe tbody tr th:only-of-type {\n        vertical-align: middle;\n    }\n\n    .dataframe tbody tr th {\n        vertical-align: top;\n    }\n\n    .dataframe thead th {\n        text-align: right;\n    }\n</style>\n<table border=\"1\" class=\"dataframe\">\n  <thead>\n    <tr style=\"text-align: right;\">\n      <th></th>\n      <th>Season</th>\n      <th>Daynum</th>\n      <th>Wteam</th>\n      <th>Wscore</th>\n      <th>Lteam</th>\n      <th>Lscore</th>\n      <th>Wloc</th>\n      <th>Numot</th>\n    </tr>\n  </thead>\n  <tbody>\n    <tr>\n      <th>0</th>\n      <td>1985</td>\n      <td>20</td>\n      <td>1228</td>\n      <td>81</td>\n      <td>1328</td>\n      <td>64</td>\n      <td>N</td>\n      <td>0</td>\n    </tr>\n    <tr>\n      <th>1</th>\n      <td>1985</td>\n      <td>25</td>\n      <td>1106</td>\n      <td>77</td>\n      <td>1354</td>\n      <td>70</td>\n      <td>H</td>\n      <td>0</td>\n    </tr>\n    <tr>\n      <th>2</th>\n      <td>1985</td>\n      <td>25</td>\n      <td>1112</td>\n      <td>63</td>\n      <td>1223</td>\n      <td>56</td>\n      <td>H</td>\n      <td>0</td>\n    </tr>\n    <tr>\n      <th>3</th>\n      <td>1985</td>\n      <td>25</td>\n      <td>1165</td>\n      <td>70</td>\n      <td>1432</td>\n      <td>54</td>\n      <td>H</td>\n      <td>0</td>\n    </tr>\n    <tr>\n      <th>4</th>\n      <td>1985</td>\n      <td>25</td>\n      <td>1192</td>\n      <td>86</td>\n      <td>1447</td>\n      <td>74</td>\n      <td>H</td>\n      <td>0</td>\n    </tr>\n  </tbody>\n</table>\n</div>"
     },
     "execution_count": 4,
     "metadata": {},
     "output_type": "execute_result"
    }
   ],
   "source": [
    "df.head()"
   ]
  },
  {
   "cell_type": "code",
   "execution_count": 5,
   "metadata": {
    "collapsed": false
   },
   "outputs": [
    {
     "data": {
      "text/plain": "        Season  Daynum  Wteam  Wscore  Lteam  Lscore Wloc  Numot\n145284    2016     132   1114      70   1419      50    N      0\n145285    2016     132   1163      72   1272      58    N      0\n145286    2016     132   1246      82   1401      77    N      1\n145287    2016     132   1277      66   1345      62    N      0\n145288    2016     132   1386      87   1433      74    N      0",
      "text/html": "<div>\n<style scoped>\n    .dataframe tbody tr th:only-of-type {\n        vertical-align: middle;\n    }\n\n    .dataframe tbody tr th {\n        vertical-align: top;\n    }\n\n    .dataframe thead th {\n        text-align: right;\n    }\n</style>\n<table border=\"1\" class=\"dataframe\">\n  <thead>\n    <tr style=\"text-align: right;\">\n      <th></th>\n      <th>Season</th>\n      <th>Daynum</th>\n      <th>Wteam</th>\n      <th>Wscore</th>\n      <th>Lteam</th>\n      <th>Lscore</th>\n      <th>Wloc</th>\n      <th>Numot</th>\n    </tr>\n  </thead>\n  <tbody>\n    <tr>\n      <th>145284</th>\n      <td>2016</td>\n      <td>132</td>\n      <td>1114</td>\n      <td>70</td>\n      <td>1419</td>\n      <td>50</td>\n      <td>N</td>\n      <td>0</td>\n    </tr>\n    <tr>\n      <th>145285</th>\n      <td>2016</td>\n      <td>132</td>\n      <td>1163</td>\n      <td>72</td>\n      <td>1272</td>\n      <td>58</td>\n      <td>N</td>\n      <td>0</td>\n    </tr>\n    <tr>\n      <th>145286</th>\n      <td>2016</td>\n      <td>132</td>\n      <td>1246</td>\n      <td>82</td>\n      <td>1401</td>\n      <td>77</td>\n      <td>N</td>\n      <td>1</td>\n    </tr>\n    <tr>\n      <th>145287</th>\n      <td>2016</td>\n      <td>132</td>\n      <td>1277</td>\n      <td>66</td>\n      <td>1345</td>\n      <td>62</td>\n      <td>N</td>\n      <td>0</td>\n    </tr>\n    <tr>\n      <th>145288</th>\n      <td>2016</td>\n      <td>132</td>\n      <td>1386</td>\n      <td>87</td>\n      <td>1433</td>\n      <td>74</td>\n      <td>N</td>\n      <td>0</td>\n    </tr>\n  </tbody>\n</table>\n</div>"
     },
     "execution_count": 5,
     "metadata": {},
     "output_type": "execute_result"
    }
   ],
   "source": [
    "df.tail()"
   ]
  },
  {
   "attachments": {},
   "cell_type": "markdown",
   "metadata": {},
   "source": [
    "We can see the dimensions of the dataframe using the the **shape** attribute"
   ]
  },
  {
   "cell_type": "code",
   "execution_count": 6,
   "metadata": {
    "collapsed": false
   },
   "outputs": [
    {
     "data": {
      "text/plain": "(145289, 8)"
     },
     "execution_count": 6,
     "metadata": {},
     "output_type": "execute_result"
    }
   ],
   "source": [
    "df.shape"
   ]
  },
  {
   "attachments": {},
   "cell_type": "markdown",
   "metadata": {
    "collapsed": true
   },
   "source": [
    "We can also extract all the column names as a list, by using the **columns** attribute and can extract the rows with the **index** attribute"
   ]
  },
  {
   "cell_type": "code",
   "execution_count": 7,
   "metadata": {
    "collapsed": false
   },
   "outputs": [
    {
     "data": {
      "text/plain": "['Season', 'Daynum', 'Wteam', 'Wscore', 'Lteam', 'Lscore', 'Wloc', 'Numot']"
     },
     "execution_count": 7,
     "metadata": {},
     "output_type": "execute_result"
    }
   ],
   "source": [
    "df.columns.tolist()"
   ]
  },
  {
   "attachments": {},
   "cell_type": "markdown",
   "metadata": {},
   "source": [
    "In order to get a better idea of the type of data that we are dealing with, we can call the **describe()** function to see statistics like mean, min, etc about each column of the dataset."
   ]
  },
  {
   "cell_type": "code",
   "execution_count": 8,
   "metadata": {
    "collapsed": false
   },
   "outputs": [
    {
     "data": {
      "text/plain": "              Season         Daynum          Wteam         Wscore  \\\ncount  145289.000000  145289.000000  145289.000000  145289.000000   \nmean     2001.574834      75.223816    1286.720646      76.600321   \nstd         9.233342      33.287418     104.570275      12.173033   \nmin      1985.000000       0.000000    1101.000000      34.000000   \n25%      1994.000000      47.000000    1198.000000      68.000000   \n50%      2002.000000      78.000000    1284.000000      76.000000   \n75%      2010.000000     103.000000    1379.000000      84.000000   \nmax      2016.000000     132.000000    1464.000000     186.000000   \n\n               Lteam         Lscore          Numot  \ncount  145289.000000  145289.000000  145289.000000  \nmean     1282.864064      64.497009       0.044387  \nstd       104.829234      11.380625       0.247819  \nmin      1101.000000      20.000000       0.000000  \n25%      1191.000000      57.000000       0.000000  \n50%      1280.000000      64.000000       0.000000  \n75%      1375.000000      72.000000       0.000000  \nmax      1464.000000     150.000000       6.000000  ",
      "text/html": "<div>\n<style scoped>\n    .dataframe tbody tr th:only-of-type {\n        vertical-align: middle;\n    }\n\n    .dataframe tbody tr th {\n        vertical-align: top;\n    }\n\n    .dataframe thead th {\n        text-align: right;\n    }\n</style>\n<table border=\"1\" class=\"dataframe\">\n  <thead>\n    <tr style=\"text-align: right;\">\n      <th></th>\n      <th>Season</th>\n      <th>Daynum</th>\n      <th>Wteam</th>\n      <th>Wscore</th>\n      <th>Lteam</th>\n      <th>Lscore</th>\n      <th>Numot</th>\n    </tr>\n  </thead>\n  <tbody>\n    <tr>\n      <th>count</th>\n      <td>145289.000000</td>\n      <td>145289.000000</td>\n      <td>145289.000000</td>\n      <td>145289.000000</td>\n      <td>145289.000000</td>\n      <td>145289.000000</td>\n      <td>145289.000000</td>\n    </tr>\n    <tr>\n      <th>mean</th>\n      <td>2001.574834</td>\n      <td>75.223816</td>\n      <td>1286.720646</td>\n      <td>76.600321</td>\n      <td>1282.864064</td>\n      <td>64.497009</td>\n      <td>0.044387</td>\n    </tr>\n    <tr>\n      <th>std</th>\n      <td>9.233342</td>\n      <td>33.287418</td>\n      <td>104.570275</td>\n      <td>12.173033</td>\n      <td>104.829234</td>\n      <td>11.380625</td>\n      <td>0.247819</td>\n    </tr>\n    <tr>\n      <th>min</th>\n      <td>1985.000000</td>\n      <td>0.000000</td>\n      <td>1101.000000</td>\n      <td>34.000000</td>\n      <td>1101.000000</td>\n      <td>20.000000</td>\n      <td>0.000000</td>\n    </tr>\n    <tr>\n      <th>25%</th>\n      <td>1994.000000</td>\n      <td>47.000000</td>\n      <td>1198.000000</td>\n      <td>68.000000</td>\n      <td>1191.000000</td>\n      <td>57.000000</td>\n      <td>0.000000</td>\n    </tr>\n    <tr>\n      <th>50%</th>\n      <td>2002.000000</td>\n      <td>78.000000</td>\n      <td>1284.000000</td>\n      <td>76.000000</td>\n      <td>1280.000000</td>\n      <td>64.000000</td>\n      <td>0.000000</td>\n    </tr>\n    <tr>\n      <th>75%</th>\n      <td>2010.000000</td>\n      <td>103.000000</td>\n      <td>1379.000000</td>\n      <td>84.000000</td>\n      <td>1375.000000</td>\n      <td>72.000000</td>\n      <td>0.000000</td>\n    </tr>\n    <tr>\n      <th>max</th>\n      <td>2016.000000</td>\n      <td>132.000000</td>\n      <td>1464.000000</td>\n      <td>186.000000</td>\n      <td>1464.000000</td>\n      <td>150.000000</td>\n      <td>6.000000</td>\n    </tr>\n  </tbody>\n</table>\n</div>"
     },
     "execution_count": 8,
     "metadata": {},
     "output_type": "execute_result"
    }
   ],
   "source": [
    "df.describe()"
   ]
  },
  {
   "attachments": {},
   "cell_type": "markdown",
   "metadata": {},
   "source": [
    "Okay, so now let's looking at information that we want to extract from the dataframe. Let's say I wanted to know the max value of a certain column. The function **max()** will show you the maximum values of all columns"
   ]
  },
  {
   "cell_type": "code",
   "execution_count": 9,
   "metadata": {
    "collapsed": false
   },
   "outputs": [
    {
     "data": {
      "text/plain": "Season    2016\nDaynum     132\nWteam     1464\nWscore     186\nLteam     1464\nLscore     150\nWloc         N\nNumot        6\ndtype: object"
     },
     "execution_count": 9,
     "metadata": {},
     "output_type": "execute_result"
    }
   ],
   "source": [
    "df.max()"
   ]
  },
  {
   "attachments": {},
   "cell_type": "markdown",
   "metadata": {},
   "source": [
    "Then, if you'd like to specifically get the max value for a particular column, you pass in the name of the column using the bracket indexing operator"
   ]
  },
  {
   "cell_type": "code",
   "execution_count": 10,
   "metadata": {
    "collapsed": false
   },
   "outputs": [
    {
     "data": {
      "text/plain": "186"
     },
     "execution_count": 10,
     "metadata": {},
     "output_type": "execute_result"
    }
   ],
   "source": [
    "df['Wscore'].max()"
   ]
  },
  {
   "attachments": {},
   "cell_type": "markdown",
   "metadata": {},
   "source": [
    "If you'd like to find the mean of the Losing teams' score."
   ]
  },
  {
   "cell_type": "code",
   "execution_count": 11,
   "metadata": {
    "collapsed": false
   },
   "outputs": [
    {
     "data": {
      "text/plain": "64.49700940883343"
     },
     "execution_count": 11,
     "metadata": {},
     "output_type": "execute_result"
    }
   ],
   "source": [
    "df['Lscore'].mean()"
   ]
  },
  {
   "attachments": {},
   "cell_type": "markdown",
   "metadata": {},
   "source": [
    "But what if that's not enough? Let's say we want to actually see the game(row) where this max score happened. We can call the **argmax()** function to identify the row index"
   ]
  },
  {
   "cell_type": "code",
   "execution_count": 12,
   "metadata": {
    "collapsed": false
   },
   "outputs": [
    {
     "data": {
      "text/plain": "24970"
     },
     "execution_count": 12,
     "metadata": {},
     "output_type": "execute_result"
    }
   ],
   "source": [
    "df['Wscore'].argmax()"
   ]
  },
  {
   "attachments": {},
   "cell_type": "markdown",
   "metadata": {},
   "source": [
    "One of the most useful functions that you can call on certain columns in a dataframe is the **value_counts()** function. It shows how many times each item appears in the column. This particular command shows the number of games in each season"
   ]
  },
  {
   "cell_type": "code",
   "execution_count": 13,
   "metadata": {
    "collapsed": false
   },
   "outputs": [
    {
     "data": {
      "text/plain": "Season\n2016    5369\n2014    5362\n2015    5354\n2013    5320\n2010    5263\n2012    5253\n2009    5249\n2011    5246\n2008    5163\n2007    5043\n2006    4757\n2005    4675\n2003    4616\n2004    4571\n2002    4555\n2000    4519\n2001    4467\n1999    4222\n1998    4167\n1997    4155\n1992    4127\n1991    4123\n1996    4122\n1995    4077\n1994    4060\n1990    4045\n1989    4037\n1993    3982\n1988    3955\n1987    3915\n1986    3783\n1985    3737\nName: count, dtype: int64"
     },
     "execution_count": 13,
     "metadata": {},
     "output_type": "execute_result"
    }
   ],
   "source": [
    "df['Season'].value_counts()"
   ]
  },
  {
   "attachments": {},
   "cell_type": "markdown",
   "metadata": {},
   "source": [
    "**Q**: How many unique seasons are there in the dataset? Use the nunique() function."
   ]
  },
  {
   "cell_type": "code",
   "execution_count": 14,
   "metadata": {},
   "outputs": [
    {
     "data": {
      "text/plain": "32"
     },
     "execution_count": 14,
     "metadata": {},
     "output_type": "execute_result"
    }
   ],
   "source": [
    "# Write your code here\n",
    "# this shows the number of unique seasons\n",
    "df[\"Season\"].nunique()"
   ]
  },
  {
   "attachments": {},
   "cell_type": "markdown",
   "metadata": {},
   "source": [
    "**Q**: Find the team with the most wins. Use the value_counts() function on the Wteam column."
   ]
  },
  {
   "cell_type": "code",
   "execution_count": 15,
   "metadata": {},
   "outputs": [
    {
     "data": {
      "text/plain": "Wteam\n1181    819\n1242    804\n1246    765\n1314    761\n1112    746\n       ... \n1101     18\n1446     14\n1118      6\n1289      6\n1327      3\nName: count, Length: 364, dtype: int64"
     },
     "execution_count": 15,
     "metadata": {},
     "output_type": "execute_result"
    }
   ],
   "source": [
    "# Write your code her\n",
    "#  you can see that team 1181 is the one with the most wins\n",
    "df[\"Wteam\"].value_counts()"
   ]
  },
  {
   "attachments": {},
   "cell_type": "markdown",
   "metadata": {},
   "source": [
    "# Acessing Values"
   ]
  },
  {
   "attachments": {},
   "cell_type": "markdown",
   "metadata": {},
   "source": [
    "Then, in order to get attributes about the game, we need to use the **iloc[]** function. Iloc is definitely one of the more important functions. The main idea is that you want to use it whenever you have the integer index of a certain row that you want to access. As per Pandas documentation, iloc is an \"integer-location based indexing for selection by position.\""
   ]
  },
  {
   "cell_type": "code",
   "execution_count": 16,
   "metadata": {
    "collapsed": false
   },
   "outputs": [
    {
     "data": {
      "text/plain": "       Season  Daynum  Wteam  Wscore  Lteam  Lscore Wloc  Numot\n24970    1991      68   1258     186   1109     140    H      0",
      "text/html": "<div>\n<style scoped>\n    .dataframe tbody tr th:only-of-type {\n        vertical-align: middle;\n    }\n\n    .dataframe tbody tr th {\n        vertical-align: top;\n    }\n\n    .dataframe thead th {\n        text-align: right;\n    }\n</style>\n<table border=\"1\" class=\"dataframe\">\n  <thead>\n    <tr style=\"text-align: right;\">\n      <th></th>\n      <th>Season</th>\n      <th>Daynum</th>\n      <th>Wteam</th>\n      <th>Wscore</th>\n      <th>Lteam</th>\n      <th>Lscore</th>\n      <th>Wloc</th>\n      <th>Numot</th>\n    </tr>\n  </thead>\n  <tbody>\n    <tr>\n      <th>24970</th>\n      <td>1991</td>\n      <td>68</td>\n      <td>1258</td>\n      <td>186</td>\n      <td>1109</td>\n      <td>140</td>\n      <td>H</td>\n      <td>0</td>\n    </tr>\n  </tbody>\n</table>\n</div>"
     },
     "execution_count": 16,
     "metadata": {},
     "output_type": "execute_result"
    }
   ],
   "source": [
    "df.iloc[[df['Wscore'].argmax()]]"
   ]
  },
  {
   "attachments": {},
   "cell_type": "markdown",
   "metadata": {},
   "source": [
    "Let's take this a step further. Let's say you want to know the game with the highest scoring winning team (this is what we just calculated), but you then want to know how many points the losing team scored."
   ]
  },
  {
   "cell_type": "code",
   "execution_count": 17,
   "metadata": {
    "collapsed": false
   },
   "outputs": [
    {
     "data": {
      "text/plain": "24970    140\nName: Lscore, dtype: int64"
     },
     "execution_count": 17,
     "metadata": {},
     "output_type": "execute_result"
    }
   ],
   "source": [
    "df.iloc[[df['Wscore'].argmax()]]['Lscore']"
   ]
  },
  {
   "attachments": {},
   "cell_type": "markdown",
   "metadata": {},
   "source": [
    "When you see data displayed in the above format, you're dealing with a Pandas **Series** object, not a dataframe object."
   ]
  },
  {
   "cell_type": "code",
   "execution_count": 18,
   "metadata": {
    "collapsed": false
   },
   "outputs": [
    {
     "data": {
      "text/plain": "pandas.core.series.Series"
     },
     "execution_count": 18,
     "metadata": {},
     "output_type": "execute_result"
    }
   ],
   "source": [
    "type(df.iloc[[df['Wscore'].argmax()]]['Lscore'])"
   ]
  },
  {
   "cell_type": "code",
   "execution_count": 19,
   "metadata": {
    "collapsed": false
   },
   "outputs": [
    {
     "data": {
      "text/plain": "pandas.core.frame.DataFrame"
     },
     "execution_count": 19,
     "metadata": {},
     "output_type": "execute_result"
    }
   ],
   "source": [
    "type(df.iloc[[df['Wscore'].argmax()]])"
   ]
  },
  {
   "attachments": {},
   "cell_type": "markdown",
   "metadata": {},
   "source": [
    "The following is a summary of the 3 data structures in Pandas (Haven't ever really used Panels yet)\n",
    "\n",
    "![](DataStructures.png)"
   ]
  },
  {
   "attachments": {},
   "cell_type": "markdown",
   "metadata": {},
   "source": [
    "When you want to access values in a Series, you'll want to just treat the Series like a Python dictionary, so you'd access the value according to its key (which is normally an integer index)"
   ]
  },
  {
   "cell_type": "code",
   "execution_count": 20,
   "metadata": {
    "collapsed": false
   },
   "outputs": [
    {
     "data": {
      "text/plain": "140"
     },
     "execution_count": 20,
     "metadata": {},
     "output_type": "execute_result"
    }
   ],
   "source": [
    "df.iloc[[df['Wscore'].argmax()]]['Lscore'][24970]"
   ]
  },
  {
   "attachments": {},
   "cell_type": "markdown",
   "metadata": {},
   "source": [
    "The other really important function in Pandas is the **loc** function. Contrary to iloc, which is an integer based indexing, loc is a \"Purely label-location based indexer for selection by label\". Since all the games are ordered from 0 to 145288, iloc and loc are going to be pretty interchangable in this type of dataset"
   ]
  },
  {
   "cell_type": "code",
   "execution_count": 21,
   "metadata": {
    "collapsed": false
   },
   "outputs": [
    {
     "data": {
      "text/plain": "   Season  Daynum  Wteam  Wscore  Lteam  Lscore Wloc  Numot\n0    1985      20   1228      81   1328      64    N      0\n1    1985      25   1106      77   1354      70    H      0\n2    1985      25   1112      63   1223      56    H      0",
      "text/html": "<div>\n<style scoped>\n    .dataframe tbody tr th:only-of-type {\n        vertical-align: middle;\n    }\n\n    .dataframe tbody tr th {\n        vertical-align: top;\n    }\n\n    .dataframe thead th {\n        text-align: right;\n    }\n</style>\n<table border=\"1\" class=\"dataframe\">\n  <thead>\n    <tr style=\"text-align: right;\">\n      <th></th>\n      <th>Season</th>\n      <th>Daynum</th>\n      <th>Wteam</th>\n      <th>Wscore</th>\n      <th>Lteam</th>\n      <th>Lscore</th>\n      <th>Wloc</th>\n      <th>Numot</th>\n    </tr>\n  </thead>\n  <tbody>\n    <tr>\n      <th>0</th>\n      <td>1985</td>\n      <td>20</td>\n      <td>1228</td>\n      <td>81</td>\n      <td>1328</td>\n      <td>64</td>\n      <td>N</td>\n      <td>0</td>\n    </tr>\n    <tr>\n      <th>1</th>\n      <td>1985</td>\n      <td>25</td>\n      <td>1106</td>\n      <td>77</td>\n      <td>1354</td>\n      <td>70</td>\n      <td>H</td>\n      <td>0</td>\n    </tr>\n    <tr>\n      <th>2</th>\n      <td>1985</td>\n      <td>25</td>\n      <td>1112</td>\n      <td>63</td>\n      <td>1223</td>\n      <td>56</td>\n      <td>H</td>\n      <td>0</td>\n    </tr>\n  </tbody>\n</table>\n</div>"
     },
     "execution_count": 21,
     "metadata": {},
     "output_type": "execute_result"
    }
   ],
   "source": [
    "df.iloc[:3]"
   ]
  },
  {
   "cell_type": "code",
   "execution_count": 22,
   "metadata": {
    "collapsed": false
   },
   "outputs": [
    {
     "data": {
      "text/plain": "   Season  Daynum  Wteam  Wscore  Lteam  Lscore Wloc  Numot\n0    1985      20   1228      81   1328      64    N      0\n1    1985      25   1106      77   1354      70    H      0\n2    1985      25   1112      63   1223      56    H      0\n3    1985      25   1165      70   1432      54    H      0",
      "text/html": "<div>\n<style scoped>\n    .dataframe tbody tr th:only-of-type {\n        vertical-align: middle;\n    }\n\n    .dataframe tbody tr th {\n        vertical-align: top;\n    }\n\n    .dataframe thead th {\n        text-align: right;\n    }\n</style>\n<table border=\"1\" class=\"dataframe\">\n  <thead>\n    <tr style=\"text-align: right;\">\n      <th></th>\n      <th>Season</th>\n      <th>Daynum</th>\n      <th>Wteam</th>\n      <th>Wscore</th>\n      <th>Lteam</th>\n      <th>Lscore</th>\n      <th>Wloc</th>\n      <th>Numot</th>\n    </tr>\n  </thead>\n  <tbody>\n    <tr>\n      <th>0</th>\n      <td>1985</td>\n      <td>20</td>\n      <td>1228</td>\n      <td>81</td>\n      <td>1328</td>\n      <td>64</td>\n      <td>N</td>\n      <td>0</td>\n    </tr>\n    <tr>\n      <th>1</th>\n      <td>1985</td>\n      <td>25</td>\n      <td>1106</td>\n      <td>77</td>\n      <td>1354</td>\n      <td>70</td>\n      <td>H</td>\n      <td>0</td>\n    </tr>\n    <tr>\n      <th>2</th>\n      <td>1985</td>\n      <td>25</td>\n      <td>1112</td>\n      <td>63</td>\n      <td>1223</td>\n      <td>56</td>\n      <td>H</td>\n      <td>0</td>\n    </tr>\n    <tr>\n      <th>3</th>\n      <td>1985</td>\n      <td>25</td>\n      <td>1165</td>\n      <td>70</td>\n      <td>1432</td>\n      <td>54</td>\n      <td>H</td>\n      <td>0</td>\n    </tr>\n  </tbody>\n</table>\n</div>"
     },
     "execution_count": 22,
     "metadata": {},
     "output_type": "execute_result"
    }
   ],
   "source": [
    "df.loc[:3]"
   ]
  },
  {
   "attachments": {},
   "cell_type": "markdown",
   "metadata": {},
   "source": [
    "Notice the slight difference in that iloc is exclusive of the second number, while loc is inclusive."
   ]
  },
  {
   "attachments": {},
   "cell_type": "markdown",
   "metadata": {},
   "source": [
    "Below is an example of how you can use loc to acheive the same task as we did previously with iloc"
   ]
  },
  {
   "cell_type": "code",
   "execution_count": 23,
   "metadata": {
    "collapsed": false
   },
   "outputs": [
    {
     "data": {
      "text/plain": "140"
     },
     "execution_count": 23,
     "metadata": {},
     "output_type": "execute_result"
    }
   ],
   "source": [
    "df.loc[df['Wscore'].argmax(), 'Lscore']"
   ]
  },
  {
   "attachments": {},
   "cell_type": "markdown",
   "metadata": {},
   "source": [
    "A faster version uses the **at()** function. At() is really useful wheneever you know the row label and the column label of the particular value that you want to get."
   ]
  },
  {
   "cell_type": "code",
   "execution_count": 24,
   "metadata": {
    "collapsed": false
   },
   "outputs": [
    {
     "data": {
      "text/plain": "140"
     },
     "execution_count": 24,
     "metadata": {},
     "output_type": "execute_result"
    }
   ],
   "source": [
    "df.at[df['Wscore'].argmax(), 'Lscore']"
   ]
  },
  {
   "attachments": {},
   "cell_type": "markdown",
   "metadata": {},
   "source": [
    "If you'd like to see more discussion on how loc and iloc are different, check out this great Stack Overflow post: http://stackoverflow.com/questions/31593201/pandas-iloc-vs-ix-vs-loc-explanation. Just remember that **iloc looks at position** and **loc looks at labels**. Loc becomes very important when your row labels aren't integers."
   ]
  },
  {
   "attachments": {},
   "cell_type": "markdown",
   "metadata": {},
   "source": [
    "# Sorting"
   ]
  },
  {
   "attachments": {},
   "cell_type": "markdown",
   "metadata": {},
   "source": [
    "Let's say that we want to sort the dataframe in increasing order for the scores of the losing team"
   ]
  },
  {
   "cell_type": "code",
   "execution_count": 25,
   "metadata": {
    "collapsed": false,
    "scrolled": true
   },
   "outputs": [
    {
     "data": {
      "text/plain": "        Season  Daynum  Wteam  Wscore  Lteam  Lscore Wloc  Numot\n100027    2008      66   1203      49   1387      20    H      0\n49310     1997      66   1157      61   1204      21    H      0\n89021     2006      44   1284      41   1343      21    A      0\n85042     2005      66   1131      73   1216      22    H      0\n103660    2009      26   1326      59   1359      22    H      0",
      "text/html": "<div>\n<style scoped>\n    .dataframe tbody tr th:only-of-type {\n        vertical-align: middle;\n    }\n\n    .dataframe tbody tr th {\n        vertical-align: top;\n    }\n\n    .dataframe thead th {\n        text-align: right;\n    }\n</style>\n<table border=\"1\" class=\"dataframe\">\n  <thead>\n    <tr style=\"text-align: right;\">\n      <th></th>\n      <th>Season</th>\n      <th>Daynum</th>\n      <th>Wteam</th>\n      <th>Wscore</th>\n      <th>Lteam</th>\n      <th>Lscore</th>\n      <th>Wloc</th>\n      <th>Numot</th>\n    </tr>\n  </thead>\n  <tbody>\n    <tr>\n      <th>100027</th>\n      <td>2008</td>\n      <td>66</td>\n      <td>1203</td>\n      <td>49</td>\n      <td>1387</td>\n      <td>20</td>\n      <td>H</td>\n      <td>0</td>\n    </tr>\n    <tr>\n      <th>49310</th>\n      <td>1997</td>\n      <td>66</td>\n      <td>1157</td>\n      <td>61</td>\n      <td>1204</td>\n      <td>21</td>\n      <td>H</td>\n      <td>0</td>\n    </tr>\n    <tr>\n      <th>89021</th>\n      <td>2006</td>\n      <td>44</td>\n      <td>1284</td>\n      <td>41</td>\n      <td>1343</td>\n      <td>21</td>\n      <td>A</td>\n      <td>0</td>\n    </tr>\n    <tr>\n      <th>85042</th>\n      <td>2005</td>\n      <td>66</td>\n      <td>1131</td>\n      <td>73</td>\n      <td>1216</td>\n      <td>22</td>\n      <td>H</td>\n      <td>0</td>\n    </tr>\n    <tr>\n      <th>103660</th>\n      <td>2009</td>\n      <td>26</td>\n      <td>1326</td>\n      <td>59</td>\n      <td>1359</td>\n      <td>22</td>\n      <td>H</td>\n      <td>0</td>\n    </tr>\n  </tbody>\n</table>\n</div>"
     },
     "execution_count": 25,
     "metadata": {},
     "output_type": "execute_result"
    }
   ],
   "source": [
    "df.sort_values('Lscore').head()"
   ]
  },
  {
   "attachments": {},
   "cell_type": "markdown",
   "metadata": {},
   "source": [
    "**Q**: Make three dataframes that are sorted by season, winning team, and winning score respectively. Then, Using iloc, select the rows from index 100 to 200 and the columns for season, winning team, and winning score, respectively."
   ]
  },
  {
   "cell_type": "code",
   "execution_count": 26,
   "metadata": {},
   "outputs": [
    {
     "name": "stdout",
     "output_type": "stream",
     "text": [
      "97792     1102\n",
      "97721     1102\n",
      "96770     1102\n",
      "96658     1102\n",
      "96454     1102\n",
      "          ... \n",
      "33628     1102\n",
      "32738     1102\n",
      "135550    1102\n",
      "32610     1102\n",
      "32310     1102\n",
      "Name: Wteam, Length: 101, dtype: int64\n",
      "99013     43\n",
      "126840    43\n",
      "126982    43\n",
      "15619     43\n",
      "122700    43\n",
      "          ..\n",
      "135433    45\n",
      "72338     45\n",
      "135808    45\n",
      "129196    45\n",
      "132791    45\n",
      "Name: Wscore, Length: 101, dtype: int64\n",
      "2525    1985\n",
      "2526    1985\n",
      "2527    1985\n",
      "2528    1985\n",
      "2529    1985\n",
      "        ... \n",
      "2447    1985\n",
      "2448    1985\n",
      "2449    1985\n",
      "2450    1985\n",
      "2425    1985\n",
      "Name: Season, Length: 101, dtype: int64\n"
     ]
    }
   ],
   "source": [
    "# Write your code here\n",
    "# first I sort the dataframes and then i print the ones indexed from 100 to 200 since iloc does not include the last index I give 201 as an argument\n",
    "win_team_sort = df.sort_values(\"Wteam\")\n",
    "print(win_team_sort.iloc[100:201][\"Wteam\"])\n",
    "win_score_sort = df.sort_values(\"Wscore\")\n",
    "print(win_score_sort.iloc[100:201][\"Wscore\"])\n",
    "season_sort = df.sort_values(\"Season\")\n",
    "print(season_sort.iloc[100:201][\"Season\"])\n"
   ]
  },
  {
   "attachments": {},
   "cell_type": "markdown",
   "metadata": {},
   "source": [
    "**Q**: From these three subsets you obtained above, find the season and winning team for the game with the highest winning score."
   ]
  },
  {
   "cell_type": "code",
   "execution_count": 27,
   "outputs": [
    {
     "data": {
      "text/plain": "Season    1991\nDaynum      68\nWteam     1258\nWscore     186\nLteam     1109\nLscore     140\nWloc         H\nNumot        0\nName: 24970, dtype: object"
     },
     "execution_count": 27,
     "metadata": {},
     "output_type": "execute_result"
    }
   ],
   "source": [
    "# Write your code here\n",
    "# the last observation is the largest\n",
    "win_score_sort.iloc[-1]"
   ],
   "metadata": {
    "collapsed": false,
    "pycharm": {
     "name": "#%%\n"
    }
   }
  },
  {
   "cell_type": "markdown",
   "source": [
    "# Filtering Rows Conditionally"
   ],
   "metadata": {
    "collapsed": false
   }
  },
  {
   "cell_type": "markdown",
   "source": [
    "Now, let's say we want to find all of the rows that satisy a particular condition. For example, I want to find all of the games where the winning team scored more than 150 points. The idea behind this command is you want to access the column 'Wscore' of the dataframe df (df['Wscore']), find which entries are above 150 (df['Wscore'] > 150), and then returns only those specific rows in a dataframe format (df[df['Wscore'] > 150])."
   ],
   "metadata": {
    "collapsed": false
   }
  },
  {
   "cell_type": "code",
   "execution_count": 28,
   "metadata": {
    "collapsed": false
   },
   "outputs": [
    {
     "data": {
      "text/plain": "       Season  Daynum  Wteam  Wscore  Lteam  Lscore Wloc  Numot\n5269     1986      75   1258     151   1109     107    H      0\n12046    1988      40   1328     152   1147      84    H      0\n12355    1988      52   1328     151   1173      99    N      0\n16040    1989      40   1328     152   1331     122    H      0\n16853    1989      68   1258     162   1109     144    A      0\n17867    1989      92   1258     181   1109     150    H      0\n19653    1990      30   1328     173   1109     101    H      0\n19971    1990      38   1258     152   1109     137    A      0\n20022    1990      40   1116     166   1109     101    H      0\n22145    1990      97   1258     157   1362     115    H      0\n23582    1991      26   1318     152   1258     123    N      0\n24341    1991      47   1328     172   1258     112    H      0\n24970    1991      68   1258     186   1109     140    H      0\n25656    1991      84   1106     151   1212      97    H      0\n28687    1992      54   1261     159   1319      86    H      0\n35023    1993     112   1380     155   1341      91    A      0\n40060    1995      32   1375     156   1341     114    H      0\n52600    1998      33   1395     153   1410      87    H      0",
      "text/html": "<div>\n<style scoped>\n    .dataframe tbody tr th:only-of-type {\n        vertical-align: middle;\n    }\n\n    .dataframe tbody tr th {\n        vertical-align: top;\n    }\n\n    .dataframe thead th {\n        text-align: right;\n    }\n</style>\n<table border=\"1\" class=\"dataframe\">\n  <thead>\n    <tr style=\"text-align: right;\">\n      <th></th>\n      <th>Season</th>\n      <th>Daynum</th>\n      <th>Wteam</th>\n      <th>Wscore</th>\n      <th>Lteam</th>\n      <th>Lscore</th>\n      <th>Wloc</th>\n      <th>Numot</th>\n    </tr>\n  </thead>\n  <tbody>\n    <tr>\n      <th>5269</th>\n      <td>1986</td>\n      <td>75</td>\n      <td>1258</td>\n      <td>151</td>\n      <td>1109</td>\n      <td>107</td>\n      <td>H</td>\n      <td>0</td>\n    </tr>\n    <tr>\n      <th>12046</th>\n      <td>1988</td>\n      <td>40</td>\n      <td>1328</td>\n      <td>152</td>\n      <td>1147</td>\n      <td>84</td>\n      <td>H</td>\n      <td>0</td>\n    </tr>\n    <tr>\n      <th>12355</th>\n      <td>1988</td>\n      <td>52</td>\n      <td>1328</td>\n      <td>151</td>\n      <td>1173</td>\n      <td>99</td>\n      <td>N</td>\n      <td>0</td>\n    </tr>\n    <tr>\n      <th>16040</th>\n      <td>1989</td>\n      <td>40</td>\n      <td>1328</td>\n      <td>152</td>\n      <td>1331</td>\n      <td>122</td>\n      <td>H</td>\n      <td>0</td>\n    </tr>\n    <tr>\n      <th>16853</th>\n      <td>1989</td>\n      <td>68</td>\n      <td>1258</td>\n      <td>162</td>\n      <td>1109</td>\n      <td>144</td>\n      <td>A</td>\n      <td>0</td>\n    </tr>\n    <tr>\n      <th>17867</th>\n      <td>1989</td>\n      <td>92</td>\n      <td>1258</td>\n      <td>181</td>\n      <td>1109</td>\n      <td>150</td>\n      <td>H</td>\n      <td>0</td>\n    </tr>\n    <tr>\n      <th>19653</th>\n      <td>1990</td>\n      <td>30</td>\n      <td>1328</td>\n      <td>173</td>\n      <td>1109</td>\n      <td>101</td>\n      <td>H</td>\n      <td>0</td>\n    </tr>\n    <tr>\n      <th>19971</th>\n      <td>1990</td>\n      <td>38</td>\n      <td>1258</td>\n      <td>152</td>\n      <td>1109</td>\n      <td>137</td>\n      <td>A</td>\n      <td>0</td>\n    </tr>\n    <tr>\n      <th>20022</th>\n      <td>1990</td>\n      <td>40</td>\n      <td>1116</td>\n      <td>166</td>\n      <td>1109</td>\n      <td>101</td>\n      <td>H</td>\n      <td>0</td>\n    </tr>\n    <tr>\n      <th>22145</th>\n      <td>1990</td>\n      <td>97</td>\n      <td>1258</td>\n      <td>157</td>\n      <td>1362</td>\n      <td>115</td>\n      <td>H</td>\n      <td>0</td>\n    </tr>\n    <tr>\n      <th>23582</th>\n      <td>1991</td>\n      <td>26</td>\n      <td>1318</td>\n      <td>152</td>\n      <td>1258</td>\n      <td>123</td>\n      <td>N</td>\n      <td>0</td>\n    </tr>\n    <tr>\n      <th>24341</th>\n      <td>1991</td>\n      <td>47</td>\n      <td>1328</td>\n      <td>172</td>\n      <td>1258</td>\n      <td>112</td>\n      <td>H</td>\n      <td>0</td>\n    </tr>\n    <tr>\n      <th>24970</th>\n      <td>1991</td>\n      <td>68</td>\n      <td>1258</td>\n      <td>186</td>\n      <td>1109</td>\n      <td>140</td>\n      <td>H</td>\n      <td>0</td>\n    </tr>\n    <tr>\n      <th>25656</th>\n      <td>1991</td>\n      <td>84</td>\n      <td>1106</td>\n      <td>151</td>\n      <td>1212</td>\n      <td>97</td>\n      <td>H</td>\n      <td>0</td>\n    </tr>\n    <tr>\n      <th>28687</th>\n      <td>1992</td>\n      <td>54</td>\n      <td>1261</td>\n      <td>159</td>\n      <td>1319</td>\n      <td>86</td>\n      <td>H</td>\n      <td>0</td>\n    </tr>\n    <tr>\n      <th>35023</th>\n      <td>1993</td>\n      <td>112</td>\n      <td>1380</td>\n      <td>155</td>\n      <td>1341</td>\n      <td>91</td>\n      <td>A</td>\n      <td>0</td>\n    </tr>\n    <tr>\n      <th>40060</th>\n      <td>1995</td>\n      <td>32</td>\n      <td>1375</td>\n      <td>156</td>\n      <td>1341</td>\n      <td>114</td>\n      <td>H</td>\n      <td>0</td>\n    </tr>\n    <tr>\n      <th>52600</th>\n      <td>1998</td>\n      <td>33</td>\n      <td>1395</td>\n      <td>153</td>\n      <td>1410</td>\n      <td>87</td>\n      <td>H</td>\n      <td>0</td>\n    </tr>\n  </tbody>\n</table>\n</div>"
     },
     "execution_count": 28,
     "metadata": {},
     "output_type": "execute_result"
    }
   ],
   "source": [
    "df[df['Wscore'] > 150]"
   ]
  },
  {
   "attachments": {},
   "cell_type": "markdown",
   "metadata": {},
   "source": [
    "This also works if you have multiple conditions. Let's say we want to find out when the winning team scores more than 150 points and when the losing team scores below 100."
   ]
  },
  {
   "cell_type": "code",
   "execution_count": 29,
   "metadata": {
    "collapsed": false
   },
   "outputs": [
    {
     "data": {
      "text/plain": "       Season  Daynum  Wteam  Wscore  Lteam  Lscore Wloc  Numot\n12046    1988      40   1328     152   1147      84    H      0\n12355    1988      52   1328     151   1173      99    N      0\n25656    1991      84   1106     151   1212      97    H      0\n28687    1992      54   1261     159   1319      86    H      0\n35023    1993     112   1380     155   1341      91    A      0\n52600    1998      33   1395     153   1410      87    H      0",
      "text/html": "<div>\n<style scoped>\n    .dataframe tbody tr th:only-of-type {\n        vertical-align: middle;\n    }\n\n    .dataframe tbody tr th {\n        vertical-align: top;\n    }\n\n    .dataframe thead th {\n        text-align: right;\n    }\n</style>\n<table border=\"1\" class=\"dataframe\">\n  <thead>\n    <tr style=\"text-align: right;\">\n      <th></th>\n      <th>Season</th>\n      <th>Daynum</th>\n      <th>Wteam</th>\n      <th>Wscore</th>\n      <th>Lteam</th>\n      <th>Lscore</th>\n      <th>Wloc</th>\n      <th>Numot</th>\n    </tr>\n  </thead>\n  <tbody>\n    <tr>\n      <th>12046</th>\n      <td>1988</td>\n      <td>40</td>\n      <td>1328</td>\n      <td>152</td>\n      <td>1147</td>\n      <td>84</td>\n      <td>H</td>\n      <td>0</td>\n    </tr>\n    <tr>\n      <th>12355</th>\n      <td>1988</td>\n      <td>52</td>\n      <td>1328</td>\n      <td>151</td>\n      <td>1173</td>\n      <td>99</td>\n      <td>N</td>\n      <td>0</td>\n    </tr>\n    <tr>\n      <th>25656</th>\n      <td>1991</td>\n      <td>84</td>\n      <td>1106</td>\n      <td>151</td>\n      <td>1212</td>\n      <td>97</td>\n      <td>H</td>\n      <td>0</td>\n    </tr>\n    <tr>\n      <th>28687</th>\n      <td>1992</td>\n      <td>54</td>\n      <td>1261</td>\n      <td>159</td>\n      <td>1319</td>\n      <td>86</td>\n      <td>H</td>\n      <td>0</td>\n    </tr>\n    <tr>\n      <th>35023</th>\n      <td>1993</td>\n      <td>112</td>\n      <td>1380</td>\n      <td>155</td>\n      <td>1341</td>\n      <td>91</td>\n      <td>A</td>\n      <td>0</td>\n    </tr>\n    <tr>\n      <th>52600</th>\n      <td>1998</td>\n      <td>33</td>\n      <td>1395</td>\n      <td>153</td>\n      <td>1410</td>\n      <td>87</td>\n      <td>H</td>\n      <td>0</td>\n    </tr>\n  </tbody>\n</table>\n</div>"
     },
     "execution_count": 29,
     "metadata": {},
     "output_type": "execute_result"
    }
   ],
   "source": [
    "df[(df['Wscore'] > 150) & (df['Lscore'] < 100)]"
   ]
  },
  {
   "attachments": {},
   "cell_type": "markdown",
   "metadata": {},
   "source": [
    "**Q**: Create a new column in the DataFrame called 'ScoreDifference' which is the absolute difference between the winning score and the losing score. Filter the DataFrame to only include games where the 'ScoreDifference' is greater than the average 'ScoreDifference' for all games."
   ]
  },
  {
   "cell_type": "code",
   "execution_count": 30,
   "metadata": {},
   "outputs": [
    {
     "data": {
      "text/plain": "        Season  Daynum  Wteam  Wscore  Lteam  Lscore Wloc  Numot  \\\n0         1985      20   1228      81   1328      64    N      0   \n3         1985      25   1165      70   1432      54    H      0   \n6         1985      25   1228      64   1226      44    N      0   \n8         1985      25   1260      98   1133      80    H      0   \n10        1985      25   1307     103   1288      71    H      0   \n...        ...     ...    ...     ...    ...     ...  ...    ...   \n145280    2016     131   1401      71   1261      38    N      0   \n145282    2016     131   1433      76   1172      54    N      0   \n145284    2016     132   1114      70   1419      50    N      0   \n145285    2016     132   1163      72   1272      58    N      0   \n145288    2016     132   1386      87   1433      74    N      0   \n\n        ScoreDifference  \n0                    17  \n3                    16  \n6                    20  \n8                    18  \n10                   32  \n...                 ...  \n145280               33  \n145282               22  \n145284               20  \n145285               14  \n145288               13  \n\n[57227 rows x 9 columns]",
      "text/html": "<div>\n<style scoped>\n    .dataframe tbody tr th:only-of-type {\n        vertical-align: middle;\n    }\n\n    .dataframe tbody tr th {\n        vertical-align: top;\n    }\n\n    .dataframe thead th {\n        text-align: right;\n    }\n</style>\n<table border=\"1\" class=\"dataframe\">\n  <thead>\n    <tr style=\"text-align: right;\">\n      <th></th>\n      <th>Season</th>\n      <th>Daynum</th>\n      <th>Wteam</th>\n      <th>Wscore</th>\n      <th>Lteam</th>\n      <th>Lscore</th>\n      <th>Wloc</th>\n      <th>Numot</th>\n      <th>ScoreDifference</th>\n    </tr>\n  </thead>\n  <tbody>\n    <tr>\n      <th>0</th>\n      <td>1985</td>\n      <td>20</td>\n      <td>1228</td>\n      <td>81</td>\n      <td>1328</td>\n      <td>64</td>\n      <td>N</td>\n      <td>0</td>\n      <td>17</td>\n    </tr>\n    <tr>\n      <th>3</th>\n      <td>1985</td>\n      <td>25</td>\n      <td>1165</td>\n      <td>70</td>\n      <td>1432</td>\n      <td>54</td>\n      <td>H</td>\n      <td>0</td>\n      <td>16</td>\n    </tr>\n    <tr>\n      <th>6</th>\n      <td>1985</td>\n      <td>25</td>\n      <td>1228</td>\n      <td>64</td>\n      <td>1226</td>\n      <td>44</td>\n      <td>N</td>\n      <td>0</td>\n      <td>20</td>\n    </tr>\n    <tr>\n      <th>8</th>\n      <td>1985</td>\n      <td>25</td>\n      <td>1260</td>\n      <td>98</td>\n      <td>1133</td>\n      <td>80</td>\n      <td>H</td>\n      <td>0</td>\n      <td>18</td>\n    </tr>\n    <tr>\n      <th>10</th>\n      <td>1985</td>\n      <td>25</td>\n      <td>1307</td>\n      <td>103</td>\n      <td>1288</td>\n      <td>71</td>\n      <td>H</td>\n      <td>0</td>\n      <td>32</td>\n    </tr>\n    <tr>\n      <th>...</th>\n      <td>...</td>\n      <td>...</td>\n      <td>...</td>\n      <td>...</td>\n      <td>...</td>\n      <td>...</td>\n      <td>...</td>\n      <td>...</td>\n      <td>...</td>\n    </tr>\n    <tr>\n      <th>145280</th>\n      <td>2016</td>\n      <td>131</td>\n      <td>1401</td>\n      <td>71</td>\n      <td>1261</td>\n      <td>38</td>\n      <td>N</td>\n      <td>0</td>\n      <td>33</td>\n    </tr>\n    <tr>\n      <th>145282</th>\n      <td>2016</td>\n      <td>131</td>\n      <td>1433</td>\n      <td>76</td>\n      <td>1172</td>\n      <td>54</td>\n      <td>N</td>\n      <td>0</td>\n      <td>22</td>\n    </tr>\n    <tr>\n      <th>145284</th>\n      <td>2016</td>\n      <td>132</td>\n      <td>1114</td>\n      <td>70</td>\n      <td>1419</td>\n      <td>50</td>\n      <td>N</td>\n      <td>0</td>\n      <td>20</td>\n    </tr>\n    <tr>\n      <th>145285</th>\n      <td>2016</td>\n      <td>132</td>\n      <td>1163</td>\n      <td>72</td>\n      <td>1272</td>\n      <td>58</td>\n      <td>N</td>\n      <td>0</td>\n      <td>14</td>\n    </tr>\n    <tr>\n      <th>145288</th>\n      <td>2016</td>\n      <td>132</td>\n      <td>1386</td>\n      <td>87</td>\n      <td>1433</td>\n      <td>74</td>\n      <td>N</td>\n      <td>0</td>\n      <td>13</td>\n    </tr>\n  </tbody>\n</table>\n<p>57227 rows × 9 columns</p>\n</div>"
     },
     "execution_count": 30,
     "metadata": {},
     "output_type": "execute_result"
    }
   ],
   "source": [
    "# Write your code here\n",
    "# create a new column by subtracting the winning and losing score\n",
    "\n",
    "#calculate the difference\n",
    "df[\"ScoreDifference\"] = df[\"Wscore\"] - df[\"Lscore\"]\n",
    "#calculate the score difference mean\n",
    "df_mean_scoreDiff = df[\"ScoreDifference\"].mean()\n",
    "# take the locations where the condition applies\n",
    "df.loc[df[\"ScoreDifference\"] > df_mean_scoreDiff]"
   ]
  },
  {
   "attachments": {},
   "cell_type": "markdown",
   "metadata": {},
   "source": [
    "**Q**: From this filtered DataFrame, find the season and teams involved in the game with the highest 'ScoreDifference'."
   ]
  },
  {
   "cell_type": "code",
   "execution_count": 31,
   "metadata": {},
   "outputs": [
    {
     "data": {
      "text/plain": "Season             1996\nDaynum               48\nWteam              1409\nWscore              141\nLteam              1341\nLscore               50\nWloc                  H\nNumot                 0\nScoreDifference      91\nName: 44653, dtype: object"
     },
     "execution_count": 31,
     "metadata": {},
     "output_type": "execute_result"
    }
   ],
   "source": [
    "# Write your code here\n",
    "#argmax gets the index of the larges entry\n",
    "df.iloc[df[\"ScoreDifference\"].argmax()]"
   ]
  },
  {
   "attachments": {},
   "cell_type": "markdown",
   "metadata": {},
   "source": [
    "# Grouping"
   ]
  },
  {
   "attachments": {},
   "cell_type": "markdown",
   "metadata": {},
   "source": [
    "Another important function in Pandas is **groupby()**. This is a function that allows you to group entries by certain attributes (e.g Grouping entries by Wteam number) and then perform operations on them. The following function groups all the entries (games) with the same Wteam number and finds the mean for each group."
   ]
  },
  {
   "cell_type": "code",
   "execution_count": 32,
   "metadata": {
    "collapsed": false
   },
   "outputs": [
    {
     "data": {
      "text/plain": "Wteam\n1101    78.111111\n1102    69.893204\n1103    75.839768\n1104    75.825944\n1105    74.960894\nName: Wscore, dtype: float64"
     },
     "execution_count": 32,
     "metadata": {},
     "output_type": "execute_result"
    }
   ],
   "source": [
    "df.groupby('Wteam')['Wscore'].mean().head()"
   ]
  },
  {
   "attachments": {},
   "cell_type": "markdown",
   "metadata": {},
   "source": [
    "This next command groups all the games with the same Wteam number and finds where how many times that specific team won at home, on the road, or at a neutral site"
   ]
  },
  {
   "cell_type": "code",
   "execution_count": 33,
   "metadata": {
    "collapsed": false,
    "scrolled": false
   },
   "outputs": [
    {
     "data": {
      "text/plain": "Wteam  Wloc\n1101   H        12\n       N         3\n       A         3\n1102   H       204\n       A        73\n       N        32\n1103   H       324\n       A       153\n       N        41\nName: count, dtype: int64"
     },
     "execution_count": 33,
     "metadata": {},
     "output_type": "execute_result"
    }
   ],
   "source": [
    "df.groupby('Wteam')['Wloc'].value_counts().head(9)"
   ]
  },
  {
   "attachments": {},
   "cell_type": "markdown",
   "metadata": {},
   "source": [
    "Each dataframe has a **values** attribute which is useful because it basically displays your dataframe in a numpy array style format"
   ]
  },
  {
   "cell_type": "code",
   "execution_count": 34,
   "metadata": {
    "collapsed": false
   },
   "outputs": [
    {
     "data": {
      "text/plain": "array([[1985, 20, 1228, ..., 'N', 0, 17],\n       [1985, 25, 1106, ..., 'H', 0, 7],\n       [1985, 25, 1112, ..., 'H', 0, 7],\n       ...,\n       [2016, 132, 1246, ..., 'N', 1, 5],\n       [2016, 132, 1277, ..., 'N', 0, 4],\n       [2016, 132, 1386, ..., 'N', 0, 13]], dtype=object)"
     },
     "execution_count": 34,
     "metadata": {},
     "output_type": "execute_result"
    }
   ],
   "source": [
    "df.values"
   ]
  },
  {
   "attachments": {},
   "cell_type": "markdown",
   "metadata": {},
   "source": [
    "Now, you can simply just access elements like you would in an array."
   ]
  },
  {
   "cell_type": "code",
   "execution_count": 35,
   "metadata": {
    "collapsed": false
   },
   "outputs": [
    {
     "data": {
      "text/plain": "1985"
     },
     "execution_count": 35,
     "metadata": {},
     "output_type": "execute_result"
    }
   ],
   "source": [
    "df.values[0][0]"
   ]
  },
  {
   "attachments": {},
   "cell_type": "markdown",
   "metadata": {},
   "source": [
    "**Q**: Group the DataFrame by season and find the average winning score for each season."
   ]
  },
  {
   "cell_type": "code",
   "execution_count": 36,
   "metadata": {},
   "outputs": [
    {
     "data": {
      "text/plain": "Season\n1985    74.723040\n1986    74.813640\n1987    77.993870\n1988    79.773704\n1989    81.728511\n1990    80.846477\n1991    82.733932\n1992    79.992004\n1993    79.508790\n1994    81.160345\n1995    80.096149\n1996    78.205483\n1997    76.300842\n1998    77.229902\n1999    76.043581\n2000    76.310467\n2001    77.088650\n2002    76.963557\n2003    75.795061\n2004    74.971122\n2005    74.693690\n2006    74.587555\n2007    74.829467\n2008    74.962425\n2009    74.033721\n2010    74.652480\n2011    74.374190\n2012    73.379973\n2013    72.840789\n2014    76.101268\n2015    72.680799\n2016    78.295958\nName: Wscore, dtype: float64"
     },
     "execution_count": 36,
     "metadata": {},
     "output_type": "execute_result"
    }
   ],
   "source": [
    "# Write your code here\n",
    "df.groupby(\"Season\")[\"Wscore\"].mean()"
   ]
  },
  {
   "attachments": {},
   "cell_type": "markdown",
   "metadata": {},
   "source": [
    "**Q**: Group the DataFrame by winning team and find the maximum winning score for each team across all seasons."
   ]
  },
  {
   "cell_type": "code",
   "execution_count": 37,
   "metadata": {},
   "outputs": [
    {
     "data": {
      "text/plain": "Wteam\n1101    78.111111\n1102    69.893204\n1103    75.839768\n1104    75.825944\n1105    74.960894\n          ...    \n1460    75.531469\n1461    75.170082\n1462    79.906021\n1463    71.720102\n1464    73.926056\nName: Wscore, Length: 364, dtype: float64"
     },
     "execution_count": 37,
     "metadata": {},
     "output_type": "execute_result"
    }
   ],
   "source": [
    "# Write your code here\n",
    "df.groupby(\"Wteam\")[\"Wscore\"].mean()"
   ]
  },
  {
   "attachments": {},
   "cell_type": "markdown",
   "metadata": {},
   "source": [
    "**Q**: Group the DataFrame by both season and winning team. Find the team with the highest average winning score for each season."
   ]
  },
  {
   "cell_type": "code",
   "execution_count": 38,
   "metadata": {},
   "outputs": [
    {
     "data": {
      "text/plain": "Season\n1985    (1985, 1328)\n1986    (1986, 1109)\n1987    (1987, 1380)\n1988    (1988, 1258)\n1989    (1989, 1258)\n1990    (1990, 1258)\n1991    (1991, 1380)\n1992    (1992, 1380)\n1993    (1993, 1380)\n1994    (1994, 1380)\n1995    (1995, 1206)\n1996    (1996, 1206)\n1997    (1997, 1254)\n1998    (1998, 1395)\n1999    (1999, 1317)\n2000    (2000, 1395)\n2001    (2001, 1395)\n2002    (2002, 1242)\n2003    (2003, 1395)\n2004    (2004, 1194)\n2005    (2005, 1311)\n2006    (2006, 1190)\n2007    (2007, 1440)\n2008    (2008, 1440)\n2009    (2009, 1377)\n2010    (2010, 1440)\n2011    (2011, 1449)\n2012    (2012, 1370)\n2013    (2013, 1377)\n2014    (2014, 1322)\n2015    (2015, 1322)\n2016    (2016, 1146)\nName: Wscore, dtype: object"
     },
     "execution_count": 38,
     "metadata": {},
     "output_type": "execute_result"
    }
   ],
   "source": [
    "# Write your code here\n",
    "# I first group the data by the relevant columns then I group it again and call the idxmax which gives the team with the max mean winning score as the second parameter in the parenthesis\n",
    "\n",
    "df.groupby([\"Season\",\"Wteam\"])[\"Wscore\"].mean().groupby(level=0).idxmax()\n"
   ]
  },
  {
   "attachments": {},
   "cell_type": "markdown",
   "metadata": {},
   "source": [
    "**Q**: Create a new DataFrame that counts the number of wins for each team in each season. This will involve grouping by both season and winning team, and then using the count() function."
   ]
  },
  {
   "cell_type": "code",
   "execution_count": 39,
   "outputs": [
    {
     "data": {
      "text/plain": "Season  Wteam\n1985    1102      5\n        1103      9\n        1104     21\n        1106     10\n        1108     19\n                 ..\n2016    1460     20\n        1461     12\n        1462     27\n        1463     21\n        1464      9\nName: Wteam, Length: 10172, dtype: int64"
     },
     "execution_count": 39,
     "metadata": {},
     "output_type": "execute_result"
    }
   ],
   "source": [
    "# Write your code here\n",
    "# each season has the number os wins for each team\n",
    "df.groupby([\"Season\",\"Wteam\"])[\"Wteam\"].count()"
   ],
   "metadata": {
    "collapsed": false,
    "pycharm": {
     "name": "#%%\n"
    }
   }
  },
  {
   "cell_type": "markdown",
   "source": [
    "**Q**: For each season, find the team with the most wins. This will involve creating a DataFrame similar to the one in task 5, and then using the idxmax() function for each season."
   ],
   "metadata": {
    "collapsed": false
   }
  },
  {
   "cell_type": "code",
   "execution_count": 40,
   "outputs": [
    {
     "data": {
      "text/plain": "Season\n1985    (1985, 1385)\n1986    (1986, 1181)\n1987    (1987, 1424)\n1988    (1988, 1112)\n1989    (1989, 1328)\n1990    (1990, 1247)\n1991    (1991, 1116)\n1992    (1992, 1181)\n1993    (1993, 1231)\n1994    (1994, 1163)\n1995    (1995, 1116)\n1996    (1996, 1269)\n1997    (1997, 1242)\n1998    (1998, 1242)\n1999    (1999, 1181)\n2000    (2000, 1409)\n2001    (2001, 1181)\n2002    (2002, 1153)\n2003    (2003, 1166)\n2004    (2004, 1390)\n2005    (2005, 1228)\n2006    (2006, 1181)\n2007    (2007, 1242)\n2008    (2008, 1272)\n2009    (2009, 1272)\n2010    (2010, 1242)\n2011    (2011, 1242)\n2012    (2012, 1246)\n2013    (2013, 1211)\n2014    (2014, 1455)\n2015    (2015, 1246)\n2016    (2016, 1242)\nName: Wteam, dtype: object"
     },
     "execution_count": 40,
     "metadata": {},
     "output_type": "execute_result"
    }
   ],
   "source": [
    "# Write your code here\n",
    "# same as before just with count instead of mean\n",
    "grouped = df.groupby([\"Season\", \"Wteam\"])[\"Wteam\"].count()\n",
    "grouped.groupby(level=0).idxmax()\n"
   ],
   "metadata": {
    "collapsed": false,
    "pycharm": {
     "name": "#%%\n"
    }
   }
  },
  {
   "cell_type": "markdown",
   "source": [
    "**Q**: Group the DataFrame by losing team and find the average losing score for each team across all seasons. Compare this with the average winning score for each team from task 3. Are there teams that have a higher average losing score than winning score?"
   ],
   "metadata": {
    "collapsed": false
   }
  },
  {
   "cell_type": "code",
   "execution_count": 41,
   "metadata": {},
   "outputs": [
    {
     "data": {
      "text/plain": "Wteam\n1118     2.309524\n1327     6.315789\n1429     6.647949\n1370     6.714629\n1215     8.018519\n          ...    \n1231    16.245717\n1116    17.301882\n1101    17.524904\n1380    17.953691\n1258    19.278857\nLength: 364, dtype: float64"
     },
     "execution_count": 41,
     "metadata": {},
     "output_type": "execute_result"
    }
   ],
   "source": [
    "# Write your code here\n",
    "\"\"\"\n",
    "We can conclude that none of the teams have a higher average losing core than average winning score\n",
    "\"\"\"\n",
    "(df.groupby(\"Wteam\")[\"Wscore\"].mean() - df.groupby(\"Lteam\")[\"Lscore\"].mean()).sort_values()"
   ]
  },
  {
   "attachments": {},
   "cell_type": "markdown",
   "metadata": {},
   "source": [
    "# Dataframe Iteration"
   ]
  },
  {
   "attachments": {},
   "cell_type": "markdown",
   "metadata": {},
   "source": [
    "In order to iterate through dataframes, we can use the **iterrows()** function. Below is an example of what the first two rows look like. Each row in iterrows is a Series object"
   ]
  },
  {
   "cell_type": "code",
   "execution_count": 42,
   "metadata": {
    "collapsed": false
   },
   "outputs": [
    {
     "name": "stdout",
     "output_type": "stream",
     "text": [
      "Season             1985\n",
      "Daynum               20\n",
      "Wteam              1228\n",
      "Wscore               81\n",
      "Lteam              1328\n",
      "Lscore               64\n",
      "Wloc                  N\n",
      "Numot                 0\n",
      "ScoreDifference      17\n",
      "Name: 0, dtype: object\n",
      "Season             1985\n",
      "Daynum               25\n",
      "Wteam              1106\n",
      "Wscore               77\n",
      "Lteam              1354\n",
      "Lscore               70\n",
      "Wloc                  H\n",
      "Numot                 0\n",
      "ScoreDifference       7\n",
      "Name: 1, dtype: object\n"
     ]
    }
   ],
   "source": [
    "for index, row in df.iterrows():\n",
    "    print(row)\n",
    "    if index == 1:\n",
    "        break"
   ]
  },
  {
   "attachments": {},
   "cell_type": "markdown",
   "metadata": {},
   "source": [
    "**Q**: Create a new column 'HighScoringGame' that is 'Yes' if the winning score is greater than 100 and 'No' otherwise. This will require iterating over the rows of the DataFrame and checking the value of the winning score for each row."
   ]
  },
  {
   "cell_type": "code",
   "execution_count": 43,
   "metadata": {},
   "outputs": [
    {
     "data": {
      "text/plain": "        Season  Daynum  Wteam  Wscore  Lteam  Lscore Wloc  Numot  \\\n0         1985      20   1228      81   1328      64    N      0   \n1         1985      25   1106      77   1354      70    H      0   \n2         1985      25   1112      63   1223      56    H      0   \n3         1985      25   1165      70   1432      54    H      0   \n4         1985      25   1192      86   1447      74    H      0   \n...        ...     ...    ...     ...    ...     ...  ...    ...   \n145284    2016     132   1114      70   1419      50    N      0   \n145285    2016     132   1163      72   1272      58    N      0   \n145286    2016     132   1246      82   1401      77    N      1   \n145287    2016     132   1277      66   1345      62    N      0   \n145288    2016     132   1386      87   1433      74    N      0   \n\n        ScoreDifference HighScoringGame  \n0                    17              No  \n1                     7              No  \n2                     7              No  \n3                    16              No  \n4                    12              No  \n...                 ...             ...  \n145284               20              No  \n145285               14              No  \n145286                5              No  \n145287                4              No  \n145288               13              No  \n\n[145289 rows x 10 columns]",
      "text/html": "<div>\n<style scoped>\n    .dataframe tbody tr th:only-of-type {\n        vertical-align: middle;\n    }\n\n    .dataframe tbody tr th {\n        vertical-align: top;\n    }\n\n    .dataframe thead th {\n        text-align: right;\n    }\n</style>\n<table border=\"1\" class=\"dataframe\">\n  <thead>\n    <tr style=\"text-align: right;\">\n      <th></th>\n      <th>Season</th>\n      <th>Daynum</th>\n      <th>Wteam</th>\n      <th>Wscore</th>\n      <th>Lteam</th>\n      <th>Lscore</th>\n      <th>Wloc</th>\n      <th>Numot</th>\n      <th>ScoreDifference</th>\n      <th>HighScoringGame</th>\n    </tr>\n  </thead>\n  <tbody>\n    <tr>\n      <th>0</th>\n      <td>1985</td>\n      <td>20</td>\n      <td>1228</td>\n      <td>81</td>\n      <td>1328</td>\n      <td>64</td>\n      <td>N</td>\n      <td>0</td>\n      <td>17</td>\n      <td>No</td>\n    </tr>\n    <tr>\n      <th>1</th>\n      <td>1985</td>\n      <td>25</td>\n      <td>1106</td>\n      <td>77</td>\n      <td>1354</td>\n      <td>70</td>\n      <td>H</td>\n      <td>0</td>\n      <td>7</td>\n      <td>No</td>\n    </tr>\n    <tr>\n      <th>2</th>\n      <td>1985</td>\n      <td>25</td>\n      <td>1112</td>\n      <td>63</td>\n      <td>1223</td>\n      <td>56</td>\n      <td>H</td>\n      <td>0</td>\n      <td>7</td>\n      <td>No</td>\n    </tr>\n    <tr>\n      <th>3</th>\n      <td>1985</td>\n      <td>25</td>\n      <td>1165</td>\n      <td>70</td>\n      <td>1432</td>\n      <td>54</td>\n      <td>H</td>\n      <td>0</td>\n      <td>16</td>\n      <td>No</td>\n    </tr>\n    <tr>\n      <th>4</th>\n      <td>1985</td>\n      <td>25</td>\n      <td>1192</td>\n      <td>86</td>\n      <td>1447</td>\n      <td>74</td>\n      <td>H</td>\n      <td>0</td>\n      <td>12</td>\n      <td>No</td>\n    </tr>\n    <tr>\n      <th>...</th>\n      <td>...</td>\n      <td>...</td>\n      <td>...</td>\n      <td>...</td>\n      <td>...</td>\n      <td>...</td>\n      <td>...</td>\n      <td>...</td>\n      <td>...</td>\n      <td>...</td>\n    </tr>\n    <tr>\n      <th>145284</th>\n      <td>2016</td>\n      <td>132</td>\n      <td>1114</td>\n      <td>70</td>\n      <td>1419</td>\n      <td>50</td>\n      <td>N</td>\n      <td>0</td>\n      <td>20</td>\n      <td>No</td>\n    </tr>\n    <tr>\n      <th>145285</th>\n      <td>2016</td>\n      <td>132</td>\n      <td>1163</td>\n      <td>72</td>\n      <td>1272</td>\n      <td>58</td>\n      <td>N</td>\n      <td>0</td>\n      <td>14</td>\n      <td>No</td>\n    </tr>\n    <tr>\n      <th>145286</th>\n      <td>2016</td>\n      <td>132</td>\n      <td>1246</td>\n      <td>82</td>\n      <td>1401</td>\n      <td>77</td>\n      <td>N</td>\n      <td>1</td>\n      <td>5</td>\n      <td>No</td>\n    </tr>\n    <tr>\n      <th>145287</th>\n      <td>2016</td>\n      <td>132</td>\n      <td>1277</td>\n      <td>66</td>\n      <td>1345</td>\n      <td>62</td>\n      <td>N</td>\n      <td>0</td>\n      <td>4</td>\n      <td>No</td>\n    </tr>\n    <tr>\n      <th>145288</th>\n      <td>2016</td>\n      <td>132</td>\n      <td>1386</td>\n      <td>87</td>\n      <td>1433</td>\n      <td>74</td>\n      <td>N</td>\n      <td>0</td>\n      <td>13</td>\n      <td>No</td>\n    </tr>\n  </tbody>\n</table>\n<p>145289 rows × 10 columns</p>\n</div>"
     },
     "execution_count": 43,
     "metadata": {},
     "output_type": "execute_result"
    }
   ],
   "source": [
    "# Write your code here\n",
    "# I iterate over each row to calculate the value for each row\n",
    "highScoringGame = []\n",
    "for index, row in df.iterrows():\n",
    "    #Here is set the value to yes if the winning score is greater than 100\n",
    "    highScoringGame.append(\"Yes\" if row[\"Wscore\"] > 100 else \"No\")\n",
    "#Here I create a new dataframe and append the column\n",
    "newDf = df\n",
    "newDf[\"HighScoringGame\"] = highScoringGame\n",
    "newDf"
   ]
  },
  {
   "attachments": {},
   "cell_type": "markdown",
   "metadata": {},
   "source": [
    "**Q**: Calculate the total number of games played by each team, whether they won or lost. This will require iterating over the rows of the DataFrame and updating a dictionary that keeps track of the number of games for each team."
   ]
  },
  {
   "cell_type": "code",
   "execution_count": 44,
   "metadata": {},
   "outputs": [
    {
     "data": {
      "text/plain": "{1328: 295,\n 1354: 469,\n 1223: 243,\n 1432: 41,\n 1447: 478,\n 1337: 450,\n 1226: 550,\n 1268: 364,\n 1133: 476,\n 1424: 289,\n 1288: 596,\n 1438: 384,\n 1411: 489,\n 1397: 417,\n 1225: 490,\n 1368: 513,\n 1391: 538,\n 1306: 619,\n 1388: 391,\n 1184: 475,\n 1159: 554,\n 1216: 548,\n 1134: 150,\n 1296: 530,\n 1265: 514,\n 1416: 470,\n 1137: 388,\n 1149: 504,\n 1102: 531,\n 1114: 409,\n 1332: 419,\n 1317: 516,\n 1231: 338,\n 1145: 511,\n 1453: 400,\n 1186: 521,\n 1144: 543,\n 1384: 557,\n 1248: 507,\n 1287: 501,\n 1334: 441,\n 1417: 311,\n 1126: 603,\n 1152: 660,\n 1228: 332,\n 1347: 453,\n 1428: 340,\n 1436: 428,\n 1172: 372,\n 1330: 399,\n 1121: 127,\n 1249: 493,\n 1440: 544,\n 1200: 562,\n 1264: 472,\n 1242: 189,\n 1455: 407,\n 1414: 504,\n 1387: 427,\n 1183: 501,\n 1211: 258,\n 1284: 492,\n 1402: 510,\n 1178: 478,\n 1364: 408,\n 1290: 510,\n 1202: 514,\n 1180: 404,\n 1155: 415,\n 1258: 546,\n 1192: 483,\n 1341: 645,\n 1135: 525,\n 1254: 521,\n 1151: 386,\n 1220: 462,\n 1405: 471,\n 1238: 508,\n 1431: 365,\n 1253: 466,\n 1363: 612,\n 1270: 491,\n 1331: 383,\n 1434: 418,\n 1365: 447,\n 1442: 535,\n 1456: 555,\n 1227: 508,\n 1406: 548,\n 1260: 531,\n 1117: 452,\n 1163: 298,\n 1305: 416,\n 1247: 468,\n 1165: 476,\n 1418: 432,\n 1281: 364,\n 1109: 127,\n 1309: 400,\n 1321: 567,\n 1285: 347,\n 1271: 660,\n 1351: 451,\n 1267: 446,\n 1373: 406,\n 1322: 488,\n 1187: 524,\n 1245: 385,\n 1150: 424,\n 1409: 362,\n 1141: 551,\n 1412: 368,\n 1221: 450,\n 1122: 466,\n 1199: 418,\n 1399: 461,\n 1197: 567,\n 1140: 338,\n 1444: 459,\n 1398: 550,\n 1162: 517,\n 1239: 508,\n 1218: 445,\n 1349: 541,\n 1222: 448,\n 1383: 515,\n 1379: 436,\n 1463: 445,\n 1259: 555,\n 1423: 460,\n 1123: 429,\n 1106: 461,\n 1441: 536,\n 1292: 399,\n 1209: 490,\n 1375: 430,\n 1336: 485,\n 1344: 426,\n 1343: 305,\n 1386: 412,\n 1232: 532,\n 1241: 484,\n 1110: 487,\n 1335: 391,\n 1283: 388,\n 1325: 401,\n 1206: 436,\n 1166: 378,\n 1311: 543,\n 1147: 463,\n 1433: 363,\n 1250: 499,\n 1452: 368,\n 1425: 474,\n 1208: 426,\n 1119: 585,\n 1286: 457,\n 1307: 332,\n 1116: 355,\n 1246: 234,\n 1263: 524,\n 1446: 34,\n 1382: 512,\n 1427: 452,\n 1113: 458,\n 1161: 427,\n 1396: 323,\n 1350: 397,\n 1201: 453,\n 1429: 339,\n 1450: 507,\n 1338: 344,\n 1320: 435,\n 1448: 411,\n 1131: 422,\n 1190: 413,\n 1129: 385,\n 1400: 330,\n 1224: 610,\n 1154: 563,\n 1215: 93,\n 1403: 461,\n 1185: 494,\n 1378: 527,\n 1234: 388,\n 1212: 595,\n 1461: 426,\n 1451: 372,\n 1160: 485,\n 1229: 422,\n 1111: 465,\n 1139: 341,\n 1280: 426,\n 1279: 432,\n 1371: 427,\n 1156: 451,\n 1345: 336,\n 1464: 572,\n 1191: 449,\n 1299: 505,\n 1298: 490,\n 1310: 493,\n 1168: 511,\n 1352: 468,\n 1269: 410,\n 1360: 462,\n 1426: 473,\n 1380: 434,\n 1175: 543,\n 1132: 459,\n 1257: 312,\n 1339: 547,\n 1327: 19,\n 1203: 423,\n 1319: 486,\n 1462: 273,\n 1273: 515,\n 1275: 425,\n 1323: 365,\n 1261: 411,\n 1308: 363,\n 1179: 542,\n 1443: 369,\n 1104: 366,\n 1173: 407,\n 1359: 496,\n 1318: 463,\n 1143: 389,\n 1348: 466,\n 1376: 463,\n 1408: 421,\n 1193: 504,\n 1410: 566,\n 1395: 482,\n 1356: 412,\n 1124: 448,\n 1171: 530,\n 1353: 534,\n 1389: 515,\n 1419: 465,\n 1210: 423,\n 1235: 399,\n 1278: 433,\n 1326: 346,\n 1103: 392,\n 1458: 356,\n 1182: 565,\n 1204: 445,\n 1177: 483,\n 1301: 421,\n 1266: 359,\n 1385: 411,\n 1329: 354,\n 1439: 466,\n 1108: 570,\n 1112: 235,\n 1153: 318,\n 1390: 341,\n 1174: 456,\n 1333: 498,\n 1401: 454,\n 1120: 463,\n 1449: 433,\n 1243: 407,\n 1435: 400,\n 1233: 414,\n 1304: 443,\n 1293: 288,\n 1277: 299,\n 1361: 447,\n 1437: 354,\n 1276: 363,\n 1196: 337,\n 1314: 249,\n 1256: 397,\n 1393: 255,\n 1217: 437,\n 1130: 459,\n 1272: 300,\n 1181: 194,\n 1207: 313,\n 1374: 450,\n 1164: 472,\n 1362: 468,\n 1274: 413,\n 1118: 21,\n 1420: 547,\n 1372: 376,\n 1157: 412,\n 1421: 453,\n 1358: 421,\n 1148: 501,\n 1457: 407,\n 1198: 508,\n 1460: 398,\n 1291: 463,\n 1381: 454,\n 1251: 454,\n 1282: 450,\n 1169: 425,\n 1302: 138,\n 1454: 370,\n 1170: 490,\n 1138: 398,\n 1422: 423,\n 1369: 422,\n 1158: 228,\n 1404: 439,\n 1194: 429,\n 1407: 350,\n 1142: 368,\n 1214: 294,\n 1459: 330,\n 1240: 363,\n 1313: 300,\n 1115: 373,\n 1176: 285,\n 1346: 270,\n 1237: 285,\n 1340: 267,\n 1107: 261,\n 1357: 316,\n 1324: 243,\n 1189: 294,\n 1105: 268,\n 1392: 256,\n 1125: 185,\n 1219: 258,\n 1289: 42,\n 1415: 286,\n 1127: 285,\n 1236: 232,\n 1205: 241,\n 1128: 39,\n 1252: 219,\n 1366: 264,\n 1394: 200,\n 1294: 204,\n 1255: 261,\n 1430: 164,\n 1413: 229,\n 1355: 158,\n 1244: 240,\n 1295: 122,\n 1316: 206,\n 1445: 81,\n 1146: 205,\n 1312: 190,\n 1167: 159,\n 1300: 142,\n 1367: 166,\n 1342: 193,\n 1195: 144,\n 1188: 156,\n 1377: 121,\n 1136: 162,\n 1370: 127,\n 1315: 129,\n 1303: 78,\n 1297: 75,\n 1213: 34,\n 1262: 53,\n 1101: 58,\n 1230: 27}"
     },
     "execution_count": 44,
     "metadata": {},
     "output_type": "execute_result"
    }
   ],
   "source": [
    "# Write your code here\n",
    "# Initialize dictionaties\n",
    "wins = {}\n",
    "losses = {}\n",
    "for index, row in df.iterrows():\n",
    "    #Find the winner and loser\n",
    "    winner = row['Wteam']\n",
    "    loser = row['Lteam']\n",
    "    # If no record is in the dict create an initial value before incrementing\n",
    "    if winner not in wins.keys():\n",
    "        wins[winner] = 0\n",
    "    wins[winner] += 1\n",
    "    # ditto\n",
    "    if loser not in losses.keys():\n",
    "        losses[loser] = 0\n",
    "    losses[loser] += 1\n",
    "\n",
    "wins\n",
    "losses"
   ]
  },
  {
   "attachments": {},
   "cell_type": "markdown",
   "metadata": {},
   "source": [
    "**Q**: For each season, find the game with the highest score difference (winning score - losing score). This will require iterating over the rows of the DataFrame, keeping track of the highest score difference for each season, and updating it if a game with a higher score difference is found."
   ]
  },
  {
   "cell_type": "code",
   "execution_count": 45,
   "metadata": {},
   "outputs": [
    {
     "data": {
      "text/plain": "{1985: 60,\n 1986: 84,\n 1987: 73,\n 1988: 68,\n 1989: 70,\n 1990: 76,\n 1991: 68,\n 1992: 82,\n 1993: 81,\n 1994: 69,\n 1995: 74,\n 1996: 91,\n 1997: 80,\n 1998: 66,\n 1999: 75,\n 2000: 75,\n 2001: 75,\n 2002: 59,\n 2003: 72,\n 2004: 70,\n 2005: 64,\n 2006: 72,\n 2007: 74,\n 2008: 70,\n 2009: 68,\n 2010: 75,\n 2011: 69,\n 2012: 62,\n 2013: 58,\n 2014: 74,\n 2015: 69,\n 2016: 73}"
     },
     "execution_count": 45,
     "metadata": {},
     "output_type": "execute_result"
    }
   ],
   "source": [
    "# Write your code here\n",
    "highScoringDiff = { season : 0 for  season in df[\"Season\"]}\n",
    "for index, row in df.iterrows():\n",
    "    diff = row[\"Wscore\"] - row[\"Lscore\"]\n",
    "    if highScoringDiff[row[\"Season\"]] < diff:\n",
    "        highScoringDiff[row[\"Season\"]] = diff\n",
    "\n",
    "highScoringDiff"
   ]
  },
  {
   "attachments": {},
   "cell_type": "markdown",
   "metadata": {},
   "source": [
    "Remember, iterating over a DataFrame should generally be avoided if a vectorized operation can be used instead, as vectorized operations are usually much faster. However, these tasks are designed to give practice with DataFrame iteration for cases where it might be necessary."
   ]
  },
  {
   "attachments": {},
   "cell_type": "markdown",
   "metadata": {},
   "source": [
    "Vectorized Operation Example: Create a new column 'HighScoringGame' in the DataFrame using a vectorized operation. This column should contain 'Yes' if the winning score is greater than 100 and 'No' otherwise. Use the np.where function from the numpy library for this task."
   ]
  },
  {
   "cell_type": "code",
   "execution_count": 46,
   "metadata": {},
   "outputs": [],
   "source": [
    "import numpy as np\n",
    "df['HighScoringGame'] = np.where(df['Wscore'] > 100, 'Yes', 'No')"
   ]
  },
  {
   "attachments": {},
   "cell_type": "markdown",
   "metadata": {},
   "source": [
    "**Q**: Vectorized Operation: Calculate the total number of games played by each team, whether they won or lost. Instead of iterating over the DataFrame, use the value_counts() function on the winning team and losing team columns separately, and then add the two Series together."
   ]
  },
  {
   "cell_type": "code",
   "execution_count": 1,
   "metadata": {},
   "outputs": [
    {
     "ename": "NameError",
     "evalue": "name 'pd' is not defined",
     "output_type": "error",
     "traceback": [
      "\u001B[1;31m---------------------------------------------------------------------------\u001B[0m",
      "\u001B[1;31mNameError\u001B[0m                                 Traceback (most recent call last)",
      "\u001B[1;32m<ipython-input-1-f46c7fe4424b>\u001B[0m in \u001B[0;36m<module>\u001B[1;34m\u001B[0m\n\u001B[0;32m      1\u001B[0m \u001B[1;31m# Write your code here\u001B[0m\u001B[1;33m\u001B[0m\u001B[1;33m\u001B[0m\u001B[1;33m\u001B[0m\u001B[0m\n\u001B[1;32m----> 2\u001B[1;33m \u001B[0mwind_and_losses\u001B[0m \u001B[1;33m=\u001B[0m \u001B[0mpd\u001B[0m\u001B[1;33m.\u001B[0m\u001B[0mDataFrame\u001B[0m\u001B[1;33m(\u001B[0m\u001B[1;33m{\u001B[0m\u001B[1;34m\"wins\"\u001B[0m\u001B[1;33m:\u001B[0m \u001B[0mdf\u001B[0m\u001B[1;33m[\u001B[0m\u001B[1;34m\"Wteam\"\u001B[0m\u001B[1;33m]\u001B[0m\u001B[1;33m.\u001B[0m\u001B[0mvalue_counts\u001B[0m\u001B[1;33m(\u001B[0m\u001B[1;33m)\u001B[0m\u001B[1;33m,\u001B[0m \u001B[1;34m\"losses\"\u001B[0m\u001B[1;33m:\u001B[0m \u001B[0mdf\u001B[0m\u001B[1;33m[\u001B[0m\u001B[1;34m\"Lteam\"\u001B[0m\u001B[1;33m]\u001B[0m\u001B[1;33m.\u001B[0m\u001B[0mvalue_counts\u001B[0m\u001B[1;33m(\u001B[0m\u001B[1;33m)\u001B[0m\u001B[1;33m}\u001B[0m\u001B[1;33m)\u001B[0m\u001B[1;33m\u001B[0m\u001B[1;33m\u001B[0m\u001B[0m\n\u001B[0m\u001B[0;32m      3\u001B[0m \u001B[0mwind_and_losses\u001B[0m\u001B[1;33m[\u001B[0m\u001B[1;34m\"total\"\u001B[0m\u001B[1;33m]\u001B[0m \u001B[1;33m=\u001B[0m \u001B[0mwind_and_losses\u001B[0m\u001B[1;33m[\u001B[0m\u001B[1;34m\"wins\"\u001B[0m\u001B[1;33m]\u001B[0m \u001B[1;33m+\u001B[0m \u001B[0mwind_and_losses\u001B[0m\u001B[1;33m[\u001B[0m\u001B[1;34m\"losses\"\u001B[0m\u001B[1;33m]\u001B[0m\u001B[1;33m\u001B[0m\u001B[1;33m\u001B[0m\u001B[0m\n\u001B[0;32m      4\u001B[0m \u001B[0mwind_and_losses\u001B[0m\u001B[1;33m\u001B[0m\u001B[1;33m\u001B[0m\u001B[0m\n",
      "\u001B[1;31mNameError\u001B[0m: name 'pd' is not defined"
     ]
    }
   ],
   "source": [
    "# Write your code here\n",
    "# total is the sum of games played\n",
    "wind_and_losses = pd.DataFrame({\"wins\": df[\"Wteam\"].value_counts(), \"losses\": df[\"Lteam\"].value_counts()})\n",
    "wind_and_losses[\"total\"] = wind_and_losses[\"wins\"] + wind_and_losses[\"losses\"]\n",
    "wind_and_losses"
   ]
  },
  {
   "attachments": {},
   "cell_type": "markdown",
   "metadata": {},
   "source": [
    "**Q**: For each season, find the game with the highest score difference (winning score - losing score). Instead of iterating over the DataFrame, create a new column 'ScoreDifference' using vectorized subtraction, then use the groupby() function and idxmax() function to find the game with the highest score difference for each season."
   ]
  },
  {
   "cell_type": "code",
   "execution_count": 48,
   "metadata": {},
   "outputs": [
    {
     "data": {
      "text/plain": "Season\n1985       236\n1986      4731\n1987      8240\n1988     12046\n1989     16677\n1990     19502\n1991     25161\n1992     27997\n1993     33858\n1994     36404\n1995     39858\n1996     44653\n1997     49033\n1998     52600\n1999     57618\n2000     60616\n2001     65999\n2002     70737\n2003     74791\n2004     79181\n2005     83372\n2006     89542\n2007     94507\n2008     97737\n2009    103723\n2010    108405\n2011    114015\n2012    118699\n2013    124057\n2014    131373\n2015    134590\n2016    140040\nName: ScoreDifference, dtype: int64"
     },
     "execution_count": 48,
     "metadata": {},
     "output_type": "execute_result"
    }
   ],
   "source": [
    "# Write your code here\n",
    "# the score difference column in the print contains the index of the game with the highest score difference\n",
    "df[\"ScoreDifference\"] = df.apply(lambda x : x[\"Wscore\"] - x[\"Lscore\"], axis=1)\n",
    "df.groupby(\"Season\")[\"ScoreDifference\"].idxmax(axis=0)"
   ]
  },
  {
   "attachments": {},
   "cell_type": "markdown",
   "metadata": {},
   "source": [
    "# Extracting Rows and Columns"
   ]
  },
  {
   "attachments": {},
   "cell_type": "markdown",
   "metadata": {},
   "source": [
    "The bracket indexing operator is one way to extract certain columns from a dataframe."
   ]
  },
  {
   "cell_type": "code",
   "execution_count": 49,
   "metadata": {
    "collapsed": false,
    "scrolled": true
   },
   "outputs": [
    {
     "data": {
      "text/plain": "   Wscore  Lscore\n0      81      64\n1      77      70\n2      63      56\n3      70      54\n4      86      74",
      "text/html": "<div>\n<style scoped>\n    .dataframe tbody tr th:only-of-type {\n        vertical-align: middle;\n    }\n\n    .dataframe tbody tr th {\n        vertical-align: top;\n    }\n\n    .dataframe thead th {\n        text-align: right;\n    }\n</style>\n<table border=\"1\" class=\"dataframe\">\n  <thead>\n    <tr style=\"text-align: right;\">\n      <th></th>\n      <th>Wscore</th>\n      <th>Lscore</th>\n    </tr>\n  </thead>\n  <tbody>\n    <tr>\n      <th>0</th>\n      <td>81</td>\n      <td>64</td>\n    </tr>\n    <tr>\n      <th>1</th>\n      <td>77</td>\n      <td>70</td>\n    </tr>\n    <tr>\n      <th>2</th>\n      <td>63</td>\n      <td>56</td>\n    </tr>\n    <tr>\n      <th>3</th>\n      <td>70</td>\n      <td>54</td>\n    </tr>\n    <tr>\n      <th>4</th>\n      <td>86</td>\n      <td>74</td>\n    </tr>\n  </tbody>\n</table>\n</div>"
     },
     "execution_count": 49,
     "metadata": {},
     "output_type": "execute_result"
    }
   ],
   "source": [
    "df[['Wscore', 'Lscore']].head()"
   ]
  },
  {
   "attachments": {},
   "cell_type": "markdown",
   "metadata": {},
   "source": [
    "Notice that you can acheive the same result by using the loc function. Loc is a veryyyy versatile function that can help you in a lot of accessing and extracting tasks."
   ]
  },
  {
   "cell_type": "code",
   "execution_count": 50,
   "metadata": {
    "collapsed": false
   },
   "outputs": [
    {
     "data": {
      "text/plain": "   Wscore  Lscore\n0      81      64\n1      77      70\n2      63      56\n3      70      54\n4      86      74",
      "text/html": "<div>\n<style scoped>\n    .dataframe tbody tr th:only-of-type {\n        vertical-align: middle;\n    }\n\n    .dataframe tbody tr th {\n        vertical-align: top;\n    }\n\n    .dataframe thead th {\n        text-align: right;\n    }\n</style>\n<table border=\"1\" class=\"dataframe\">\n  <thead>\n    <tr style=\"text-align: right;\">\n      <th></th>\n      <th>Wscore</th>\n      <th>Lscore</th>\n    </tr>\n  </thead>\n  <tbody>\n    <tr>\n      <th>0</th>\n      <td>81</td>\n      <td>64</td>\n    </tr>\n    <tr>\n      <th>1</th>\n      <td>77</td>\n      <td>70</td>\n    </tr>\n    <tr>\n      <th>2</th>\n      <td>63</td>\n      <td>56</td>\n    </tr>\n    <tr>\n      <th>3</th>\n      <td>70</td>\n      <td>54</td>\n    </tr>\n    <tr>\n      <th>4</th>\n      <td>86</td>\n      <td>74</td>\n    </tr>\n  </tbody>\n</table>\n</div>"
     },
     "execution_count": 50,
     "metadata": {},
     "output_type": "execute_result"
    }
   ],
   "source": [
    "df.loc[:, ['Wscore', 'Lscore']].head()"
   ]
  },
  {
   "attachments": {},
   "cell_type": "markdown",
   "metadata": {},
   "source": [
    "Note the difference is the return types when you use brackets and when you use double brackets."
   ]
  },
  {
   "cell_type": "code",
   "execution_count": 51,
   "metadata": {
    "collapsed": false
   },
   "outputs": [
    {
     "data": {
      "text/plain": "pandas.core.series.Series"
     },
     "execution_count": 51,
     "metadata": {},
     "output_type": "execute_result"
    }
   ],
   "source": [
    "type(df['Wscore'])"
   ]
  },
  {
   "cell_type": "code",
   "execution_count": 52,
   "metadata": {
    "collapsed": false
   },
   "outputs": [
    {
     "data": {
      "text/plain": "pandas.core.frame.DataFrame"
     },
     "execution_count": 52,
     "metadata": {},
     "output_type": "execute_result"
    }
   ],
   "source": [
    "type(df[['Wscore']])"
   ]
  },
  {
   "attachments": {},
   "cell_type": "markdown",
   "metadata": {},
   "source": [
    "You've seen before that you can access columns through df['col name']. You can access rows by using slicing operations."
   ]
  },
  {
   "cell_type": "code",
   "execution_count": 53,
   "metadata": {
    "collapsed": false
   },
   "outputs": [
    {
     "data": {
      "text/plain": "   Season  Daynum  Wteam  Wscore  Lteam  Lscore Wloc  Numot  ScoreDifference  \\\n0    1985      20   1228      81   1328      64    N      0               17   \n1    1985      25   1106      77   1354      70    H      0                7   \n2    1985      25   1112      63   1223      56    H      0                7   \n\n  HighScoringGame  \n0              No  \n1              No  \n2              No  ",
      "text/html": "<div>\n<style scoped>\n    .dataframe tbody tr th:only-of-type {\n        vertical-align: middle;\n    }\n\n    .dataframe tbody tr th {\n        vertical-align: top;\n    }\n\n    .dataframe thead th {\n        text-align: right;\n    }\n</style>\n<table border=\"1\" class=\"dataframe\">\n  <thead>\n    <tr style=\"text-align: right;\">\n      <th></th>\n      <th>Season</th>\n      <th>Daynum</th>\n      <th>Wteam</th>\n      <th>Wscore</th>\n      <th>Lteam</th>\n      <th>Lscore</th>\n      <th>Wloc</th>\n      <th>Numot</th>\n      <th>ScoreDifference</th>\n      <th>HighScoringGame</th>\n    </tr>\n  </thead>\n  <tbody>\n    <tr>\n      <th>0</th>\n      <td>1985</td>\n      <td>20</td>\n      <td>1228</td>\n      <td>81</td>\n      <td>1328</td>\n      <td>64</td>\n      <td>N</td>\n      <td>0</td>\n      <td>17</td>\n      <td>No</td>\n    </tr>\n    <tr>\n      <th>1</th>\n      <td>1985</td>\n      <td>25</td>\n      <td>1106</td>\n      <td>77</td>\n      <td>1354</td>\n      <td>70</td>\n      <td>H</td>\n      <td>0</td>\n      <td>7</td>\n      <td>No</td>\n    </tr>\n    <tr>\n      <th>2</th>\n      <td>1985</td>\n      <td>25</td>\n      <td>1112</td>\n      <td>63</td>\n      <td>1223</td>\n      <td>56</td>\n      <td>H</td>\n      <td>0</td>\n      <td>7</td>\n      <td>No</td>\n    </tr>\n  </tbody>\n</table>\n</div>"
     },
     "execution_count": 53,
     "metadata": {},
     "output_type": "execute_result"
    }
   ],
   "source": [
    "df[0:3]"
   ]
  },
  {
   "attachments": {},
   "cell_type": "markdown",
   "metadata": {},
   "source": [
    "Here's an equivalent using iloc"
   ]
  },
  {
   "cell_type": "code",
   "execution_count": 54,
   "metadata": {
    "collapsed": false
   },
   "outputs": [
    {
     "data": {
      "text/plain": "   Season  Daynum  Wteam  Wscore  Lteam  Lscore Wloc  Numot  ScoreDifference  \\\n0    1985      20   1228      81   1328      64    N      0               17   \n1    1985      25   1106      77   1354      70    H      0                7   \n2    1985      25   1112      63   1223      56    H      0                7   \n\n  HighScoringGame  \n0              No  \n1              No  \n2              No  ",
      "text/html": "<div>\n<style scoped>\n    .dataframe tbody tr th:only-of-type {\n        vertical-align: middle;\n    }\n\n    .dataframe tbody tr th {\n        vertical-align: top;\n    }\n\n    .dataframe thead th {\n        text-align: right;\n    }\n</style>\n<table border=\"1\" class=\"dataframe\">\n  <thead>\n    <tr style=\"text-align: right;\">\n      <th></th>\n      <th>Season</th>\n      <th>Daynum</th>\n      <th>Wteam</th>\n      <th>Wscore</th>\n      <th>Lteam</th>\n      <th>Lscore</th>\n      <th>Wloc</th>\n      <th>Numot</th>\n      <th>ScoreDifference</th>\n      <th>HighScoringGame</th>\n    </tr>\n  </thead>\n  <tbody>\n    <tr>\n      <th>0</th>\n      <td>1985</td>\n      <td>20</td>\n      <td>1228</td>\n      <td>81</td>\n      <td>1328</td>\n      <td>64</td>\n      <td>N</td>\n      <td>0</td>\n      <td>17</td>\n      <td>No</td>\n    </tr>\n    <tr>\n      <th>1</th>\n      <td>1985</td>\n      <td>25</td>\n      <td>1106</td>\n      <td>77</td>\n      <td>1354</td>\n      <td>70</td>\n      <td>H</td>\n      <td>0</td>\n      <td>7</td>\n      <td>No</td>\n    </tr>\n    <tr>\n      <th>2</th>\n      <td>1985</td>\n      <td>25</td>\n      <td>1112</td>\n      <td>63</td>\n      <td>1223</td>\n      <td>56</td>\n      <td>H</td>\n      <td>0</td>\n      <td>7</td>\n      <td>No</td>\n    </tr>\n  </tbody>\n</table>\n</div>"
     },
     "execution_count": 54,
     "metadata": {},
     "output_type": "execute_result"
    }
   ],
   "source": [
    "df.iloc[0:3,:]"
   ]
  },
  {
   "attachments": {},
   "cell_type": "markdown",
   "metadata": {},
   "source": [
    "# Data Cleaning"
   ]
  },
  {
   "attachments": {},
   "cell_type": "markdown",
   "metadata": {},
   "source": [
    "One of the big jobs of doing well in Kaggle competitions is that of data cleaning. A lot of times, the CSV file you're given (especially like in the Titanic dataset), you'll have a lot of missing values in the dataset, which you have to identify. The following **isnull** function will figure out if there are any missing values in the dataframe, and will then sum up the total for each column. In this case, we have a pretty clean dataset."
   ]
  },
  {
   "cell_type": "code",
   "execution_count": 55,
   "metadata": {
    "collapsed": false
   },
   "outputs": [
    {
     "data": {
      "text/plain": "Season             0\nDaynum             0\nWteam              0\nWscore             0\nLteam              0\nLscore             0\nWloc               0\nNumot              0\nScoreDifference    0\nHighScoringGame    0\ndtype: int64"
     },
     "execution_count": 55,
     "metadata": {},
     "output_type": "execute_result"
    }
   ],
   "source": [
    "df.isnull().sum()"
   ]
  },
  {
   "attachments": {},
   "cell_type": "markdown",
   "metadata": {},
   "source": [
    "If you do end up having missing values in your datasets, be sure to get familiar with these two functions.\n",
    "* **dropna()** - This function allows you to drop all(or some) of the rows that have missing values.\n",
    "* **fillna()** - This function allows you replace the rows that have missing values with the value that you pass in."
   ]
  },
  {
   "attachments": {},
   "cell_type": "markdown",
   "metadata": {},
   "source": [
    "# Other Useful Functions"
   ]
  },
  {
   "attachments": {},
   "cell_type": "markdown",
   "metadata": {},
   "source": [
    "* **drop()** - This function removes the column or row that you pass in (You also have the specify the axis).\n",
    "* **agg()** - The aggregate function lets you compute summary statistics about each group\n",
    "* **apply()** - Lets you apply a specific function to any/all elements in a Dataframe or Series\n",
    "* **get_dummies()** - Helpful for turning categorical data into one hot vectors.\n",
    "* **drop_duplicates()** - Lets you remove identical rows"
   ]
  },
  {
   "attachments": {},
   "cell_type": "markdown",
   "metadata": {
    "collapsed": true
   },
   "source": [
    "# Lots of Other Great Resources"
   ]
  },
  {
   "attachments": {},
   "cell_type": "markdown",
   "metadata": {},
   "source": [
    "Pandas has been around for a while and there are a lot of other good resources if you're still interested on getting the most out of this library.\n",
    "* http://pandas.pydata.org/pandas-docs/stable/10min.html\n",
    "* https://www.datacamp.com/community/tutorials/pandas-tutorial-dataframe-python\n",
    "* http://www.gregreda.com/2013/10/26/intro-to-pandas-data-structures/\n",
    "* https://www.dataquest.io/blog/pandas-python-tutorial/\n",
    "* https://drive.google.com/file/d/0ByIrJAE4KMTtTUtiVExiUGVkRkE/view\n",
    "* https://www.youtube.com/playlist?list=PL5-da3qGB5ICCsgW1MxlZ0Hq8LL5U3u9y\n"
   ]
  }
 ],
 "metadata": {
  "anaconda-cloud": {},
  "kernelspec": {
   "display_name": "base",
   "language": "python",
   "name": "python3"
  },
  "language_info": {
   "codemirror_mode": {
    "name": "ipython",
    "version": 3
   },
   "file_extension": ".py",
   "mimetype": "text/x-python",
   "name": "python",
   "nbconvert_exporter": "python",
   "pygments_lexer": "ipython3",
   "version": "3.9.13"
  }
 },
 "nbformat": 4,
 "nbformat_minor": 1
}